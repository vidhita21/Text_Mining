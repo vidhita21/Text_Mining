{
  "cells": [
    {
      "cell_type": "markdown",
      "id": "afe4d5da",
      "metadata": {
        "id": "afe4d5da"
      },
      "source": [
        "### Problem Statement\n",
        "## Perform sentimental analysis: \n",
        "### 1) Extract reviews of any product from ecommerce website like amazon\n",
        "### 2) Perform emotion mining"
      ]
    },
    {
      "cell_type": "markdown",
      "id": "e827739c",
      "metadata": {
        "id": "e827739c"
      },
      "source": [
        "###  <a id='0.1'>Table of Contents</a>\n",
        "\n",
        "1. __<a href='#1' target='_self'>Multi-page web-scraping</a>__\n",
        "    1. <a href='#4A' target='_self'>Looping through multiple pages</a>\n",
        "1. __<a href='#2' target='_self'>Import Libraries</a>__\n",
        "1. __<a href='#3' target='_self'>Data Exploration</a>__\n",
        "1. __<a href='#4' target='_self'>Feature Engineering</a>__\n",
        "1. __<a href='#5' target='_self'>Data Visualization</a>__\n",
        "1. __<a href='#6' target='_self'>Basic Text Preprocessing</a>__\n",
        "    1. <a href='#6A' target='_self'>For Sentiment Anlaysis</a> \n",
        "1. __<a href='#7' target='_self'>Text Pre-processing Techniques</a>__\n",
        "    1. __<a href='#7A' target='_self'>Pre-processing 'Key Words'</a>__\n",
        "        1. <a href='#7Aa' target='_self'>Removing '@names'</a>\n",
        "        1. <a href='#7Ab' target='_self'>Removing links (http | https)</a>\n",
        "        1. <a href='#7Ac' target='_self'>Removing Reviews with empty text</a>\n",
        "        1. <a href='#7Ad' target='_self'>Dropping duplicate rows</a>\n",
        "        1. <a href='#7Ae' target='_self'>Resetting index</a>\n",
        "        1. <a href='#7Af' target='_self'>Removing Punctuations, Numbers and Special characters</a>\n",
        "        1. <a href='#7Ag' target='_self'>Function to remove emoji</a>\n",
        "        1. <a href='#7Ah' target='_self'>Removing Stop words</a>\n",
        "        1. <a href='#7Ai' target='_self'>Tokenize 'Clean_Reviews'</a>\n",
        "        1. <a href='#7Aj' target='_self'>Converting words to Stemmer</a>\n",
        "        1. <a href='#7Ak' target='_self'>Converting words to Lemma</a>\n",
        "1. __<a href='#8' target='_self'>Basic Feature Extaction'</a>__\n",
        "    1. <a href='#8Aa' target='_self'>A. Applying bag of Words without N grams'</a>\n",
        "    1. <a href='#8Ba' target='_self'>CountVectorizer with N-grams (Bigrams & Trigrams)</a>\n",
        "    1. <a href='#8Ca' target='_self'>TF-IDF Vectorizer</a>\n",
        "    1. <a href='#8Da' target='_self'>Named Entity Recognition (NER)</a>\n",
        "1. __<a href='#9' target='_self'>Feature Extaction</a>__\n",
        "    1. <a href='#9Aa' target='_self'>Feature Extraction for 'Key Words'</a>\n",
        "1. __<a href='#10' target='_self'>Fetch Sentiments</a>__\n",
        "    1. <a href='#10Aa' target='_self'>Using NLTK's SentimentIntensityAnalyzer</a>\n",
        "    1. <a href='#10Ab' target='_self'>Using TextBlob</a>\n",
        "1. __<a href='#11' target='_self'>Story Generation and Visualization</a>__\n",
        "    1. <a href='#11A' target='_self'>Most common words in positive Review</a>\n",
        "    1. <a href='#11B' target='_self'>Most common words in negative Review</a>"
      ]
    },
    {
      "cell_type": "markdown",
      "id": "8fb0da9d",
      "metadata": {
        "id": "8fb0da9d"
      },
      "source": [
        "## <a id='1'>1. Multi-page web-scraping</a>\n",
        "In this, I’m going to show you how to build a multi-page web-scraper in Python.\n",
        "\n",
        "We will be scraping Amazon product reviews data, but the focus will be on looping through multiple pages.\n",
        "\n",
        "If you’re looking for a basic introduction to web-scraping in Python, check out the single page Python web-scraper for Amazon product reviews data.\n",
        "\n",
        "Scraped Amazon product reviews data for some Oneplus Flagship Smartphone\n",
        "Introduction to using Splash and Docker for web-scraping\n",
        "Step-by-step implementation of popular web-scraping Python libraries: BeautifulSoup, requests, and Splash."
      ]
    },
    {
      "cell_type": "code",
      "execution_count": null,
      "id": "b1e419a9",
      "metadata": {
        "id": "b1e419a9"
      },
      "outputs": [],
      "source": [
        "import pandas as pd\n",
        "import requests\n",
        "from tqdm import tqdm_notebook\n",
        "from bs4 import BeautifulSoup"
      ]
    },
    {
      "cell_type": "code",
      "execution_count": null,
      "id": "51442e15",
      "metadata": {
        "id": "51442e15"
      },
      "outputs": [],
      "source": [
        "headers = {\n",
        "    'authority': 'www.amazon.in',\n",
        "    'accept': 'text/html,application/xhtml+xml,application/xml;q=0.9,image/avif,image/webp,image/apng,*/*;q=0.8,application/signed-exchange;v=b3;q=0.9',\n",
        "    'accept-language': 'en-US,en;q=0.9',\n",
        "    'cache-control': 'max-age=0',\n",
        "    # Requests sorts cookies= alphabetically\n",
        "    # 'cookie': 'session-id=259-3113978-6678618; i18n-prefs=INR; ubid-acbin=260-8554202-6973909; lc-acbin=en_IN; csm-hit=tb:BS866TA0AKH6X86N924E+sa-7XYTQAXQHJP5ADH88228-DY27HYE0CK5V9FW24GBD|1656009294944&t:1656009294945&adb:adblk_yes; session-token=Z1j175VoYxPr2Un/9ciL3Q6lKw+QtLYYIwSQ+GLxjT06952u8vOZromD4WcFE0bs+yrUyLPy8HmIn7mTjUt8qsx3n0meC7yWKFqqwDEm5iecYedklsrNwmDrQOiaMH9lpacbdB8kgUk5IbZdg1VyhrdnY4OZrk6r350ARDEXJExuu2GZr0sV4fpbwUes/V9fDrfASeMQhVEEzmEAAHWN2g==; session-id-time=2082758401l',\n",
        "    'device-memory': '8',\n",
        "    'downlink': '10',\n",
        "    'dpr': '0.8',\n",
        "    'ect': '4g',\n",
        "    'referer': 'https://www.amazon.in/OnePlus-Nord-Black-128GB-Storage/dp/B09WQY65HN/ref=sr_1_4?crid=1D99WHM86WX80&keywords=oneplus&qid=1656009113&sprefix=onep%2Caps%2C315&sr=8-4&th=1',\n",
        "    'rtt': '0',\n",
        "    'sec-ch-device-memory': '8',\n",
        "    'sec-ch-dpr': '0.8',\n",
        "    'sec-ch-ua': '\" Not A;Brand\";v=\"99\", \"Chromium\";v=\"102\", \"Google Chrome\";v=\"102\"',\n",
        "    'sec-ch-ua-mobile': '?0',\n",
        "    'sec-ch-ua-platform': '\"Windows\"',\n",
        "    'sec-ch-viewport-width': '2400',\n",
        "    'sec-fetch-dest': 'document',\n",
        "    'sec-fetch-mode': 'navigate',\n",
        "    'sec-fetch-site': 'same-origin',\n",
        "    'sec-fetch-user': '?1',\n",
        "    'service-worker-navigation-preload': 'true',\n",
        "    'upgrade-insecure-requests': '1',\n",
        "    'user-agent': 'Mozilla/5.0 (Windows NT 10.0; Win64; x64) AppleWebKit/537.36 (KHTML, like Gecko) Chrome/102.0.0.0 Safari/537.36',\n",
        "    'viewport-width': '2400',\n",
        "}"
      ]
    },
    {
      "cell_type": "markdown",
      "id": "f2a161e0",
      "metadata": {
        "id": "f2a161e0"
      },
      "source": [
        "### <a id='1A'>A. Looping through multiple pages</a>\n",
        "One of the easiest methods to scrape multiple pages is to modify the base URL to accept a page variable that increments as needed.\n",
        "\n",
        "Try for yourself! See how the URL changes as you go through multiple pages.\n",
        "\n",
        "For Amazon product reviews, the only thing that seems to change is the number indicating which page it is."
      ]
    },
    {
      "cell_type": "markdown",
      "id": "6dcc2e08",
      "metadata": {
        "id": "6dcc2e08"
      },
      "source": [
        "#### Okay, now let’s put this to work in a function:"
      ]
    },
    {
      "cell_type": "code",
      "execution_count": null,
      "id": "8ca0d1f9",
      "metadata": {
        "id": "8ca0d1f9"
      },
      "outputs": [],
      "source": [
        "def get_soup(url):\n",
        "    #r = requests.get('http://localhost:8050/render.html', \n",
        "    # Run this instead if you haven't setup Splash & Docker\n",
        "    r = requests.get(url, headers=headers,\n",
        "    params={'url': url, 'wait': 2})\n",
        "    soup = BeautifulSoup(r.text, 'html.parser')\n",
        "    return soup"
      ]
    },
    {
      "cell_type": "code",
      "execution_count": null,
      "id": "cc95f3ac",
      "metadata": {
        "id": "cc95f3ac"
      },
      "outputs": [],
      "source": [
        "# Initialize list to store reviews data later on\n",
        "reviewlist = []\n",
        "\n",
        "# Function 2: look for web-tags in our soup, then append our data to reviewList\n",
        "def get_reviews(soup):\n",
        "    reviews = soup.find_all('div', {'data-hook': 'review'})\n",
        "    try:\n",
        "        for item in reviews:\n",
        "            review = {\n",
        "            'product': soup.title.text.replace('Amazon.in:Customer reviews: ', '').strip(),    \n",
        "            'date': item.find('span', {'data-hook': 'review-date'}).text.replace('Reviewed in India on', '').strip(),\n",
        "            'title': item.find('a', {'data-hook': 'review-title'}).text.strip(),\n",
        "            'rating':  float(item.find('i', {'data-hook': 'review-star-rating'}).text.replace('out of 5 stars', '').strip()),\n",
        "            'body': item.find('span', {'data-hook': 'review-body'}).text.strip(),\n",
        "            }\n",
        "            reviewlist.append(review)\n",
        "    except:\n",
        "        pass"
      ]
    },
    {
      "cell_type": "code",
      "execution_count": null,
      "id": "c4ee2299",
      "metadata": {
        "id": "c4ee2299"
      },
      "outputs": [],
      "source": [
        "# Initialize list to store reviews data later on\n",
        "reviewlist = []\n",
        "\n",
        "# Function 2: look for web-tags in our soup, then append our data to reviewList\n",
        "def get_reviews(soup):\n",
        "    reviews = soup.find_all('div', {'data-hook': 'review'})\n",
        "    try:\n",
        "        for item in reviews:\n",
        "            review = {\n",
        "            'Rating':  float(item.find('i', {'data-hook': 'review-star-rating'}).text.replace('out of 5 stars', '').strip()),\n",
        "            'Title': item.find('a', {'data-hook': 'review-title'}).text.strip(),\n",
        "            'Review': item.find('span', {'data-hook': 'review-body'}).text.strip(),\n",
        "            'Review_Date': item.find('span', {'data-hook': 'review-date'}).text.replace('Reviewed in India on', '').strip(),\n",
        "            }\n",
        "            reviewlist.append(review)\n",
        "    except:\n",
        "        pass"
      ]
    },
    {
      "cell_type": "markdown",
      "id": "fcded3c6",
      "metadata": {
        "id": "fcded3c6"
      },
      "source": [
        "#### We can even add in a a stop condition. For this one, we can tell Python to look for a greyed out “Next Page” button. To identify this element, use the element inspector.\n",
        "\n",
        "Add this to the bottom of the function above."
      ]
    },
    {
      "cell_type": "code",
      "execution_count": null,
      "id": "7c9bb69b",
      "metadata": {
        "colab": {
          "base_uri": "https://localhost:8080/",
          "height": 121,
          "referenced_widgets": [
            "71219fac5fe247f6b223df27fb5db127",
            "b88dcc6b7e5f4fa29d706ecd902dd912",
            "7b4614a60e6541e6acf04f16c9a9c8f4",
            "a35270f3e2f0426f85ca4c1c822b2b1e",
            "afeabe62092c4420ba2c8dda33a3a02b",
            "7018acefd5ec4e08a0ed3cf570b351ba",
            "e0be991e8aaa4b42867a82b1cc77f824",
            "fcef8843a0204ad2a667c9d0ff9934d8",
            "e44efda92b3246978f780dab7263ec5f",
            "9e0c19e1f8f047678bb1f4348069f31d",
            "5eeb3bca8925404192b21cb14e3168a9"
          ]
        },
        "id": "7c9bb69b",
        "outputId": "b340655f-4321-4ab0-e282-d6e043e5ab18"
      },
      "outputs": [
        {
          "output_type": "stream",
          "name": "stderr",
          "text": [
            "<ipython-input-6-2e47bb25bda7>:2: TqdmDeprecationWarning: This function will be removed in tqdm==5.0.0\n",
            "Please use `tqdm.notebook.tqdm` instead of `tqdm.tqdm_notebook`\n",
            "  for x in tqdm_notebook(range(1,1000)):\n"
          ]
        },
        {
          "output_type": "display_data",
          "data": {
            "text/plain": [
              "  0%|          | 0/999 [00:00<?, ?it/s]"
            ],
            "application/vnd.jupyter.widget-view+json": {
              "version_major": 2,
              "version_minor": 0,
              "model_id": "71219fac5fe247f6b223df27fb5db127"
            }
          },
          "metadata": {}
        }
      ],
      "source": [
        "# loop through 1:x many pages, or until the css selector found only on the last page is found (when the next page button is greyed)\n",
        "for x in tqdm_notebook(range(1,1000)):\n",
        "    soup = get_soup(f'https://www.amazon.in/OnePlus-Nord-Mirror-128GB-Storage/product-reviews/B09RG132Q5/\\\n",
        "    ref=cm_cr_arp_d_paging_btm_next_2?ie=UTF8&reviewerType=all_reviews&pageNumber={x}')\n",
        "    #print(f'Getting page: {x}')\n",
        "    get_reviews(soup)\n",
        "    #print(len(reviewlist))\n",
        "    if not soup.find('li', {'class': 'a-disabled a-last'}):\n",
        "        pass\n",
        "    else:\n",
        "        break"
      ]
    },
    {
      "cell_type": "code",
      "execution_count": null,
      "id": "62a53ee4",
      "metadata": {
        "colab": {
          "base_uri": "https://localhost:8080/",
          "height": 624
        },
        "id": "62a53ee4",
        "outputId": "03cfa82b-331f-4f5e-bf92-666fcbe80d08"
      },
      "outputs": [
        {
          "output_type": "execute_result",
          "data": {
            "text/plain": [
              "      Rating                                           Title  \\\n",
              "0        4.0             Good phone-could have been better !   \n",
              "1        4.0                This is a branded budget phone 📱   \n",
              "2        4.0                      Okay for the budget phone.   \n",
              "3        4.0                          A mildly perfect phone   \n",
              "4        4.0                  Budget friendly reliable phone   \n",
              "...      ...                                             ...   \n",
              "4995     3.0                              Not up to the mark   \n",
              "4996     5.0                                        Awesome.   \n",
              "4997     4.0                                              Ok   \n",
              "4998     5.0              Product is very good performance .   \n",
              "4999     3.0  At a time 2-3 Cab apps using hanging the phone   \n",
              "\n",
              "                                                 Review  \\\n",
              "0     I've purchased the 6GB version of this phone w...   \n",
              "1     This is definitely a budget branded phone 📱 af...   \n",
              "2     Operating system and multitasking is good for ...   \n",
              "3     I will try to keep this review short. This rev...   \n",
              "4     I bought the phone in Jan 2023 @ 18250. Below ...   \n",
              "...                                                 ...   \n",
              "4995  I am using this phone from 3days.Sound quality...   \n",
              "4996                                        Good phone.   \n",
              "4997                                                 Ok   \n",
              "4998  Product is very good performance and Amazon se...   \n",
              "4999  Battery life not good, camara good, fingerprin...   \n",
              "\n",
              "                                   Review_Date  \n",
              "0     Reviewed in India 🇮🇳 on 19 December 2022  \n",
              "1       Reviewed in India 🇮🇳 on 5 January 2023  \n",
              "2         Reviewed in India 🇮🇳 on 3 March 2023  \n",
              "3      Reviewed in India 🇮🇳 on 12 January 2023  \n",
              "4      Reviewed in India 🇮🇳 on 5 February 2023  \n",
              "...                                        ...  \n",
              "4995                               30 May 2022  \n",
              "4996                         22 September 2022  \n",
              "4997                               15 May 2022  \n",
              "4998                              30 June 2022  \n",
              "4999                              14 July 2022  \n",
              "\n",
              "[5000 rows x 4 columns]"
            ],
            "text/html": [
              "\n",
              "  <div id=\"df-39582866-5867-490c-866f-af03416e4b92\">\n",
              "    <div class=\"colab-df-container\">\n",
              "      <div>\n",
              "<style scoped>\n",
              "    .dataframe tbody tr th:only-of-type {\n",
              "        vertical-align: middle;\n",
              "    }\n",
              "\n",
              "    .dataframe tbody tr th {\n",
              "        vertical-align: top;\n",
              "    }\n",
              "\n",
              "    .dataframe thead th {\n",
              "        text-align: right;\n",
              "    }\n",
              "</style>\n",
              "<table border=\"1\" class=\"dataframe\">\n",
              "  <thead>\n",
              "    <tr style=\"text-align: right;\">\n",
              "      <th></th>\n",
              "      <th>Rating</th>\n",
              "      <th>Title</th>\n",
              "      <th>Review</th>\n",
              "      <th>Review_Date</th>\n",
              "    </tr>\n",
              "  </thead>\n",
              "  <tbody>\n",
              "    <tr>\n",
              "      <th>0</th>\n",
              "      <td>4.0</td>\n",
              "      <td>Good phone-could have been better !</td>\n",
              "      <td>I've purchased the 6GB version of this phone w...</td>\n",
              "      <td>Reviewed in India 🇮🇳 on 19 December 2022</td>\n",
              "    </tr>\n",
              "    <tr>\n",
              "      <th>1</th>\n",
              "      <td>4.0</td>\n",
              "      <td>This is a branded budget phone 📱</td>\n",
              "      <td>This is definitely a budget branded phone 📱 af...</td>\n",
              "      <td>Reviewed in India 🇮🇳 on 5 January 2023</td>\n",
              "    </tr>\n",
              "    <tr>\n",
              "      <th>2</th>\n",
              "      <td>4.0</td>\n",
              "      <td>Okay for the budget phone.</td>\n",
              "      <td>Operating system and multitasking is good for ...</td>\n",
              "      <td>Reviewed in India 🇮🇳 on 3 March 2023</td>\n",
              "    </tr>\n",
              "    <tr>\n",
              "      <th>3</th>\n",
              "      <td>4.0</td>\n",
              "      <td>A mildly perfect phone</td>\n",
              "      <td>I will try to keep this review short. This rev...</td>\n",
              "      <td>Reviewed in India 🇮🇳 on 12 January 2023</td>\n",
              "    </tr>\n",
              "    <tr>\n",
              "      <th>4</th>\n",
              "      <td>4.0</td>\n",
              "      <td>Budget friendly reliable phone</td>\n",
              "      <td>I bought the phone in Jan 2023 @ 18250. Below ...</td>\n",
              "      <td>Reviewed in India 🇮🇳 on 5 February 2023</td>\n",
              "    </tr>\n",
              "    <tr>\n",
              "      <th>...</th>\n",
              "      <td>...</td>\n",
              "      <td>...</td>\n",
              "      <td>...</td>\n",
              "      <td>...</td>\n",
              "    </tr>\n",
              "    <tr>\n",
              "      <th>4995</th>\n",
              "      <td>3.0</td>\n",
              "      <td>Not up to the mark</td>\n",
              "      <td>I am using this phone from 3days.Sound quality...</td>\n",
              "      <td>30 May 2022</td>\n",
              "    </tr>\n",
              "    <tr>\n",
              "      <th>4996</th>\n",
              "      <td>5.0</td>\n",
              "      <td>Awesome.</td>\n",
              "      <td>Good phone.</td>\n",
              "      <td>22 September 2022</td>\n",
              "    </tr>\n",
              "    <tr>\n",
              "      <th>4997</th>\n",
              "      <td>4.0</td>\n",
              "      <td>Ok</td>\n",
              "      <td>Ok</td>\n",
              "      <td>15 May 2022</td>\n",
              "    </tr>\n",
              "    <tr>\n",
              "      <th>4998</th>\n",
              "      <td>5.0</td>\n",
              "      <td>Product is very good performance .</td>\n",
              "      <td>Product is very good performance and Amazon se...</td>\n",
              "      <td>30 June 2022</td>\n",
              "    </tr>\n",
              "    <tr>\n",
              "      <th>4999</th>\n",
              "      <td>3.0</td>\n",
              "      <td>At a time 2-3 Cab apps using hanging the phone</td>\n",
              "      <td>Battery life not good, camara good, fingerprin...</td>\n",
              "      <td>14 July 2022</td>\n",
              "    </tr>\n",
              "  </tbody>\n",
              "</table>\n",
              "<p>5000 rows × 4 columns</p>\n",
              "</div>\n",
              "      <button class=\"colab-df-convert\" onclick=\"convertToInteractive('df-39582866-5867-490c-866f-af03416e4b92')\"\n",
              "              title=\"Convert this dataframe to an interactive table.\"\n",
              "              style=\"display:none;\">\n",
              "        \n",
              "  <svg xmlns=\"http://www.w3.org/2000/svg\" height=\"24px\"viewBox=\"0 0 24 24\"\n",
              "       width=\"24px\">\n",
              "    <path d=\"M0 0h24v24H0V0z\" fill=\"none\"/>\n",
              "    <path d=\"M18.56 5.44l.94 2.06.94-2.06 2.06-.94-2.06-.94-.94-2.06-.94 2.06-2.06.94zm-11 1L8.5 8.5l.94-2.06 2.06-.94-2.06-.94L8.5 2.5l-.94 2.06-2.06.94zm10 10l.94 2.06.94-2.06 2.06-.94-2.06-.94-.94-2.06-.94 2.06-2.06.94z\"/><path d=\"M17.41 7.96l-1.37-1.37c-.4-.4-.92-.59-1.43-.59-.52 0-1.04.2-1.43.59L10.3 9.45l-7.72 7.72c-.78.78-.78 2.05 0 2.83L4 21.41c.39.39.9.59 1.41.59.51 0 1.02-.2 1.41-.59l7.78-7.78 2.81-2.81c.8-.78.8-2.07 0-2.86zM5.41 20L4 18.59l7.72-7.72 1.47 1.35L5.41 20z\"/>\n",
              "  </svg>\n",
              "      </button>\n",
              "      \n",
              "  <style>\n",
              "    .colab-df-container {\n",
              "      display:flex;\n",
              "      flex-wrap:wrap;\n",
              "      gap: 12px;\n",
              "    }\n",
              "\n",
              "    .colab-df-convert {\n",
              "      background-color: #E8F0FE;\n",
              "      border: none;\n",
              "      border-radius: 50%;\n",
              "      cursor: pointer;\n",
              "      display: none;\n",
              "      fill: #1967D2;\n",
              "      height: 32px;\n",
              "      padding: 0 0 0 0;\n",
              "      width: 32px;\n",
              "    }\n",
              "\n",
              "    .colab-df-convert:hover {\n",
              "      background-color: #E2EBFA;\n",
              "      box-shadow: 0px 1px 2px rgba(60, 64, 67, 0.3), 0px 1px 3px 1px rgba(60, 64, 67, 0.15);\n",
              "      fill: #174EA6;\n",
              "    }\n",
              "\n",
              "    [theme=dark] .colab-df-convert {\n",
              "      background-color: #3B4455;\n",
              "      fill: #D2E3FC;\n",
              "    }\n",
              "\n",
              "    [theme=dark] .colab-df-convert:hover {\n",
              "      background-color: #434B5C;\n",
              "      box-shadow: 0px 1px 3px 1px rgba(0, 0, 0, 0.15);\n",
              "      filter: drop-shadow(0px 1px 2px rgba(0, 0, 0, 0.3));\n",
              "      fill: #FFFFFF;\n",
              "    }\n",
              "  </style>\n",
              "\n",
              "      <script>\n",
              "        const buttonEl =\n",
              "          document.querySelector('#df-39582866-5867-490c-866f-af03416e4b92 button.colab-df-convert');\n",
              "        buttonEl.style.display =\n",
              "          google.colab.kernel.accessAllowed ? 'block' : 'none';\n",
              "\n",
              "        async function convertToInteractive(key) {\n",
              "          const element = document.querySelector('#df-39582866-5867-490c-866f-af03416e4b92');\n",
              "          const dataTable =\n",
              "            await google.colab.kernel.invokeFunction('convertToInteractive',\n",
              "                                                     [key], {});\n",
              "          if (!dataTable) return;\n",
              "\n",
              "          const docLinkHtml = 'Like what you see? Visit the ' +\n",
              "            '<a target=\"_blank\" href=https://colab.research.google.com/notebooks/data_table.ipynb>data table notebook</a>'\n",
              "            + ' to learn more about interactive tables.';\n",
              "          element.innerHTML = '';\n",
              "          dataTable['output_type'] = 'display_data';\n",
              "          await google.colab.output.renderOutput(dataTable, element);\n",
              "          const docLink = document.createElement('div');\n",
              "          docLink.innerHTML = docLinkHtml;\n",
              "          element.appendChild(docLink);\n",
              "        }\n",
              "      </script>\n",
              "    </div>\n",
              "  </div>\n",
              "  "
            ]
          },
          "metadata": {},
          "execution_count": 7
        }
      ],
      "source": [
        "# Save results to a dataframe, then export as CSV\n",
        "df = pd.DataFrame(reviewlist)\n",
        "df"
      ]
    },
    {
      "cell_type": "code",
      "execution_count": null,
      "id": "ed39c39b",
      "metadata": {
        "id": "ed39c39b"
      },
      "outputs": [],
      "source": [
        "df.to_csv(\"/content/Amazon_Reviews_Oneplus_Nord_CE2.csv\")"
      ]
    },
    {
      "cell_type": "markdown",
      "id": "3d6dd4ae",
      "metadata": {
        "id": "3d6dd4ae"
      },
      "source": [
        "0.1. __<a href='#0.1' target='_self'>Table of Contents:</a>__"
      ]
    },
    {
      "cell_type": "markdown",
      "id": "bc68e8de",
      "metadata": {
        "id": "bc68e8de"
      },
      "source": [
        "## <a id='2'>2. Import Libraries</a>"
      ]
    },
    {
      "cell_type": "code",
      "execution_count": null,
      "id": "231f31fc",
      "metadata": {
        "colab": {
          "base_uri": "https://localhost:8080/"
        },
        "id": "231f31fc",
        "outputId": "4e220d50-5a03-4e9f-a3fc-b9f7325fed42"
      },
      "outputs": [
        {
          "output_type": "stream",
          "name": "stderr",
          "text": [
            "/usr/local/lib/python3.8/dist-packages/torch/cuda/__init__.py:497: UserWarning: Can't initialize NVML\n",
            "  warnings.warn(\"Can't initialize NVML\")\n",
            "[nltk_data] Downloading package stopwords to /root/nltk_data...\n",
            "[nltk_data]   Unzipping corpora/stopwords.zip.\n",
            "[nltk_data] Downloading package wordnet to /root/nltk_data...\n",
            "[nltk_data] Downloading package vader_lexicon to /root/nltk_data...\n",
            "[nltk_data] Downloading package averaged_perceptron_tagger to\n",
            "[nltk_data]     /root/nltk_data...\n",
            "[nltk_data]   Unzipping taggers/averaged_perceptron_tagger.zip.\n",
            "[nltk_data] Downloading package movie_reviews to /root/nltk_data...\n",
            "[nltk_data]   Unzipping corpora/movie_reviews.zip.\n",
            "[nltk_data] Downloading package punkt to /root/nltk_data...\n",
            "[nltk_data]   Unzipping tokenizers/punkt.zip.\n",
            "[nltk_data] Downloading package conll2000 to /root/nltk_data...\n",
            "[nltk_data]   Unzipping corpora/conll2000.zip.\n",
            "[nltk_data] Downloading package brown to /root/nltk_data...\n",
            "[nltk_data]   Unzipping corpora/brown.zip.\n"
          ]
        }
      ],
      "source": [
        "import numpy as np \n",
        "import pandas as pd \n",
        "import matplotlib.pyplot as plt \n",
        "import seaborn as sns\n",
        "import re\n",
        "import time\n",
        "import string\n",
        "import warnings\n",
        "import spacy\n",
        "from tqdm.notebook import tqdm_notebook\n",
        "\n",
        "# for all NLP related operations on text\n",
        "import nltk\n",
        "from nltk.corpus import stopwords\n",
        "from nltk.tokenize import sent_tokenize, word_tokenize\n",
        "from nltk.sentiment.vader import SentimentIntensityAnalyzer\n",
        "from nltk.stem import WordNetLemmatizer\n",
        "from nltk.stem.porter import *\n",
        "from nltk.classify import NaiveBayesClassifier\n",
        "from nltk.stem.porter import PorterStemmer\n",
        "from wordcloud import WordCloud, STOPWORDS\n",
        "from plotly import graph_objs as go\n",
        "import plotly.express as px\n",
        "import plotly.figure_factory as ff\n",
        "from collections import Counter\n",
        "\n",
        "from sklearn.feature_extraction.text import CountVectorizer, TfidfVectorizer\n",
        "from sklearn.linear_model import LogisticRegression\n",
        "from sklearn.model_selection import train_test_split\n",
        "from sklearn.metrics import f1_score, confusion_matrix, accuracy_score, classification_report\n",
        "from sklearn.svm import SVC\n",
        "from sklearn.naive_bayes import GaussianNB\n",
        "\n",
        "# To identify the sentiment of text\n",
        "from textblob import TextBlob\n",
        "from textblob.sentiments import NaiveBayesAnalyzer\n",
        "from textblob.np_extractors import ConllExtractor\n",
        "\n",
        "from sklearn.feature_extraction.text import CountVectorizer \n",
        "from sklearn.pipeline import make_pipeline\n",
        "from nltk.tokenize import RegexpTokenizer\n",
        "\n",
        "# ignoring all the warnings\n",
        "warnings.filterwarnings(\"ignore\", category=DeprecationWarning)\n",
        "\n",
        "# downloading stopwords corpus\n",
        "nltk.download('stopwords')\n",
        "nltk.download('wordnet')\n",
        "nltk.download('vader_lexicon')\n",
        "nltk.download('averaged_perceptron_tagger')\n",
        "nltk.download('movie_reviews')\n",
        "nltk.download('punkt')\n",
        "nltk.download('conll2000')\n",
        "nltk.download('brown')\n",
        "stopwords = set(stopwords.words(\"english\"))\n",
        "\n",
        "# for showing all the plots inline\n",
        "%matplotlib inline"
      ]
    },
    {
      "cell_type": "code",
      "execution_count": null,
      "id": "8ac1ca2d",
      "metadata": {
        "colab": {
          "base_uri": "https://localhost:8080/",
          "height": 624
        },
        "id": "8ac1ca2d",
        "outputId": "51fd0b24-f1b7-41c3-b6ed-7f3424f0d88f"
      },
      "outputs": [
        {
          "output_type": "execute_result",
          "data": {
            "text/plain": [
              "      Rating                                           Title  \\\n",
              "0        4.0             Good phone-could have been better !   \n",
              "1        4.0                This is a branded budget phone 📱   \n",
              "2        4.0                      Okay for the budget phone.   \n",
              "3        4.0                          A mildly perfect phone   \n",
              "4        4.0                  Budget friendly reliable phone   \n",
              "...      ...                                             ...   \n",
              "4995     3.0                              Not up to the mark   \n",
              "4996     5.0                                        Awesome.   \n",
              "4997     4.0                                              Ok   \n",
              "4998     5.0              Product is very good performance .   \n",
              "4999     3.0  At a time 2-3 Cab apps using hanging the phone   \n",
              "\n",
              "                                                 Review  \\\n",
              "0     I've purchased the 6GB version of this phone w...   \n",
              "1     This is definitely a budget branded phone 📱 af...   \n",
              "2     Operating system and multitasking is good for ...   \n",
              "3     I will try to keep this review short. This rev...   \n",
              "4     I bought the phone in Jan 2023 @ 18250. Below ...   \n",
              "...                                                 ...   \n",
              "4995  I am using this phone from 3days.Sound quality...   \n",
              "4996                                        Good phone.   \n",
              "4997                                                 Ok   \n",
              "4998  Product is very good performance and Amazon se...   \n",
              "4999  Battery life not good, camara good, fingerprin...   \n",
              "\n",
              "                                   Review_Date  \n",
              "0     Reviewed in India 🇮🇳 on 19 December 2022  \n",
              "1       Reviewed in India 🇮🇳 on 5 January 2023  \n",
              "2         Reviewed in India 🇮🇳 on 3 March 2023  \n",
              "3      Reviewed in India 🇮🇳 on 12 January 2023  \n",
              "4      Reviewed in India 🇮🇳 on 5 February 2023  \n",
              "...                                        ...  \n",
              "4995                               30 May 2022  \n",
              "4996                         22 September 2022  \n",
              "4997                               15 May 2022  \n",
              "4998                              30 June 2022  \n",
              "4999                              14 July 2022  \n",
              "\n",
              "[5000 rows x 4 columns]"
            ],
            "text/html": [
              "\n",
              "  <div id=\"df-825c6eb0-47f7-4f48-b2ca-84090be697aa\">\n",
              "    <div class=\"colab-df-container\">\n",
              "      <div>\n",
              "<style scoped>\n",
              "    .dataframe tbody tr th:only-of-type {\n",
              "        vertical-align: middle;\n",
              "    }\n",
              "\n",
              "    .dataframe tbody tr th {\n",
              "        vertical-align: top;\n",
              "    }\n",
              "\n",
              "    .dataframe thead th {\n",
              "        text-align: right;\n",
              "    }\n",
              "</style>\n",
              "<table border=\"1\" class=\"dataframe\">\n",
              "  <thead>\n",
              "    <tr style=\"text-align: right;\">\n",
              "      <th></th>\n",
              "      <th>Rating</th>\n",
              "      <th>Title</th>\n",
              "      <th>Review</th>\n",
              "      <th>Review_Date</th>\n",
              "    </tr>\n",
              "  </thead>\n",
              "  <tbody>\n",
              "    <tr>\n",
              "      <th>0</th>\n",
              "      <td>4.0</td>\n",
              "      <td>Good phone-could have been better !</td>\n",
              "      <td>I've purchased the 6GB version of this phone w...</td>\n",
              "      <td>Reviewed in India 🇮🇳 on 19 December 2022</td>\n",
              "    </tr>\n",
              "    <tr>\n",
              "      <th>1</th>\n",
              "      <td>4.0</td>\n",
              "      <td>This is a branded budget phone 📱</td>\n",
              "      <td>This is definitely a budget branded phone 📱 af...</td>\n",
              "      <td>Reviewed in India 🇮🇳 on 5 January 2023</td>\n",
              "    </tr>\n",
              "    <tr>\n",
              "      <th>2</th>\n",
              "      <td>4.0</td>\n",
              "      <td>Okay for the budget phone.</td>\n",
              "      <td>Operating system and multitasking is good for ...</td>\n",
              "      <td>Reviewed in India 🇮🇳 on 3 March 2023</td>\n",
              "    </tr>\n",
              "    <tr>\n",
              "      <th>3</th>\n",
              "      <td>4.0</td>\n",
              "      <td>A mildly perfect phone</td>\n",
              "      <td>I will try to keep this review short. This rev...</td>\n",
              "      <td>Reviewed in India 🇮🇳 on 12 January 2023</td>\n",
              "    </tr>\n",
              "    <tr>\n",
              "      <th>4</th>\n",
              "      <td>4.0</td>\n",
              "      <td>Budget friendly reliable phone</td>\n",
              "      <td>I bought the phone in Jan 2023 @ 18250. Below ...</td>\n",
              "      <td>Reviewed in India 🇮🇳 on 5 February 2023</td>\n",
              "    </tr>\n",
              "    <tr>\n",
              "      <th>...</th>\n",
              "      <td>...</td>\n",
              "      <td>...</td>\n",
              "      <td>...</td>\n",
              "      <td>...</td>\n",
              "    </tr>\n",
              "    <tr>\n",
              "      <th>4995</th>\n",
              "      <td>3.0</td>\n",
              "      <td>Not up to the mark</td>\n",
              "      <td>I am using this phone from 3days.Sound quality...</td>\n",
              "      <td>30 May 2022</td>\n",
              "    </tr>\n",
              "    <tr>\n",
              "      <th>4996</th>\n",
              "      <td>5.0</td>\n",
              "      <td>Awesome.</td>\n",
              "      <td>Good phone.</td>\n",
              "      <td>22 September 2022</td>\n",
              "    </tr>\n",
              "    <tr>\n",
              "      <th>4997</th>\n",
              "      <td>4.0</td>\n",
              "      <td>Ok</td>\n",
              "      <td>Ok</td>\n",
              "      <td>15 May 2022</td>\n",
              "    </tr>\n",
              "    <tr>\n",
              "      <th>4998</th>\n",
              "      <td>5.0</td>\n",
              "      <td>Product is very good performance .</td>\n",
              "      <td>Product is very good performance and Amazon se...</td>\n",
              "      <td>30 June 2022</td>\n",
              "    </tr>\n",
              "    <tr>\n",
              "      <th>4999</th>\n",
              "      <td>3.0</td>\n",
              "      <td>At a time 2-3 Cab apps using hanging the phone</td>\n",
              "      <td>Battery life not good, camara good, fingerprin...</td>\n",
              "      <td>14 July 2022</td>\n",
              "    </tr>\n",
              "  </tbody>\n",
              "</table>\n",
              "<p>5000 rows × 4 columns</p>\n",
              "</div>\n",
              "      <button class=\"colab-df-convert\" onclick=\"convertToInteractive('df-825c6eb0-47f7-4f48-b2ca-84090be697aa')\"\n",
              "              title=\"Convert this dataframe to an interactive table.\"\n",
              "              style=\"display:none;\">\n",
              "        \n",
              "  <svg xmlns=\"http://www.w3.org/2000/svg\" height=\"24px\"viewBox=\"0 0 24 24\"\n",
              "       width=\"24px\">\n",
              "    <path d=\"M0 0h24v24H0V0z\" fill=\"none\"/>\n",
              "    <path d=\"M18.56 5.44l.94 2.06.94-2.06 2.06-.94-2.06-.94-.94-2.06-.94 2.06-2.06.94zm-11 1L8.5 8.5l.94-2.06 2.06-.94-2.06-.94L8.5 2.5l-.94 2.06-2.06.94zm10 10l.94 2.06.94-2.06 2.06-.94-2.06-.94-.94-2.06-.94 2.06-2.06.94z\"/><path d=\"M17.41 7.96l-1.37-1.37c-.4-.4-.92-.59-1.43-.59-.52 0-1.04.2-1.43.59L10.3 9.45l-7.72 7.72c-.78.78-.78 2.05 0 2.83L4 21.41c.39.39.9.59 1.41.59.51 0 1.02-.2 1.41-.59l7.78-7.78 2.81-2.81c.8-.78.8-2.07 0-2.86zM5.41 20L4 18.59l7.72-7.72 1.47 1.35L5.41 20z\"/>\n",
              "  </svg>\n",
              "      </button>\n",
              "      \n",
              "  <style>\n",
              "    .colab-df-container {\n",
              "      display:flex;\n",
              "      flex-wrap:wrap;\n",
              "      gap: 12px;\n",
              "    }\n",
              "\n",
              "    .colab-df-convert {\n",
              "      background-color: #E8F0FE;\n",
              "      border: none;\n",
              "      border-radius: 50%;\n",
              "      cursor: pointer;\n",
              "      display: none;\n",
              "      fill: #1967D2;\n",
              "      height: 32px;\n",
              "      padding: 0 0 0 0;\n",
              "      width: 32px;\n",
              "    }\n",
              "\n",
              "    .colab-df-convert:hover {\n",
              "      background-color: #E2EBFA;\n",
              "      box-shadow: 0px 1px 2px rgba(60, 64, 67, 0.3), 0px 1px 3px 1px rgba(60, 64, 67, 0.15);\n",
              "      fill: #174EA6;\n",
              "    }\n",
              "\n",
              "    [theme=dark] .colab-df-convert {\n",
              "      background-color: #3B4455;\n",
              "      fill: #D2E3FC;\n",
              "    }\n",
              "\n",
              "    [theme=dark] .colab-df-convert:hover {\n",
              "      background-color: #434B5C;\n",
              "      box-shadow: 0px 1px 3px 1px rgba(0, 0, 0, 0.15);\n",
              "      filter: drop-shadow(0px 1px 2px rgba(0, 0, 0, 0.3));\n",
              "      fill: #FFFFFF;\n",
              "    }\n",
              "  </style>\n",
              "\n",
              "      <script>\n",
              "        const buttonEl =\n",
              "          document.querySelector('#df-825c6eb0-47f7-4f48-b2ca-84090be697aa button.colab-df-convert');\n",
              "        buttonEl.style.display =\n",
              "          google.colab.kernel.accessAllowed ? 'block' : 'none';\n",
              "\n",
              "        async function convertToInteractive(key) {\n",
              "          const element = document.querySelector('#df-825c6eb0-47f7-4f48-b2ca-84090be697aa');\n",
              "          const dataTable =\n",
              "            await google.colab.kernel.invokeFunction('convertToInteractive',\n",
              "                                                     [key], {});\n",
              "          if (!dataTable) return;\n",
              "\n",
              "          const docLinkHtml = 'Like what you see? Visit the ' +\n",
              "            '<a target=\"_blank\" href=https://colab.research.google.com/notebooks/data_table.ipynb>data table notebook</a>'\n",
              "            + ' to learn more about interactive tables.';\n",
              "          element.innerHTML = '';\n",
              "          dataTable['output_type'] = 'display_data';\n",
              "          await google.colab.output.renderOutput(dataTable, element);\n",
              "          const docLink = document.createElement('div');\n",
              "          docLink.innerHTML = docLinkHtml;\n",
              "          element.appendChild(docLink);\n",
              "        }\n",
              "      </script>\n",
              "    </div>\n",
              "  </div>\n",
              "  "
            ]
          },
          "metadata": {},
          "execution_count": 14
        }
      ],
      "source": [
        "# load the dataset\n",
        "reviews=pd.read_csv('/content/Amazon_Reviews_Oneplus_Nord_CE2.csv')\n",
        "reviews.drop(['Unnamed: 0'],inplace=True,axis=1)\n",
        "reviews"
      ]
    },
    {
      "cell_type": "markdown",
      "id": "e92ba9ce",
      "metadata": {
        "id": "e92ba9ce"
      },
      "source": [
        "0.1. __<a href='#0.1' target='_self'>Table of Contents:</a>__"
      ]
    },
    {
      "cell_type": "markdown",
      "id": "279b74dd",
      "metadata": {
        "id": "279b74dd"
      },
      "source": [
        "## <a id='3'>3. Data Exploration</a>"
      ]
    },
    {
      "cell_type": "code",
      "execution_count": null,
      "id": "1c39765b",
      "metadata": {
        "colab": {
          "base_uri": "https://localhost:8080/"
        },
        "id": "1c39765b",
        "outputId": "03eb8536-3658-4804-95eb-b07db302425f"
      },
      "outputs": [
        {
          "output_type": "execute_result",
          "data": {
            "text/plain": [
              "count    5000.000000\n",
              "mean        4.196400\n",
              "std         0.818023\n",
              "min         1.000000\n",
              "25%         4.000000\n",
              "50%         4.000000\n",
              "75%         5.000000\n",
              "max         5.000000\n",
              "Name: Rating, dtype: float64"
            ]
          },
          "metadata": {},
          "execution_count": 15
        }
      ],
      "source": [
        "reviews.Rating.describe()"
      ]
    },
    {
      "cell_type": "markdown",
      "id": "a6e6b950",
      "metadata": {
        "id": "a6e6b950"
      },
      "source": [
        "#### Number of Words"
      ]
    },
    {
      "cell_type": "code",
      "execution_count": null,
      "id": "f40e4de5",
      "metadata": {
        "colab": {
          "base_uri": "https://localhost:8080/",
          "height": 206
        },
        "id": "f40e4de5",
        "outputId": "b460e1fc-e720-42f9-b64b-9dc2bed97faa"
      },
      "outputs": [
        {
          "output_type": "execute_result",
          "data": {
            "text/plain": [
              "                                              Review  word_count\n",
              "0  I've purchased the 6GB version of this phone w...         299\n",
              "1  This is definitely a budget branded phone 📱 af...         152\n",
              "2  Operating system and multitasking is good for ...          77\n",
              "3  I will try to keep this review short. This rev...         216\n",
              "4  I bought the phone in Jan 2023 @ 18250. Below ...         192"
            ],
            "text/html": [
              "\n",
              "  <div id=\"df-34e97c44-3297-46d8-822a-6735c763b350\">\n",
              "    <div class=\"colab-df-container\">\n",
              "      <div>\n",
              "<style scoped>\n",
              "    .dataframe tbody tr th:only-of-type {\n",
              "        vertical-align: middle;\n",
              "    }\n",
              "\n",
              "    .dataframe tbody tr th {\n",
              "        vertical-align: top;\n",
              "    }\n",
              "\n",
              "    .dataframe thead th {\n",
              "        text-align: right;\n",
              "    }\n",
              "</style>\n",
              "<table border=\"1\" class=\"dataframe\">\n",
              "  <thead>\n",
              "    <tr style=\"text-align: right;\">\n",
              "      <th></th>\n",
              "      <th>Review</th>\n",
              "      <th>word_count</th>\n",
              "    </tr>\n",
              "  </thead>\n",
              "  <tbody>\n",
              "    <tr>\n",
              "      <th>0</th>\n",
              "      <td>I've purchased the 6GB version of this phone w...</td>\n",
              "      <td>299</td>\n",
              "    </tr>\n",
              "    <tr>\n",
              "      <th>1</th>\n",
              "      <td>This is definitely a budget branded phone 📱 af...</td>\n",
              "      <td>152</td>\n",
              "    </tr>\n",
              "    <tr>\n",
              "      <th>2</th>\n",
              "      <td>Operating system and multitasking is good for ...</td>\n",
              "      <td>77</td>\n",
              "    </tr>\n",
              "    <tr>\n",
              "      <th>3</th>\n",
              "      <td>I will try to keep this review short. This rev...</td>\n",
              "      <td>216</td>\n",
              "    </tr>\n",
              "    <tr>\n",
              "      <th>4</th>\n",
              "      <td>I bought the phone in Jan 2023 @ 18250. Below ...</td>\n",
              "      <td>192</td>\n",
              "    </tr>\n",
              "  </tbody>\n",
              "</table>\n",
              "</div>\n",
              "      <button class=\"colab-df-convert\" onclick=\"convertToInteractive('df-34e97c44-3297-46d8-822a-6735c763b350')\"\n",
              "              title=\"Convert this dataframe to an interactive table.\"\n",
              "              style=\"display:none;\">\n",
              "        \n",
              "  <svg xmlns=\"http://www.w3.org/2000/svg\" height=\"24px\"viewBox=\"0 0 24 24\"\n",
              "       width=\"24px\">\n",
              "    <path d=\"M0 0h24v24H0V0z\" fill=\"none\"/>\n",
              "    <path d=\"M18.56 5.44l.94 2.06.94-2.06 2.06-.94-2.06-.94-.94-2.06-.94 2.06-2.06.94zm-11 1L8.5 8.5l.94-2.06 2.06-.94-2.06-.94L8.5 2.5l-.94 2.06-2.06.94zm10 10l.94 2.06.94-2.06 2.06-.94-2.06-.94-.94-2.06-.94 2.06-2.06.94z\"/><path d=\"M17.41 7.96l-1.37-1.37c-.4-.4-.92-.59-1.43-.59-.52 0-1.04.2-1.43.59L10.3 9.45l-7.72 7.72c-.78.78-.78 2.05 0 2.83L4 21.41c.39.39.9.59 1.41.59.51 0 1.02-.2 1.41-.59l7.78-7.78 2.81-2.81c.8-.78.8-2.07 0-2.86zM5.41 20L4 18.59l7.72-7.72 1.47 1.35L5.41 20z\"/>\n",
              "  </svg>\n",
              "      </button>\n",
              "      \n",
              "  <style>\n",
              "    .colab-df-container {\n",
              "      display:flex;\n",
              "      flex-wrap:wrap;\n",
              "      gap: 12px;\n",
              "    }\n",
              "\n",
              "    .colab-df-convert {\n",
              "      background-color: #E8F0FE;\n",
              "      border: none;\n",
              "      border-radius: 50%;\n",
              "      cursor: pointer;\n",
              "      display: none;\n",
              "      fill: #1967D2;\n",
              "      height: 32px;\n",
              "      padding: 0 0 0 0;\n",
              "      width: 32px;\n",
              "    }\n",
              "\n",
              "    .colab-df-convert:hover {\n",
              "      background-color: #E2EBFA;\n",
              "      box-shadow: 0px 1px 2px rgba(60, 64, 67, 0.3), 0px 1px 3px 1px rgba(60, 64, 67, 0.15);\n",
              "      fill: #174EA6;\n",
              "    }\n",
              "\n",
              "    [theme=dark] .colab-df-convert {\n",
              "      background-color: #3B4455;\n",
              "      fill: #D2E3FC;\n",
              "    }\n",
              "\n",
              "    [theme=dark] .colab-df-convert:hover {\n",
              "      background-color: #434B5C;\n",
              "      box-shadow: 0px 1px 3px 1px rgba(0, 0, 0, 0.15);\n",
              "      filter: drop-shadow(0px 1px 2px rgba(0, 0, 0, 0.3));\n",
              "      fill: #FFFFFF;\n",
              "    }\n",
              "  </style>\n",
              "\n",
              "      <script>\n",
              "        const buttonEl =\n",
              "          document.querySelector('#df-34e97c44-3297-46d8-822a-6735c763b350 button.colab-df-convert');\n",
              "        buttonEl.style.display =\n",
              "          google.colab.kernel.accessAllowed ? 'block' : 'none';\n",
              "\n",
              "        async function convertToInteractive(key) {\n",
              "          const element = document.querySelector('#df-34e97c44-3297-46d8-822a-6735c763b350');\n",
              "          const dataTable =\n",
              "            await google.colab.kernel.invokeFunction('convertToInteractive',\n",
              "                                                     [key], {});\n",
              "          if (!dataTable) return;\n",
              "\n",
              "          const docLinkHtml = 'Like what you see? Visit the ' +\n",
              "            '<a target=\"_blank\" href=https://colab.research.google.com/notebooks/data_table.ipynb>data table notebook</a>'\n",
              "            + ' to learn more about interactive tables.';\n",
              "          element.innerHTML = '';\n",
              "          dataTable['output_type'] = 'display_data';\n",
              "          await google.colab.output.renderOutput(dataTable, element);\n",
              "          const docLink = document.createElement('div');\n",
              "          docLink.innerHTML = docLinkHtml;\n",
              "          element.appendChild(docLink);\n",
              "        }\n",
              "      </script>\n",
              "    </div>\n",
              "  </div>\n",
              "  "
            ]
          },
          "metadata": {},
          "execution_count": 16
        }
      ],
      "source": [
        "reviews['word_count'] = reviews['Review'].apply(lambda x: len(str(x).split(\" \")))\n",
        "reviews[['Review','word_count']].head()"
      ]
    },
    {
      "cell_type": "markdown",
      "id": "bc9a47e7",
      "metadata": {
        "id": "bc9a47e7"
      },
      "source": [
        "#### Number of characters"
      ]
    },
    {
      "cell_type": "code",
      "execution_count": null,
      "id": "ca6a050c",
      "metadata": {
        "colab": {
          "base_uri": "https://localhost:8080/",
          "height": 206
        },
        "id": "ca6a050c",
        "outputId": "fbd455ca-d2f8-4fe2-f10f-7d86d4c76887"
      },
      "outputs": [
        {
          "output_type": "execute_result",
          "data": {
            "text/plain": [
              "                                              Review  char_count\n",
              "0  I've purchased the 6GB version of this phone w...      1715.0\n",
              "1  This is definitely a budget branded phone 📱 af...       807.0\n",
              "2  Operating system and multitasking is good for ...       395.0\n",
              "3  I will try to keep this review short. This rev...      1189.0\n",
              "4  I bought the phone in Jan 2023 @ 18250. Below ...      1127.0"
            ],
            "text/html": [
              "\n",
              "  <div id=\"df-8f103226-4b20-4d78-884b-5abd2e6973d8\">\n",
              "    <div class=\"colab-df-container\">\n",
              "      <div>\n",
              "<style scoped>\n",
              "    .dataframe tbody tr th:only-of-type {\n",
              "        vertical-align: middle;\n",
              "    }\n",
              "\n",
              "    .dataframe tbody tr th {\n",
              "        vertical-align: top;\n",
              "    }\n",
              "\n",
              "    .dataframe thead th {\n",
              "        text-align: right;\n",
              "    }\n",
              "</style>\n",
              "<table border=\"1\" class=\"dataframe\">\n",
              "  <thead>\n",
              "    <tr style=\"text-align: right;\">\n",
              "      <th></th>\n",
              "      <th>Review</th>\n",
              "      <th>char_count</th>\n",
              "    </tr>\n",
              "  </thead>\n",
              "  <tbody>\n",
              "    <tr>\n",
              "      <th>0</th>\n",
              "      <td>I've purchased the 6GB version of this phone w...</td>\n",
              "      <td>1715.0</td>\n",
              "    </tr>\n",
              "    <tr>\n",
              "      <th>1</th>\n",
              "      <td>This is definitely a budget branded phone 📱 af...</td>\n",
              "      <td>807.0</td>\n",
              "    </tr>\n",
              "    <tr>\n",
              "      <th>2</th>\n",
              "      <td>Operating system and multitasking is good for ...</td>\n",
              "      <td>395.0</td>\n",
              "    </tr>\n",
              "    <tr>\n",
              "      <th>3</th>\n",
              "      <td>I will try to keep this review short. This rev...</td>\n",
              "      <td>1189.0</td>\n",
              "    </tr>\n",
              "    <tr>\n",
              "      <th>4</th>\n",
              "      <td>I bought the phone in Jan 2023 @ 18250. Below ...</td>\n",
              "      <td>1127.0</td>\n",
              "    </tr>\n",
              "  </tbody>\n",
              "</table>\n",
              "</div>\n",
              "      <button class=\"colab-df-convert\" onclick=\"convertToInteractive('df-8f103226-4b20-4d78-884b-5abd2e6973d8')\"\n",
              "              title=\"Convert this dataframe to an interactive table.\"\n",
              "              style=\"display:none;\">\n",
              "        \n",
              "  <svg xmlns=\"http://www.w3.org/2000/svg\" height=\"24px\"viewBox=\"0 0 24 24\"\n",
              "       width=\"24px\">\n",
              "    <path d=\"M0 0h24v24H0V0z\" fill=\"none\"/>\n",
              "    <path d=\"M18.56 5.44l.94 2.06.94-2.06 2.06-.94-2.06-.94-.94-2.06-.94 2.06-2.06.94zm-11 1L8.5 8.5l.94-2.06 2.06-.94-2.06-.94L8.5 2.5l-.94 2.06-2.06.94zm10 10l.94 2.06.94-2.06 2.06-.94-2.06-.94-.94-2.06-.94 2.06-2.06.94z\"/><path d=\"M17.41 7.96l-1.37-1.37c-.4-.4-.92-.59-1.43-.59-.52 0-1.04.2-1.43.59L10.3 9.45l-7.72 7.72c-.78.78-.78 2.05 0 2.83L4 21.41c.39.39.9.59 1.41.59.51 0 1.02-.2 1.41-.59l7.78-7.78 2.81-2.81c.8-.78.8-2.07 0-2.86zM5.41 20L4 18.59l7.72-7.72 1.47 1.35L5.41 20z\"/>\n",
              "  </svg>\n",
              "      </button>\n",
              "      \n",
              "  <style>\n",
              "    .colab-df-container {\n",
              "      display:flex;\n",
              "      flex-wrap:wrap;\n",
              "      gap: 12px;\n",
              "    }\n",
              "\n",
              "    .colab-df-convert {\n",
              "      background-color: #E8F0FE;\n",
              "      border: none;\n",
              "      border-radius: 50%;\n",
              "      cursor: pointer;\n",
              "      display: none;\n",
              "      fill: #1967D2;\n",
              "      height: 32px;\n",
              "      padding: 0 0 0 0;\n",
              "      width: 32px;\n",
              "    }\n",
              "\n",
              "    .colab-df-convert:hover {\n",
              "      background-color: #E2EBFA;\n",
              "      box-shadow: 0px 1px 2px rgba(60, 64, 67, 0.3), 0px 1px 3px 1px rgba(60, 64, 67, 0.15);\n",
              "      fill: #174EA6;\n",
              "    }\n",
              "\n",
              "    [theme=dark] .colab-df-convert {\n",
              "      background-color: #3B4455;\n",
              "      fill: #D2E3FC;\n",
              "    }\n",
              "\n",
              "    [theme=dark] .colab-df-convert:hover {\n",
              "      background-color: #434B5C;\n",
              "      box-shadow: 0px 1px 3px 1px rgba(0, 0, 0, 0.15);\n",
              "      filter: drop-shadow(0px 1px 2px rgba(0, 0, 0, 0.3));\n",
              "      fill: #FFFFFF;\n",
              "    }\n",
              "  </style>\n",
              "\n",
              "      <script>\n",
              "        const buttonEl =\n",
              "          document.querySelector('#df-8f103226-4b20-4d78-884b-5abd2e6973d8 button.colab-df-convert');\n",
              "        buttonEl.style.display =\n",
              "          google.colab.kernel.accessAllowed ? 'block' : 'none';\n",
              "\n",
              "        async function convertToInteractive(key) {\n",
              "          const element = document.querySelector('#df-8f103226-4b20-4d78-884b-5abd2e6973d8');\n",
              "          const dataTable =\n",
              "            await google.colab.kernel.invokeFunction('convertToInteractive',\n",
              "                                                     [key], {});\n",
              "          if (!dataTable) return;\n",
              "\n",
              "          const docLinkHtml = 'Like what you see? Visit the ' +\n",
              "            '<a target=\"_blank\" href=https://colab.research.google.com/notebooks/data_table.ipynb>data table notebook</a>'\n",
              "            + ' to learn more about interactive tables.';\n",
              "          element.innerHTML = '';\n",
              "          dataTable['output_type'] = 'display_data';\n",
              "          await google.colab.output.renderOutput(dataTable, element);\n",
              "          const docLink = document.createElement('div');\n",
              "          docLink.innerHTML = docLinkHtml;\n",
              "          element.appendChild(docLink);\n",
              "        }\n",
              "      </script>\n",
              "    </div>\n",
              "  </div>\n",
              "  "
            ]
          },
          "metadata": {},
          "execution_count": 17
        }
      ],
      "source": [
        "reviews['char_count'] = reviews['Review'].str.len() ## this also includes spaces\n",
        "reviews[['Review','char_count']].head()"
      ]
    },
    {
      "cell_type": "markdown",
      "id": "e55733c1",
      "metadata": {
        "id": "e55733c1"
      },
      "source": [
        "#### Average Word Length"
      ]
    },
    {
      "cell_type": "code",
      "execution_count": null,
      "id": "e1603f3f",
      "metadata": {
        "colab": {
          "base_uri": "https://localhost:8080/",
          "height": 206
        },
        "id": "e1603f3f",
        "outputId": "942c1c05-2a27-48b1-9729-6dd23217bd5f"
      },
      "outputs": [
        {
          "output_type": "execute_result",
          "data": {
            "text/plain": [
              "                                              Review  avg_word\n",
              "0  I've purchased the 6GB version of this phone w...  4.755034\n",
              "1  This is definitely a budget branded phone 📱 af...  4.344371\n",
              "2  Operating system and multitasking is good for ...  4.142857\n",
              "3  I will try to keep this review short. This rev...  4.509259\n",
              "4  I bought the phone in Jan 2023 @ 18250. Below ...  4.875000"
            ],
            "text/html": [
              "\n",
              "  <div id=\"df-e1468047-e382-48bf-a549-4b0ffeed61af\">\n",
              "    <div class=\"colab-df-container\">\n",
              "      <div>\n",
              "<style scoped>\n",
              "    .dataframe tbody tr th:only-of-type {\n",
              "        vertical-align: middle;\n",
              "    }\n",
              "\n",
              "    .dataframe tbody tr th {\n",
              "        vertical-align: top;\n",
              "    }\n",
              "\n",
              "    .dataframe thead th {\n",
              "        text-align: right;\n",
              "    }\n",
              "</style>\n",
              "<table border=\"1\" class=\"dataframe\">\n",
              "  <thead>\n",
              "    <tr style=\"text-align: right;\">\n",
              "      <th></th>\n",
              "      <th>Review</th>\n",
              "      <th>avg_word</th>\n",
              "    </tr>\n",
              "  </thead>\n",
              "  <tbody>\n",
              "    <tr>\n",
              "      <th>0</th>\n",
              "      <td>I've purchased the 6GB version of this phone w...</td>\n",
              "      <td>4.755034</td>\n",
              "    </tr>\n",
              "    <tr>\n",
              "      <th>1</th>\n",
              "      <td>This is definitely a budget branded phone 📱 af...</td>\n",
              "      <td>4.344371</td>\n",
              "    </tr>\n",
              "    <tr>\n",
              "      <th>2</th>\n",
              "      <td>Operating system and multitasking is good for ...</td>\n",
              "      <td>4.142857</td>\n",
              "    </tr>\n",
              "    <tr>\n",
              "      <th>3</th>\n",
              "      <td>I will try to keep this review short. This rev...</td>\n",
              "      <td>4.509259</td>\n",
              "    </tr>\n",
              "    <tr>\n",
              "      <th>4</th>\n",
              "      <td>I bought the phone in Jan 2023 @ 18250. Below ...</td>\n",
              "      <td>4.875000</td>\n",
              "    </tr>\n",
              "  </tbody>\n",
              "</table>\n",
              "</div>\n",
              "      <button class=\"colab-df-convert\" onclick=\"convertToInteractive('df-e1468047-e382-48bf-a549-4b0ffeed61af')\"\n",
              "              title=\"Convert this dataframe to an interactive table.\"\n",
              "              style=\"display:none;\">\n",
              "        \n",
              "  <svg xmlns=\"http://www.w3.org/2000/svg\" height=\"24px\"viewBox=\"0 0 24 24\"\n",
              "       width=\"24px\">\n",
              "    <path d=\"M0 0h24v24H0V0z\" fill=\"none\"/>\n",
              "    <path d=\"M18.56 5.44l.94 2.06.94-2.06 2.06-.94-2.06-.94-.94-2.06-.94 2.06-2.06.94zm-11 1L8.5 8.5l.94-2.06 2.06-.94-2.06-.94L8.5 2.5l-.94 2.06-2.06.94zm10 10l.94 2.06.94-2.06 2.06-.94-2.06-.94-.94-2.06-.94 2.06-2.06.94z\"/><path d=\"M17.41 7.96l-1.37-1.37c-.4-.4-.92-.59-1.43-.59-.52 0-1.04.2-1.43.59L10.3 9.45l-7.72 7.72c-.78.78-.78 2.05 0 2.83L4 21.41c.39.39.9.59 1.41.59.51 0 1.02-.2 1.41-.59l7.78-7.78 2.81-2.81c.8-.78.8-2.07 0-2.86zM5.41 20L4 18.59l7.72-7.72 1.47 1.35L5.41 20z\"/>\n",
              "  </svg>\n",
              "      </button>\n",
              "      \n",
              "  <style>\n",
              "    .colab-df-container {\n",
              "      display:flex;\n",
              "      flex-wrap:wrap;\n",
              "      gap: 12px;\n",
              "    }\n",
              "\n",
              "    .colab-df-convert {\n",
              "      background-color: #E8F0FE;\n",
              "      border: none;\n",
              "      border-radius: 50%;\n",
              "      cursor: pointer;\n",
              "      display: none;\n",
              "      fill: #1967D2;\n",
              "      height: 32px;\n",
              "      padding: 0 0 0 0;\n",
              "      width: 32px;\n",
              "    }\n",
              "\n",
              "    .colab-df-convert:hover {\n",
              "      background-color: #E2EBFA;\n",
              "      box-shadow: 0px 1px 2px rgba(60, 64, 67, 0.3), 0px 1px 3px 1px rgba(60, 64, 67, 0.15);\n",
              "      fill: #174EA6;\n",
              "    }\n",
              "\n",
              "    [theme=dark] .colab-df-convert {\n",
              "      background-color: #3B4455;\n",
              "      fill: #D2E3FC;\n",
              "    }\n",
              "\n",
              "    [theme=dark] .colab-df-convert:hover {\n",
              "      background-color: #434B5C;\n",
              "      box-shadow: 0px 1px 3px 1px rgba(0, 0, 0, 0.15);\n",
              "      filter: drop-shadow(0px 1px 2px rgba(0, 0, 0, 0.3));\n",
              "      fill: #FFFFFF;\n",
              "    }\n",
              "  </style>\n",
              "\n",
              "      <script>\n",
              "        const buttonEl =\n",
              "          document.querySelector('#df-e1468047-e382-48bf-a549-4b0ffeed61af button.colab-df-convert');\n",
              "        buttonEl.style.display =\n",
              "          google.colab.kernel.accessAllowed ? 'block' : 'none';\n",
              "\n",
              "        async function convertToInteractive(key) {\n",
              "          const element = document.querySelector('#df-e1468047-e382-48bf-a549-4b0ffeed61af');\n",
              "          const dataTable =\n",
              "            await google.colab.kernel.invokeFunction('convertToInteractive',\n",
              "                                                     [key], {});\n",
              "          if (!dataTable) return;\n",
              "\n",
              "          const docLinkHtml = 'Like what you see? Visit the ' +\n",
              "            '<a target=\"_blank\" href=https://colab.research.google.com/notebooks/data_table.ipynb>data table notebook</a>'\n",
              "            + ' to learn more about interactive tables.';\n",
              "          element.innerHTML = '';\n",
              "          dataTable['output_type'] = 'display_data';\n",
              "          await google.colab.output.renderOutput(dataTable, element);\n",
              "          const docLink = document.createElement('div');\n",
              "          docLink.innerHTML = docLinkHtml;\n",
              "          element.appendChild(docLink);\n",
              "        }\n",
              "      </script>\n",
              "    </div>\n",
              "  </div>\n",
              "  "
            ]
          },
          "metadata": {},
          "execution_count": 18
        }
      ],
      "source": [
        "def avg_word(sentence):\n",
        "  words = str(sentence).split()\n",
        "  return (sum(len(word) for word in words)/len(words))\n",
        "\n",
        "reviews['avg_word'] = reviews['Review'].apply(lambda x: avg_word(x))\n",
        "reviews[['Review','avg_word']].head()"
      ]
    },
    {
      "cell_type": "markdown",
      "id": "ae7ad0e7",
      "metadata": {
        "id": "ae7ad0e7"
      },
      "source": [
        "#### Number of stopwords"
      ]
    },
    {
      "cell_type": "code",
      "execution_count": null,
      "id": "e572f99b",
      "metadata": {
        "colab": {
          "base_uri": "https://localhost:8080/",
          "height": 206
        },
        "id": "e572f99b",
        "outputId": "994714a8-1710-4f58-bf16-ad46e4cffaf9"
      },
      "outputs": [
        {
          "output_type": "execute_result",
          "data": {
            "text/plain": [
              "                                              Review  stopwords\n",
              "0  I've purchased the 6GB version of this phone w...        128\n",
              "1  This is definitely a budget branded phone 📱 af...         53\n",
              "2  Operating system and multitasking is good for ...         30\n",
              "3  I will try to keep this review short. This rev...         94\n",
              "4  I bought the phone in Jan 2023 @ 18250. Below ...         56"
            ],
            "text/html": [
              "\n",
              "  <div id=\"df-49f6c255-c03c-4aac-9472-3fc1ed922ded\">\n",
              "    <div class=\"colab-df-container\">\n",
              "      <div>\n",
              "<style scoped>\n",
              "    .dataframe tbody tr th:only-of-type {\n",
              "        vertical-align: middle;\n",
              "    }\n",
              "\n",
              "    .dataframe tbody tr th {\n",
              "        vertical-align: top;\n",
              "    }\n",
              "\n",
              "    .dataframe thead th {\n",
              "        text-align: right;\n",
              "    }\n",
              "</style>\n",
              "<table border=\"1\" class=\"dataframe\">\n",
              "  <thead>\n",
              "    <tr style=\"text-align: right;\">\n",
              "      <th></th>\n",
              "      <th>Review</th>\n",
              "      <th>stopwords</th>\n",
              "    </tr>\n",
              "  </thead>\n",
              "  <tbody>\n",
              "    <tr>\n",
              "      <th>0</th>\n",
              "      <td>I've purchased the 6GB version of this phone w...</td>\n",
              "      <td>128</td>\n",
              "    </tr>\n",
              "    <tr>\n",
              "      <th>1</th>\n",
              "      <td>This is definitely a budget branded phone 📱 af...</td>\n",
              "      <td>53</td>\n",
              "    </tr>\n",
              "    <tr>\n",
              "      <th>2</th>\n",
              "      <td>Operating system and multitasking is good for ...</td>\n",
              "      <td>30</td>\n",
              "    </tr>\n",
              "    <tr>\n",
              "      <th>3</th>\n",
              "      <td>I will try to keep this review short. This rev...</td>\n",
              "      <td>94</td>\n",
              "    </tr>\n",
              "    <tr>\n",
              "      <th>4</th>\n",
              "      <td>I bought the phone in Jan 2023 @ 18250. Below ...</td>\n",
              "      <td>56</td>\n",
              "    </tr>\n",
              "  </tbody>\n",
              "</table>\n",
              "</div>\n",
              "      <button class=\"colab-df-convert\" onclick=\"convertToInteractive('df-49f6c255-c03c-4aac-9472-3fc1ed922ded')\"\n",
              "              title=\"Convert this dataframe to an interactive table.\"\n",
              "              style=\"display:none;\">\n",
              "        \n",
              "  <svg xmlns=\"http://www.w3.org/2000/svg\" height=\"24px\"viewBox=\"0 0 24 24\"\n",
              "       width=\"24px\">\n",
              "    <path d=\"M0 0h24v24H0V0z\" fill=\"none\"/>\n",
              "    <path d=\"M18.56 5.44l.94 2.06.94-2.06 2.06-.94-2.06-.94-.94-2.06-.94 2.06-2.06.94zm-11 1L8.5 8.5l.94-2.06 2.06-.94-2.06-.94L8.5 2.5l-.94 2.06-2.06.94zm10 10l.94 2.06.94-2.06 2.06-.94-2.06-.94-.94-2.06-.94 2.06-2.06.94z\"/><path d=\"M17.41 7.96l-1.37-1.37c-.4-.4-.92-.59-1.43-.59-.52 0-1.04.2-1.43.59L10.3 9.45l-7.72 7.72c-.78.78-.78 2.05 0 2.83L4 21.41c.39.39.9.59 1.41.59.51 0 1.02-.2 1.41-.59l7.78-7.78 2.81-2.81c.8-.78.8-2.07 0-2.86zM5.41 20L4 18.59l7.72-7.72 1.47 1.35L5.41 20z\"/>\n",
              "  </svg>\n",
              "      </button>\n",
              "      \n",
              "  <style>\n",
              "    .colab-df-container {\n",
              "      display:flex;\n",
              "      flex-wrap:wrap;\n",
              "      gap: 12px;\n",
              "    }\n",
              "\n",
              "    .colab-df-convert {\n",
              "      background-color: #E8F0FE;\n",
              "      border: none;\n",
              "      border-radius: 50%;\n",
              "      cursor: pointer;\n",
              "      display: none;\n",
              "      fill: #1967D2;\n",
              "      height: 32px;\n",
              "      padding: 0 0 0 0;\n",
              "      width: 32px;\n",
              "    }\n",
              "\n",
              "    .colab-df-convert:hover {\n",
              "      background-color: #E2EBFA;\n",
              "      box-shadow: 0px 1px 2px rgba(60, 64, 67, 0.3), 0px 1px 3px 1px rgba(60, 64, 67, 0.15);\n",
              "      fill: #174EA6;\n",
              "    }\n",
              "\n",
              "    [theme=dark] .colab-df-convert {\n",
              "      background-color: #3B4455;\n",
              "      fill: #D2E3FC;\n",
              "    }\n",
              "\n",
              "    [theme=dark] .colab-df-convert:hover {\n",
              "      background-color: #434B5C;\n",
              "      box-shadow: 0px 1px 3px 1px rgba(0, 0, 0, 0.15);\n",
              "      filter: drop-shadow(0px 1px 2px rgba(0, 0, 0, 0.3));\n",
              "      fill: #FFFFFF;\n",
              "    }\n",
              "  </style>\n",
              "\n",
              "      <script>\n",
              "        const buttonEl =\n",
              "          document.querySelector('#df-49f6c255-c03c-4aac-9472-3fc1ed922ded button.colab-df-convert');\n",
              "        buttonEl.style.display =\n",
              "          google.colab.kernel.accessAllowed ? 'block' : 'none';\n",
              "\n",
              "        async function convertToInteractive(key) {\n",
              "          const element = document.querySelector('#df-49f6c255-c03c-4aac-9472-3fc1ed922ded');\n",
              "          const dataTable =\n",
              "            await google.colab.kernel.invokeFunction('convertToInteractive',\n",
              "                                                     [key], {});\n",
              "          if (!dataTable) return;\n",
              "\n",
              "          const docLinkHtml = 'Like what you see? Visit the ' +\n",
              "            '<a target=\"_blank\" href=https://colab.research.google.com/notebooks/data_table.ipynb>data table notebook</a>'\n",
              "            + ' to learn more about interactive tables.';\n",
              "          element.innerHTML = '';\n",
              "          dataTable['output_type'] = 'display_data';\n",
              "          await google.colab.output.renderOutput(dataTable, element);\n",
              "          const docLink = document.createElement('div');\n",
              "          docLink.innerHTML = docLinkHtml;\n",
              "          element.appendChild(docLink);\n",
              "        }\n",
              "      </script>\n",
              "    </div>\n",
              "  </div>\n",
              "  "
            ]
          },
          "metadata": {},
          "execution_count": 19
        }
      ],
      "source": [
        "from nltk.corpus import stopwords\n",
        "stop = stopwords.words('english')\n",
        "\n",
        "reviews['stopwords'] = reviews['Review'].apply(lambda x: len([x for x in str(x).split() if x in stop]))\n",
        "reviews[['Review','stopwords']].head()"
      ]
    },
    {
      "cell_type": "markdown",
      "id": "f49866e5",
      "metadata": {
        "id": "f49866e5"
      },
      "source": [
        "#### Number of special characters"
      ]
    },
    {
      "cell_type": "code",
      "execution_count": null,
      "id": "31a14827",
      "metadata": {
        "colab": {
          "base_uri": "https://localhost:8080/",
          "height": 206
        },
        "id": "31a14827",
        "outputId": "92d23c9b-a720-4a4e-b55b-e1cad26fa622"
      },
      "outputs": [
        {
          "output_type": "execute_result",
          "data": {
            "text/plain": [
              "                                              Review  hashtags\n",
              "0  I've purchased the 6GB version of this phone w...         0\n",
              "1  This is definitely a budget branded phone 📱 af...         0\n",
              "2  Operating system and multitasking is good for ...         0\n",
              "3  I will try to keep this review short. This rev...         0\n",
              "4  I bought the phone in Jan 2023 @ 18250. Below ...         0"
            ],
            "text/html": [
              "\n",
              "  <div id=\"df-fb1aaee8-d791-40b9-88c9-bf5a0988d41a\">\n",
              "    <div class=\"colab-df-container\">\n",
              "      <div>\n",
              "<style scoped>\n",
              "    .dataframe tbody tr th:only-of-type {\n",
              "        vertical-align: middle;\n",
              "    }\n",
              "\n",
              "    .dataframe tbody tr th {\n",
              "        vertical-align: top;\n",
              "    }\n",
              "\n",
              "    .dataframe thead th {\n",
              "        text-align: right;\n",
              "    }\n",
              "</style>\n",
              "<table border=\"1\" class=\"dataframe\">\n",
              "  <thead>\n",
              "    <tr style=\"text-align: right;\">\n",
              "      <th></th>\n",
              "      <th>Review</th>\n",
              "      <th>hashtags</th>\n",
              "    </tr>\n",
              "  </thead>\n",
              "  <tbody>\n",
              "    <tr>\n",
              "      <th>0</th>\n",
              "      <td>I've purchased the 6GB version of this phone w...</td>\n",
              "      <td>0</td>\n",
              "    </tr>\n",
              "    <tr>\n",
              "      <th>1</th>\n",
              "      <td>This is definitely a budget branded phone 📱 af...</td>\n",
              "      <td>0</td>\n",
              "    </tr>\n",
              "    <tr>\n",
              "      <th>2</th>\n",
              "      <td>Operating system and multitasking is good for ...</td>\n",
              "      <td>0</td>\n",
              "    </tr>\n",
              "    <tr>\n",
              "      <th>3</th>\n",
              "      <td>I will try to keep this review short. This rev...</td>\n",
              "      <td>0</td>\n",
              "    </tr>\n",
              "    <tr>\n",
              "      <th>4</th>\n",
              "      <td>I bought the phone in Jan 2023 @ 18250. Below ...</td>\n",
              "      <td>0</td>\n",
              "    </tr>\n",
              "  </tbody>\n",
              "</table>\n",
              "</div>\n",
              "      <button class=\"colab-df-convert\" onclick=\"convertToInteractive('df-fb1aaee8-d791-40b9-88c9-bf5a0988d41a')\"\n",
              "              title=\"Convert this dataframe to an interactive table.\"\n",
              "              style=\"display:none;\">\n",
              "        \n",
              "  <svg xmlns=\"http://www.w3.org/2000/svg\" height=\"24px\"viewBox=\"0 0 24 24\"\n",
              "       width=\"24px\">\n",
              "    <path d=\"M0 0h24v24H0V0z\" fill=\"none\"/>\n",
              "    <path d=\"M18.56 5.44l.94 2.06.94-2.06 2.06-.94-2.06-.94-.94-2.06-.94 2.06-2.06.94zm-11 1L8.5 8.5l.94-2.06 2.06-.94-2.06-.94L8.5 2.5l-.94 2.06-2.06.94zm10 10l.94 2.06.94-2.06 2.06-.94-2.06-.94-.94-2.06-.94 2.06-2.06.94z\"/><path d=\"M17.41 7.96l-1.37-1.37c-.4-.4-.92-.59-1.43-.59-.52 0-1.04.2-1.43.59L10.3 9.45l-7.72 7.72c-.78.78-.78 2.05 0 2.83L4 21.41c.39.39.9.59 1.41.59.51 0 1.02-.2 1.41-.59l7.78-7.78 2.81-2.81c.8-.78.8-2.07 0-2.86zM5.41 20L4 18.59l7.72-7.72 1.47 1.35L5.41 20z\"/>\n",
              "  </svg>\n",
              "      </button>\n",
              "      \n",
              "  <style>\n",
              "    .colab-df-container {\n",
              "      display:flex;\n",
              "      flex-wrap:wrap;\n",
              "      gap: 12px;\n",
              "    }\n",
              "\n",
              "    .colab-df-convert {\n",
              "      background-color: #E8F0FE;\n",
              "      border: none;\n",
              "      border-radius: 50%;\n",
              "      cursor: pointer;\n",
              "      display: none;\n",
              "      fill: #1967D2;\n",
              "      height: 32px;\n",
              "      padding: 0 0 0 0;\n",
              "      width: 32px;\n",
              "    }\n",
              "\n",
              "    .colab-df-convert:hover {\n",
              "      background-color: #E2EBFA;\n",
              "      box-shadow: 0px 1px 2px rgba(60, 64, 67, 0.3), 0px 1px 3px 1px rgba(60, 64, 67, 0.15);\n",
              "      fill: #174EA6;\n",
              "    }\n",
              "\n",
              "    [theme=dark] .colab-df-convert {\n",
              "      background-color: #3B4455;\n",
              "      fill: #D2E3FC;\n",
              "    }\n",
              "\n",
              "    [theme=dark] .colab-df-convert:hover {\n",
              "      background-color: #434B5C;\n",
              "      box-shadow: 0px 1px 3px 1px rgba(0, 0, 0, 0.15);\n",
              "      filter: drop-shadow(0px 1px 2px rgba(0, 0, 0, 0.3));\n",
              "      fill: #FFFFFF;\n",
              "    }\n",
              "  </style>\n",
              "\n",
              "      <script>\n",
              "        const buttonEl =\n",
              "          document.querySelector('#df-fb1aaee8-d791-40b9-88c9-bf5a0988d41a button.colab-df-convert');\n",
              "        buttonEl.style.display =\n",
              "          google.colab.kernel.accessAllowed ? 'block' : 'none';\n",
              "\n",
              "        async function convertToInteractive(key) {\n",
              "          const element = document.querySelector('#df-fb1aaee8-d791-40b9-88c9-bf5a0988d41a');\n",
              "          const dataTable =\n",
              "            await google.colab.kernel.invokeFunction('convertToInteractive',\n",
              "                                                     [key], {});\n",
              "          if (!dataTable) return;\n",
              "\n",
              "          const docLinkHtml = 'Like what you see? Visit the ' +\n",
              "            '<a target=\"_blank\" href=https://colab.research.google.com/notebooks/data_table.ipynb>data table notebook</a>'\n",
              "            + ' to learn more about interactive tables.';\n",
              "          element.innerHTML = '';\n",
              "          dataTable['output_type'] = 'display_data';\n",
              "          await google.colab.output.renderOutput(dataTable, element);\n",
              "          const docLink = document.createElement('div');\n",
              "          docLink.innerHTML = docLinkHtml;\n",
              "          element.appendChild(docLink);\n",
              "        }\n",
              "      </script>\n",
              "    </div>\n",
              "  </div>\n",
              "  "
            ]
          },
          "metadata": {},
          "execution_count": 20
        }
      ],
      "source": [
        "reviews['hashtags'] = reviews['Review'].apply(lambda x: len([x for x in str(x).split() if x.startswith('#')]))\n",
        "reviews[['Review','hashtags']].head()"
      ]
    },
    {
      "cell_type": "markdown",
      "id": "55b3c549",
      "metadata": {
        "id": "55b3c549"
      },
      "source": [
        "#### Number of numerics"
      ]
    },
    {
      "cell_type": "code",
      "execution_count": null,
      "id": "a8d38d39",
      "metadata": {
        "colab": {
          "base_uri": "https://localhost:8080/",
          "height": 206
        },
        "id": "a8d38d39",
        "outputId": "34eb0a8c-ce0f-41bc-8ae0-ce04a4114511"
      },
      "outputs": [
        {
          "output_type": "execute_result",
          "data": {
            "text/plain": [
              "                                              Review  numerics\n",
              "0  I've purchased the 6GB version of this phone w...         2\n",
              "1  This is definitely a budget branded phone 📱 af...         7\n",
              "2  Operating system and multitasking is good for ...         3\n",
              "3  I will try to keep this review short. This rev...         0\n",
              "4  I bought the phone in Jan 2023 @ 18250. Below ...         3"
            ],
            "text/html": [
              "\n",
              "  <div id=\"df-62a73b41-6851-483f-a5b6-fde460c8dac2\">\n",
              "    <div class=\"colab-df-container\">\n",
              "      <div>\n",
              "<style scoped>\n",
              "    .dataframe tbody tr th:only-of-type {\n",
              "        vertical-align: middle;\n",
              "    }\n",
              "\n",
              "    .dataframe tbody tr th {\n",
              "        vertical-align: top;\n",
              "    }\n",
              "\n",
              "    .dataframe thead th {\n",
              "        text-align: right;\n",
              "    }\n",
              "</style>\n",
              "<table border=\"1\" class=\"dataframe\">\n",
              "  <thead>\n",
              "    <tr style=\"text-align: right;\">\n",
              "      <th></th>\n",
              "      <th>Review</th>\n",
              "      <th>numerics</th>\n",
              "    </tr>\n",
              "  </thead>\n",
              "  <tbody>\n",
              "    <tr>\n",
              "      <th>0</th>\n",
              "      <td>I've purchased the 6GB version of this phone w...</td>\n",
              "      <td>2</td>\n",
              "    </tr>\n",
              "    <tr>\n",
              "      <th>1</th>\n",
              "      <td>This is definitely a budget branded phone 📱 af...</td>\n",
              "      <td>7</td>\n",
              "    </tr>\n",
              "    <tr>\n",
              "      <th>2</th>\n",
              "      <td>Operating system and multitasking is good for ...</td>\n",
              "      <td>3</td>\n",
              "    </tr>\n",
              "    <tr>\n",
              "      <th>3</th>\n",
              "      <td>I will try to keep this review short. This rev...</td>\n",
              "      <td>0</td>\n",
              "    </tr>\n",
              "    <tr>\n",
              "      <th>4</th>\n",
              "      <td>I bought the phone in Jan 2023 @ 18250. Below ...</td>\n",
              "      <td>3</td>\n",
              "    </tr>\n",
              "  </tbody>\n",
              "</table>\n",
              "</div>\n",
              "      <button class=\"colab-df-convert\" onclick=\"convertToInteractive('df-62a73b41-6851-483f-a5b6-fde460c8dac2')\"\n",
              "              title=\"Convert this dataframe to an interactive table.\"\n",
              "              style=\"display:none;\">\n",
              "        \n",
              "  <svg xmlns=\"http://www.w3.org/2000/svg\" height=\"24px\"viewBox=\"0 0 24 24\"\n",
              "       width=\"24px\">\n",
              "    <path d=\"M0 0h24v24H0V0z\" fill=\"none\"/>\n",
              "    <path d=\"M18.56 5.44l.94 2.06.94-2.06 2.06-.94-2.06-.94-.94-2.06-.94 2.06-2.06.94zm-11 1L8.5 8.5l.94-2.06 2.06-.94-2.06-.94L8.5 2.5l-.94 2.06-2.06.94zm10 10l.94 2.06.94-2.06 2.06-.94-2.06-.94-.94-2.06-.94 2.06-2.06.94z\"/><path d=\"M17.41 7.96l-1.37-1.37c-.4-.4-.92-.59-1.43-.59-.52 0-1.04.2-1.43.59L10.3 9.45l-7.72 7.72c-.78.78-.78 2.05 0 2.83L4 21.41c.39.39.9.59 1.41.59.51 0 1.02-.2 1.41-.59l7.78-7.78 2.81-2.81c.8-.78.8-2.07 0-2.86zM5.41 20L4 18.59l7.72-7.72 1.47 1.35L5.41 20z\"/>\n",
              "  </svg>\n",
              "      </button>\n",
              "      \n",
              "  <style>\n",
              "    .colab-df-container {\n",
              "      display:flex;\n",
              "      flex-wrap:wrap;\n",
              "      gap: 12px;\n",
              "    }\n",
              "\n",
              "    .colab-df-convert {\n",
              "      background-color: #E8F0FE;\n",
              "      border: none;\n",
              "      border-radius: 50%;\n",
              "      cursor: pointer;\n",
              "      display: none;\n",
              "      fill: #1967D2;\n",
              "      height: 32px;\n",
              "      padding: 0 0 0 0;\n",
              "      width: 32px;\n",
              "    }\n",
              "\n",
              "    .colab-df-convert:hover {\n",
              "      background-color: #E2EBFA;\n",
              "      box-shadow: 0px 1px 2px rgba(60, 64, 67, 0.3), 0px 1px 3px 1px rgba(60, 64, 67, 0.15);\n",
              "      fill: #174EA6;\n",
              "    }\n",
              "\n",
              "    [theme=dark] .colab-df-convert {\n",
              "      background-color: #3B4455;\n",
              "      fill: #D2E3FC;\n",
              "    }\n",
              "\n",
              "    [theme=dark] .colab-df-convert:hover {\n",
              "      background-color: #434B5C;\n",
              "      box-shadow: 0px 1px 3px 1px rgba(0, 0, 0, 0.15);\n",
              "      filter: drop-shadow(0px 1px 2px rgba(0, 0, 0, 0.3));\n",
              "      fill: #FFFFFF;\n",
              "    }\n",
              "  </style>\n",
              "\n",
              "      <script>\n",
              "        const buttonEl =\n",
              "          document.querySelector('#df-62a73b41-6851-483f-a5b6-fde460c8dac2 button.colab-df-convert');\n",
              "        buttonEl.style.display =\n",
              "          google.colab.kernel.accessAllowed ? 'block' : 'none';\n",
              "\n",
              "        async function convertToInteractive(key) {\n",
              "          const element = document.querySelector('#df-62a73b41-6851-483f-a5b6-fde460c8dac2');\n",
              "          const dataTable =\n",
              "            await google.colab.kernel.invokeFunction('convertToInteractive',\n",
              "                                                     [key], {});\n",
              "          if (!dataTable) return;\n",
              "\n",
              "          const docLinkHtml = 'Like what you see? Visit the ' +\n",
              "            '<a target=\"_blank\" href=https://colab.research.google.com/notebooks/data_table.ipynb>data table notebook</a>'\n",
              "            + ' to learn more about interactive tables.';\n",
              "          element.innerHTML = '';\n",
              "          dataTable['output_type'] = 'display_data';\n",
              "          await google.colab.output.renderOutput(dataTable, element);\n",
              "          const docLink = document.createElement('div');\n",
              "          docLink.innerHTML = docLinkHtml;\n",
              "          element.appendChild(docLink);\n",
              "        }\n",
              "      </script>\n",
              "    </div>\n",
              "  </div>\n",
              "  "
            ]
          },
          "metadata": {},
          "execution_count": 21
        }
      ],
      "source": [
        "reviews['numerics'] = reviews['Review'].apply(lambda x: len([x for x in str(x).split() if x.isdigit()]))\n",
        "reviews[['Review','numerics']].head()"
      ]
    },
    {
      "cell_type": "markdown",
      "id": "7f145f71",
      "metadata": {
        "id": "7f145f71"
      },
      "source": [
        "#### Number of Uppercase words"
      ]
    },
    {
      "cell_type": "code",
      "execution_count": null,
      "id": "04dab19d",
      "metadata": {
        "colab": {
          "base_uri": "https://localhost:8080/",
          "height": 206
        },
        "id": "04dab19d",
        "outputId": "615db554-f3f3-4c78-cf14-8675e4e40d97"
      },
      "outputs": [
        {
          "output_type": "execute_result",
          "data": {
            "text/plain": [
              "                                              Review  upper\n",
              "0  I've purchased the 6GB version of this phone w...      4\n",
              "1  This is definitely a budget branded phone 📱 af...      3\n",
              "2  Operating system and multitasking is good for ...      3\n",
              "3  I will try to keep this review short. This rev...      3\n",
              "4  I bought the phone in Jan 2023 @ 18250. Below ...      9"
            ],
            "text/html": [
              "\n",
              "  <div id=\"df-6d989978-f9eb-4f99-b3cc-710bfff6e5fa\">\n",
              "    <div class=\"colab-df-container\">\n",
              "      <div>\n",
              "<style scoped>\n",
              "    .dataframe tbody tr th:only-of-type {\n",
              "        vertical-align: middle;\n",
              "    }\n",
              "\n",
              "    .dataframe tbody tr th {\n",
              "        vertical-align: top;\n",
              "    }\n",
              "\n",
              "    .dataframe thead th {\n",
              "        text-align: right;\n",
              "    }\n",
              "</style>\n",
              "<table border=\"1\" class=\"dataframe\">\n",
              "  <thead>\n",
              "    <tr style=\"text-align: right;\">\n",
              "      <th></th>\n",
              "      <th>Review</th>\n",
              "      <th>upper</th>\n",
              "    </tr>\n",
              "  </thead>\n",
              "  <tbody>\n",
              "    <tr>\n",
              "      <th>0</th>\n",
              "      <td>I've purchased the 6GB version of this phone w...</td>\n",
              "      <td>4</td>\n",
              "    </tr>\n",
              "    <tr>\n",
              "      <th>1</th>\n",
              "      <td>This is definitely a budget branded phone 📱 af...</td>\n",
              "      <td>3</td>\n",
              "    </tr>\n",
              "    <tr>\n",
              "      <th>2</th>\n",
              "      <td>Operating system and multitasking is good for ...</td>\n",
              "      <td>3</td>\n",
              "    </tr>\n",
              "    <tr>\n",
              "      <th>3</th>\n",
              "      <td>I will try to keep this review short. This rev...</td>\n",
              "      <td>3</td>\n",
              "    </tr>\n",
              "    <tr>\n",
              "      <th>4</th>\n",
              "      <td>I bought the phone in Jan 2023 @ 18250. Below ...</td>\n",
              "      <td>9</td>\n",
              "    </tr>\n",
              "  </tbody>\n",
              "</table>\n",
              "</div>\n",
              "      <button class=\"colab-df-convert\" onclick=\"convertToInteractive('df-6d989978-f9eb-4f99-b3cc-710bfff6e5fa')\"\n",
              "              title=\"Convert this dataframe to an interactive table.\"\n",
              "              style=\"display:none;\">\n",
              "        \n",
              "  <svg xmlns=\"http://www.w3.org/2000/svg\" height=\"24px\"viewBox=\"0 0 24 24\"\n",
              "       width=\"24px\">\n",
              "    <path d=\"M0 0h24v24H0V0z\" fill=\"none\"/>\n",
              "    <path d=\"M18.56 5.44l.94 2.06.94-2.06 2.06-.94-2.06-.94-.94-2.06-.94 2.06-2.06.94zm-11 1L8.5 8.5l.94-2.06 2.06-.94-2.06-.94L8.5 2.5l-.94 2.06-2.06.94zm10 10l.94 2.06.94-2.06 2.06-.94-2.06-.94-.94-2.06-.94 2.06-2.06.94z\"/><path d=\"M17.41 7.96l-1.37-1.37c-.4-.4-.92-.59-1.43-.59-.52 0-1.04.2-1.43.59L10.3 9.45l-7.72 7.72c-.78.78-.78 2.05 0 2.83L4 21.41c.39.39.9.59 1.41.59.51 0 1.02-.2 1.41-.59l7.78-7.78 2.81-2.81c.8-.78.8-2.07 0-2.86zM5.41 20L4 18.59l7.72-7.72 1.47 1.35L5.41 20z\"/>\n",
              "  </svg>\n",
              "      </button>\n",
              "      \n",
              "  <style>\n",
              "    .colab-df-container {\n",
              "      display:flex;\n",
              "      flex-wrap:wrap;\n",
              "      gap: 12px;\n",
              "    }\n",
              "\n",
              "    .colab-df-convert {\n",
              "      background-color: #E8F0FE;\n",
              "      border: none;\n",
              "      border-radius: 50%;\n",
              "      cursor: pointer;\n",
              "      display: none;\n",
              "      fill: #1967D2;\n",
              "      height: 32px;\n",
              "      padding: 0 0 0 0;\n",
              "      width: 32px;\n",
              "    }\n",
              "\n",
              "    .colab-df-convert:hover {\n",
              "      background-color: #E2EBFA;\n",
              "      box-shadow: 0px 1px 2px rgba(60, 64, 67, 0.3), 0px 1px 3px 1px rgba(60, 64, 67, 0.15);\n",
              "      fill: #174EA6;\n",
              "    }\n",
              "\n",
              "    [theme=dark] .colab-df-convert {\n",
              "      background-color: #3B4455;\n",
              "      fill: #D2E3FC;\n",
              "    }\n",
              "\n",
              "    [theme=dark] .colab-df-convert:hover {\n",
              "      background-color: #434B5C;\n",
              "      box-shadow: 0px 1px 3px 1px rgba(0, 0, 0, 0.15);\n",
              "      filter: drop-shadow(0px 1px 2px rgba(0, 0, 0, 0.3));\n",
              "      fill: #FFFFFF;\n",
              "    }\n",
              "  </style>\n",
              "\n",
              "      <script>\n",
              "        const buttonEl =\n",
              "          document.querySelector('#df-6d989978-f9eb-4f99-b3cc-710bfff6e5fa button.colab-df-convert');\n",
              "        buttonEl.style.display =\n",
              "          google.colab.kernel.accessAllowed ? 'block' : 'none';\n",
              "\n",
              "        async function convertToInteractive(key) {\n",
              "          const element = document.querySelector('#df-6d989978-f9eb-4f99-b3cc-710bfff6e5fa');\n",
              "          const dataTable =\n",
              "            await google.colab.kernel.invokeFunction('convertToInteractive',\n",
              "                                                     [key], {});\n",
              "          if (!dataTable) return;\n",
              "\n",
              "          const docLinkHtml = 'Like what you see? Visit the ' +\n",
              "            '<a target=\"_blank\" href=https://colab.research.google.com/notebooks/data_table.ipynb>data table notebook</a>'\n",
              "            + ' to learn more about interactive tables.';\n",
              "          element.innerHTML = '';\n",
              "          dataTable['output_type'] = 'display_data';\n",
              "          await google.colab.output.renderOutput(dataTable, element);\n",
              "          const docLink = document.createElement('div');\n",
              "          docLink.innerHTML = docLinkHtml;\n",
              "          element.appendChild(docLink);\n",
              "        }\n",
              "      </script>\n",
              "    </div>\n",
              "  </div>\n",
              "  "
            ]
          },
          "metadata": {},
          "execution_count": 22
        }
      ],
      "source": [
        "reviews['upper'] = reviews['Review'].apply(lambda x: len([x for x in str(x).split() if x.isupper()]))\n",
        "reviews[['Review','upper']].head()"
      ]
    },
    {
      "cell_type": "code",
      "execution_count": null,
      "id": "305c0117",
      "metadata": {
        "colab": {
          "base_uri": "https://localhost:8080/",
          "height": 383
        },
        "id": "305c0117",
        "outputId": "2e8377a2-aec2-4863-9677-da41d2655224"
      },
      "outputs": [
        {
          "output_type": "error",
          "ename": "KeyError",
          "evalue": "ignored",
          "traceback": [
            "\u001b[0;31m---------------------------------------------------------------------------\u001b[0m",
            "\u001b[0;31mKeyError\u001b[0m                                  Traceback (most recent call last)",
            "\u001b[0;32m<ipython-input-26-e336d84ca8cd>\u001b[0m in \u001b[0;36m<module>\u001b[0;34m\u001b[0m\n\u001b[0;32m----> 1\u001b[0;31m \u001b[0mreviews\u001b[0m\u001b[0;34m.\u001b[0m\u001b[0mdrop\u001b[0m\u001b[0;34m(\u001b[0m\u001b[0;34m[\u001b[0m\u001b[0;34m'numerics'\u001b[0m\u001b[0;34m,\u001b[0m\u001b[0;34m'hashtags'\u001b[0m\u001b[0;34m,\u001b[0m\u001b[0;34m'stopwords'\u001b[0m\u001b[0;34m,\u001b[0m\u001b[0;34m'avg_word'\u001b[0m\u001b[0;34m,\u001b[0m\u001b[0;34m'char_count'\u001b[0m\u001b[0;34m,\u001b[0m\u001b[0;34m'word_count'\u001b[0m\u001b[0;34m,\u001b[0m\u001b[0;34m'upper'\u001b[0m\u001b[0;34m]\u001b[0m\u001b[0;34m,\u001b[0m\u001b[0maxis\u001b[0m\u001b[0;34m=\u001b[0m\u001b[0;36m1\u001b[0m\u001b[0;34m,\u001b[0m\u001b[0minplace\u001b[0m\u001b[0;34m=\u001b[0m\u001b[0;32mTrue\u001b[0m\u001b[0;34m)\u001b[0m\u001b[0;34m\u001b[0m\u001b[0;34m\u001b[0m\u001b[0m\n\u001b[0m",
            "\u001b[0;32m/usr/local/lib/python3.8/dist-packages/pandas/util/_decorators.py\u001b[0m in \u001b[0;36mwrapper\u001b[0;34m(*args, **kwargs)\u001b[0m\n\u001b[1;32m    309\u001b[0m                     \u001b[0mstacklevel\u001b[0m\u001b[0;34m=\u001b[0m\u001b[0mstacklevel\u001b[0m\u001b[0;34m,\u001b[0m\u001b[0;34m\u001b[0m\u001b[0;34m\u001b[0m\u001b[0m\n\u001b[1;32m    310\u001b[0m                 )\n\u001b[0;32m--> 311\u001b[0;31m             \u001b[0;32mreturn\u001b[0m \u001b[0mfunc\u001b[0m\u001b[0;34m(\u001b[0m\u001b[0;34m*\u001b[0m\u001b[0margs\u001b[0m\u001b[0;34m,\u001b[0m \u001b[0;34m**\u001b[0m\u001b[0mkwargs\u001b[0m\u001b[0;34m)\u001b[0m\u001b[0;34m\u001b[0m\u001b[0;34m\u001b[0m\u001b[0m\n\u001b[0m\u001b[1;32m    312\u001b[0m \u001b[0;34m\u001b[0m\u001b[0m\n\u001b[1;32m    313\u001b[0m         \u001b[0;32mreturn\u001b[0m \u001b[0mwrapper\u001b[0m\u001b[0;34m\u001b[0m\u001b[0;34m\u001b[0m\u001b[0m\n",
            "\u001b[0;32m/usr/local/lib/python3.8/dist-packages/pandas/core/frame.py\u001b[0m in \u001b[0;36mdrop\u001b[0;34m(self, labels, axis, index, columns, level, inplace, errors)\u001b[0m\n\u001b[1;32m   4904\u001b[0m                 \u001b[0mweight\u001b[0m  \u001b[0;36m1.0\u001b[0m     \u001b[0;36m0.8\u001b[0m\u001b[0;34m\u001b[0m\u001b[0;34m\u001b[0m\u001b[0m\n\u001b[1;32m   4905\u001b[0m         \"\"\"\n\u001b[0;32m-> 4906\u001b[0;31m         return super().drop(\n\u001b[0m\u001b[1;32m   4907\u001b[0m             \u001b[0mlabels\u001b[0m\u001b[0;34m=\u001b[0m\u001b[0mlabels\u001b[0m\u001b[0;34m,\u001b[0m\u001b[0;34m\u001b[0m\u001b[0;34m\u001b[0m\u001b[0m\n\u001b[1;32m   4908\u001b[0m             \u001b[0maxis\u001b[0m\u001b[0;34m=\u001b[0m\u001b[0maxis\u001b[0m\u001b[0;34m,\u001b[0m\u001b[0;34m\u001b[0m\u001b[0;34m\u001b[0m\u001b[0m\n",
            "\u001b[0;32m/usr/local/lib/python3.8/dist-packages/pandas/core/generic.py\u001b[0m in \u001b[0;36mdrop\u001b[0;34m(self, labels, axis, index, columns, level, inplace, errors)\u001b[0m\n\u001b[1;32m   4148\u001b[0m         \u001b[0;32mfor\u001b[0m \u001b[0maxis\u001b[0m\u001b[0;34m,\u001b[0m \u001b[0mlabels\u001b[0m \u001b[0;32min\u001b[0m \u001b[0maxes\u001b[0m\u001b[0;34m.\u001b[0m\u001b[0mitems\u001b[0m\u001b[0;34m(\u001b[0m\u001b[0;34m)\u001b[0m\u001b[0;34m:\u001b[0m\u001b[0;34m\u001b[0m\u001b[0;34m\u001b[0m\u001b[0m\n\u001b[1;32m   4149\u001b[0m             \u001b[0;32mif\u001b[0m \u001b[0mlabels\u001b[0m \u001b[0;32mis\u001b[0m \u001b[0;32mnot\u001b[0m \u001b[0;32mNone\u001b[0m\u001b[0;34m:\u001b[0m\u001b[0;34m\u001b[0m\u001b[0;34m\u001b[0m\u001b[0m\n\u001b[0;32m-> 4150\u001b[0;31m                 \u001b[0mobj\u001b[0m \u001b[0;34m=\u001b[0m \u001b[0mobj\u001b[0m\u001b[0;34m.\u001b[0m\u001b[0m_drop_axis\u001b[0m\u001b[0;34m(\u001b[0m\u001b[0mlabels\u001b[0m\u001b[0;34m,\u001b[0m \u001b[0maxis\u001b[0m\u001b[0;34m,\u001b[0m \u001b[0mlevel\u001b[0m\u001b[0;34m=\u001b[0m\u001b[0mlevel\u001b[0m\u001b[0;34m,\u001b[0m \u001b[0merrors\u001b[0m\u001b[0;34m=\u001b[0m\u001b[0merrors\u001b[0m\u001b[0;34m)\u001b[0m\u001b[0;34m\u001b[0m\u001b[0;34m\u001b[0m\u001b[0m\n\u001b[0m\u001b[1;32m   4151\u001b[0m \u001b[0;34m\u001b[0m\u001b[0m\n\u001b[1;32m   4152\u001b[0m         \u001b[0;32mif\u001b[0m \u001b[0minplace\u001b[0m\u001b[0;34m:\u001b[0m\u001b[0;34m\u001b[0m\u001b[0;34m\u001b[0m\u001b[0m\n",
            "\u001b[0;32m/usr/local/lib/python3.8/dist-packages/pandas/core/generic.py\u001b[0m in \u001b[0;36m_drop_axis\u001b[0;34m(self, labels, axis, level, errors)\u001b[0m\n\u001b[1;32m   4183\u001b[0m                 \u001b[0mnew_axis\u001b[0m \u001b[0;34m=\u001b[0m \u001b[0maxis\u001b[0m\u001b[0;34m.\u001b[0m\u001b[0mdrop\u001b[0m\u001b[0;34m(\u001b[0m\u001b[0mlabels\u001b[0m\u001b[0;34m,\u001b[0m \u001b[0mlevel\u001b[0m\u001b[0;34m=\u001b[0m\u001b[0mlevel\u001b[0m\u001b[0;34m,\u001b[0m \u001b[0merrors\u001b[0m\u001b[0;34m=\u001b[0m\u001b[0merrors\u001b[0m\u001b[0;34m)\u001b[0m\u001b[0;34m\u001b[0m\u001b[0;34m\u001b[0m\u001b[0m\n\u001b[1;32m   4184\u001b[0m             \u001b[0;32melse\u001b[0m\u001b[0;34m:\u001b[0m\u001b[0;34m\u001b[0m\u001b[0;34m\u001b[0m\u001b[0m\n\u001b[0;32m-> 4185\u001b[0;31m                 \u001b[0mnew_axis\u001b[0m \u001b[0;34m=\u001b[0m \u001b[0maxis\u001b[0m\u001b[0;34m.\u001b[0m\u001b[0mdrop\u001b[0m\u001b[0;34m(\u001b[0m\u001b[0mlabels\u001b[0m\u001b[0;34m,\u001b[0m \u001b[0merrors\u001b[0m\u001b[0;34m=\u001b[0m\u001b[0merrors\u001b[0m\u001b[0;34m)\u001b[0m\u001b[0;34m\u001b[0m\u001b[0;34m\u001b[0m\u001b[0m\n\u001b[0m\u001b[1;32m   4186\u001b[0m             \u001b[0mresult\u001b[0m \u001b[0;34m=\u001b[0m \u001b[0mself\u001b[0m\u001b[0;34m.\u001b[0m\u001b[0mreindex\u001b[0m\u001b[0;34m(\u001b[0m\u001b[0;34m**\u001b[0m\u001b[0;34m{\u001b[0m\u001b[0maxis_name\u001b[0m\u001b[0;34m:\u001b[0m \u001b[0mnew_axis\u001b[0m\u001b[0;34m}\u001b[0m\u001b[0;34m)\u001b[0m\u001b[0;34m\u001b[0m\u001b[0;34m\u001b[0m\u001b[0m\n\u001b[1;32m   4187\u001b[0m \u001b[0;34m\u001b[0m\u001b[0m\n",
            "\u001b[0;32m/usr/local/lib/python3.8/dist-packages/pandas/core/indexes/base.py\u001b[0m in \u001b[0;36mdrop\u001b[0;34m(self, labels, errors)\u001b[0m\n\u001b[1;32m   6015\u001b[0m         \u001b[0;32mif\u001b[0m \u001b[0mmask\u001b[0m\u001b[0;34m.\u001b[0m\u001b[0many\u001b[0m\u001b[0;34m(\u001b[0m\u001b[0;34m)\u001b[0m\u001b[0;34m:\u001b[0m\u001b[0;34m\u001b[0m\u001b[0;34m\u001b[0m\u001b[0m\n\u001b[1;32m   6016\u001b[0m             \u001b[0;32mif\u001b[0m \u001b[0merrors\u001b[0m \u001b[0;34m!=\u001b[0m \u001b[0;34m\"ignore\"\u001b[0m\u001b[0;34m:\u001b[0m\u001b[0;34m\u001b[0m\u001b[0;34m\u001b[0m\u001b[0m\n\u001b[0;32m-> 6017\u001b[0;31m                 \u001b[0;32mraise\u001b[0m \u001b[0mKeyError\u001b[0m\u001b[0;34m(\u001b[0m\u001b[0;34mf\"{labels[mask]} not found in axis\"\u001b[0m\u001b[0;34m)\u001b[0m\u001b[0;34m\u001b[0m\u001b[0;34m\u001b[0m\u001b[0m\n\u001b[0m\u001b[1;32m   6018\u001b[0m             \u001b[0mindexer\u001b[0m \u001b[0;34m=\u001b[0m \u001b[0mindexer\u001b[0m\u001b[0;34m[\u001b[0m\u001b[0;34m~\u001b[0m\u001b[0mmask\u001b[0m\u001b[0;34m]\u001b[0m\u001b[0;34m\u001b[0m\u001b[0;34m\u001b[0m\u001b[0m\n\u001b[1;32m   6019\u001b[0m         \u001b[0;32mreturn\u001b[0m \u001b[0mself\u001b[0m\u001b[0;34m.\u001b[0m\u001b[0mdelete\u001b[0m\u001b[0;34m(\u001b[0m\u001b[0mindexer\u001b[0m\u001b[0;34m)\u001b[0m\u001b[0;34m\u001b[0m\u001b[0;34m\u001b[0m\u001b[0m\n",
            "\u001b[0;31mKeyError\u001b[0m: \"['numerics' 'hashtags' 'stopwords' 'avg_word' 'char_count' 'word_count'\\n 'upper'] not found in axis\""
          ]
        }
      ],
      "source": [
        "reviews.drop(['numerics','hashtags','stopwords','avg_word','char_count','word_count','upper'],axis=1,inplace=True)"
      ]
    },
    {
      "cell_type": "markdown",
      "id": "0897f7ef",
      "metadata": {
        "id": "0897f7ef"
      },
      "source": [
        "####  Spelling correction\n",
        "We’ve all seen tweets with a plethora of spelling mistakes. Our timelines are often filled with hastly sent tweets that are barely legible at times.\n",
        "\n",
        "In that regard, spelling correction is a useful pre-processing step because this also will help us in reducing multiple copies of words.\n",
        "\n",
        "To achieve this we will use the textblob library. If you are not familiar with it, you can check my previous article on ‘NLP for beginners using textblob’"
      ]
    },
    {
      "cell_type": "code",
      "execution_count": null,
      "id": "0ff5e777",
      "metadata": {
        "colab": {
          "base_uri": "https://localhost:8080/"
        },
        "id": "0ff5e777",
        "outputId": "617c3b77-071b-4549-9227-b1925156bded"
      },
      "outputs": [
        {
          "output_type": "execute_result",
          "data": {
            "text/plain": [
              "0    I've purchased the 6GB version of this phone w...\n",
              "1    His is definitely a budget branded phone 📱 aft...\n",
              "2    Operating system and multitasking is good for ...\n",
              "3    I will try to keep this review short. His revi...\n",
              "4    I bought the phone in An 2023 @ 18250. Below a...\n",
              "Name: Review, dtype: object"
            ]
          },
          "metadata": {},
          "execution_count": 27
        }
      ],
      "source": [
        "from textblob import TextBlob\n",
        "reviews['Review'][:5].apply(lambda x: str(TextBlob(x).correct()))"
      ]
    },
    {
      "cell_type": "markdown",
      "id": "bb01f6ad",
      "metadata": {
        "id": "bb01f6ad"
      },
      "source": [
        "#### As you can see spelling mistake did a mistake of correcting the word Hang into Sang in Context to this review the word 'Hang' fits here and not 'Sang'"
      ]
    },
    {
      "cell_type": "markdown",
      "id": "38f5aea4",
      "metadata": {
        "id": "38f5aea4"
      },
      "source": [
        "0.1. __<a href='#0.1' target='_self'>Table of Contents:</a>__"
      ]
    },
    {
      "cell_type": "markdown",
      "id": "f81c1de2",
      "metadata": {
        "id": "f81c1de2"
      },
      "source": [
        "## <a id='4'>4. Feature Engineering</a>"
      ]
    },
    {
      "cell_type": "code",
      "execution_count": null,
      "id": "1f87b523",
      "metadata": {
        "colab": {
          "base_uri": "https://localhost:8080/"
        },
        "id": "1f87b523",
        "outputId": "eff8c8df-1d43-40dc-bb9b-b95ba6e71bf4"
      },
      "outputs": [
        {
          "output_type": "stream",
          "name": "stdout",
          "text": [
            "0       Reviewed\n",
            "1       Reviewed\n",
            "2       Reviewed\n",
            "3       Reviewed\n",
            "4       Reviewed\n",
            "          ...   \n",
            "4995          30\n",
            "4996          22\n",
            "4997          15\n",
            "4998          30\n",
            "4999          14\n",
            "Name: Review_Date, Length: 5000, dtype: object \n",
            " 0              in\n",
            "1              in\n",
            "2              in\n",
            "3              in\n",
            "4              in\n",
            "          ...    \n",
            "4995          May\n",
            "4996    September\n",
            "4997          May\n",
            "4998         June\n",
            "4999         July\n",
            "Name: Review_Date, Length: 5000, dtype: object \n",
            " 0       India\n",
            "1       India\n",
            "2       India\n",
            "3       India\n",
            "4       India\n",
            "        ...  \n",
            "4995     2022\n",
            "4996     2022\n",
            "4997     2022\n",
            "4998     2022\n",
            "4999     2022\n",
            "Name: Review_Date, Length: 5000, dtype: object\n"
          ]
        }
      ],
      "source": [
        "print(reviews['Review_Date'].str.split(' ').str[0],'\\n',\n",
        "      reviews['Review_Date'].str.split(' ').str[1],'\\n',\n",
        "      reviews['Review_Date'].str.split(' ').str[2])"
      ]
    },
    {
      "cell_type": "markdown",
      "id": "d301373b",
      "metadata": {
        "id": "d301373b"
      },
      "source": [
        "### Spliting Review Date into Three seperate Columns (Year,Month,Day)"
      ]
    },
    {
      "cell_type": "code",
      "execution_count": null,
      "id": "4b1dbbb6",
      "metadata": {
        "colab": {
          "base_uri": "https://localhost:8080/",
          "height": 423
        },
        "id": "4b1dbbb6",
        "outputId": "13b1136b-f828-4ee3-a484-51e49bead0c7"
      },
      "outputs": [
        {
          "output_type": "execute_result",
          "data": {
            "text/plain": [
              "          Date      Month   Year\n",
              "0     Reviewed         in  India\n",
              "1     Reviewed         in  India\n",
              "2     Reviewed         in  India\n",
              "3     Reviewed         in  India\n",
              "4     Reviewed         in  India\n",
              "...        ...        ...    ...\n",
              "4995        30        May   2022\n",
              "4996        22  September   2022\n",
              "4997        15        May   2022\n",
              "4998        30       June   2022\n",
              "4999        14       July   2022\n",
              "\n",
              "[5000 rows x 3 columns]"
            ],
            "text/html": [
              "\n",
              "  <div id=\"df-daf8cd6f-72ba-4585-8edf-3e74a8c8349c\">\n",
              "    <div class=\"colab-df-container\">\n",
              "      <div>\n",
              "<style scoped>\n",
              "    .dataframe tbody tr th:only-of-type {\n",
              "        vertical-align: middle;\n",
              "    }\n",
              "\n",
              "    .dataframe tbody tr th {\n",
              "        vertical-align: top;\n",
              "    }\n",
              "\n",
              "    .dataframe thead th {\n",
              "        text-align: right;\n",
              "    }\n",
              "</style>\n",
              "<table border=\"1\" class=\"dataframe\">\n",
              "  <thead>\n",
              "    <tr style=\"text-align: right;\">\n",
              "      <th></th>\n",
              "      <th>Date</th>\n",
              "      <th>Month</th>\n",
              "      <th>Year</th>\n",
              "    </tr>\n",
              "  </thead>\n",
              "  <tbody>\n",
              "    <tr>\n",
              "      <th>0</th>\n",
              "      <td>Reviewed</td>\n",
              "      <td>in</td>\n",
              "      <td>India</td>\n",
              "    </tr>\n",
              "    <tr>\n",
              "      <th>1</th>\n",
              "      <td>Reviewed</td>\n",
              "      <td>in</td>\n",
              "      <td>India</td>\n",
              "    </tr>\n",
              "    <tr>\n",
              "      <th>2</th>\n",
              "      <td>Reviewed</td>\n",
              "      <td>in</td>\n",
              "      <td>India</td>\n",
              "    </tr>\n",
              "    <tr>\n",
              "      <th>3</th>\n",
              "      <td>Reviewed</td>\n",
              "      <td>in</td>\n",
              "      <td>India</td>\n",
              "    </tr>\n",
              "    <tr>\n",
              "      <th>4</th>\n",
              "      <td>Reviewed</td>\n",
              "      <td>in</td>\n",
              "      <td>India</td>\n",
              "    </tr>\n",
              "    <tr>\n",
              "      <th>...</th>\n",
              "      <td>...</td>\n",
              "      <td>...</td>\n",
              "      <td>...</td>\n",
              "    </tr>\n",
              "    <tr>\n",
              "      <th>4995</th>\n",
              "      <td>30</td>\n",
              "      <td>May</td>\n",
              "      <td>2022</td>\n",
              "    </tr>\n",
              "    <tr>\n",
              "      <th>4996</th>\n",
              "      <td>22</td>\n",
              "      <td>September</td>\n",
              "      <td>2022</td>\n",
              "    </tr>\n",
              "    <tr>\n",
              "      <th>4997</th>\n",
              "      <td>15</td>\n",
              "      <td>May</td>\n",
              "      <td>2022</td>\n",
              "    </tr>\n",
              "    <tr>\n",
              "      <th>4998</th>\n",
              "      <td>30</td>\n",
              "      <td>June</td>\n",
              "      <td>2022</td>\n",
              "    </tr>\n",
              "    <tr>\n",
              "      <th>4999</th>\n",
              "      <td>14</td>\n",
              "      <td>July</td>\n",
              "      <td>2022</td>\n",
              "    </tr>\n",
              "  </tbody>\n",
              "</table>\n",
              "<p>5000 rows × 3 columns</p>\n",
              "</div>\n",
              "      <button class=\"colab-df-convert\" onclick=\"convertToInteractive('df-daf8cd6f-72ba-4585-8edf-3e74a8c8349c')\"\n",
              "              title=\"Convert this dataframe to an interactive table.\"\n",
              "              style=\"display:none;\">\n",
              "        \n",
              "  <svg xmlns=\"http://www.w3.org/2000/svg\" height=\"24px\"viewBox=\"0 0 24 24\"\n",
              "       width=\"24px\">\n",
              "    <path d=\"M0 0h24v24H0V0z\" fill=\"none\"/>\n",
              "    <path d=\"M18.56 5.44l.94 2.06.94-2.06 2.06-.94-2.06-.94-.94-2.06-.94 2.06-2.06.94zm-11 1L8.5 8.5l.94-2.06 2.06-.94-2.06-.94L8.5 2.5l-.94 2.06-2.06.94zm10 10l.94 2.06.94-2.06 2.06-.94-2.06-.94-.94-2.06-.94 2.06-2.06.94z\"/><path d=\"M17.41 7.96l-1.37-1.37c-.4-.4-.92-.59-1.43-.59-.52 0-1.04.2-1.43.59L10.3 9.45l-7.72 7.72c-.78.78-.78 2.05 0 2.83L4 21.41c.39.39.9.59 1.41.59.51 0 1.02-.2 1.41-.59l7.78-7.78 2.81-2.81c.8-.78.8-2.07 0-2.86zM5.41 20L4 18.59l7.72-7.72 1.47 1.35L5.41 20z\"/>\n",
              "  </svg>\n",
              "      </button>\n",
              "      \n",
              "  <style>\n",
              "    .colab-df-container {\n",
              "      display:flex;\n",
              "      flex-wrap:wrap;\n",
              "      gap: 12px;\n",
              "    }\n",
              "\n",
              "    .colab-df-convert {\n",
              "      background-color: #E8F0FE;\n",
              "      border: none;\n",
              "      border-radius: 50%;\n",
              "      cursor: pointer;\n",
              "      display: none;\n",
              "      fill: #1967D2;\n",
              "      height: 32px;\n",
              "      padding: 0 0 0 0;\n",
              "      width: 32px;\n",
              "    }\n",
              "\n",
              "    .colab-df-convert:hover {\n",
              "      background-color: #E2EBFA;\n",
              "      box-shadow: 0px 1px 2px rgba(60, 64, 67, 0.3), 0px 1px 3px 1px rgba(60, 64, 67, 0.15);\n",
              "      fill: #174EA6;\n",
              "    }\n",
              "\n",
              "    [theme=dark] .colab-df-convert {\n",
              "      background-color: #3B4455;\n",
              "      fill: #D2E3FC;\n",
              "    }\n",
              "\n",
              "    [theme=dark] .colab-df-convert:hover {\n",
              "      background-color: #434B5C;\n",
              "      box-shadow: 0px 1px 3px 1px rgba(0, 0, 0, 0.15);\n",
              "      filter: drop-shadow(0px 1px 2px rgba(0, 0, 0, 0.3));\n",
              "      fill: #FFFFFF;\n",
              "    }\n",
              "  </style>\n",
              "\n",
              "      <script>\n",
              "        const buttonEl =\n",
              "          document.querySelector('#df-daf8cd6f-72ba-4585-8edf-3e74a8c8349c button.colab-df-convert');\n",
              "        buttonEl.style.display =\n",
              "          google.colab.kernel.accessAllowed ? 'block' : 'none';\n",
              "\n",
              "        async function convertToInteractive(key) {\n",
              "          const element = document.querySelector('#df-daf8cd6f-72ba-4585-8edf-3e74a8c8349c');\n",
              "          const dataTable =\n",
              "            await google.colab.kernel.invokeFunction('convertToInteractive',\n",
              "                                                     [key], {});\n",
              "          if (!dataTable) return;\n",
              "\n",
              "          const docLinkHtml = 'Like what you see? Visit the ' +\n",
              "            '<a target=\"_blank\" href=https://colab.research.google.com/notebooks/data_table.ipynb>data table notebook</a>'\n",
              "            + ' to learn more about interactive tables.';\n",
              "          element.innerHTML = '';\n",
              "          dataTable['output_type'] = 'display_data';\n",
              "          await google.colab.output.renderOutput(dataTable, element);\n",
              "          const docLink = document.createElement('div');\n",
              "          docLink.innerHTML = docLinkHtml;\n",
              "          element.appendChild(docLink);\n",
              "        }\n",
              "      </script>\n",
              "    </div>\n",
              "  </div>\n",
              "  "
            ]
          },
          "metadata": {},
          "execution_count": 49
        }
      ],
      "source": [
        "df=reviews.copy()\n",
        "df['Date']=df['Review_Date'].str.split(' ').str[0]\n",
        "df['Month']=df['Review_Date'].str.split(' ').str[1]\n",
        "df['Year']=df['Review_Date'].str.split(' ').str[2]\n",
        "df[['Date','Month','Year']]\n"
      ]
    },
    {
      "cell_type": "code",
      "execution_count": null,
      "id": "369571d9",
      "metadata": {
        "colab": {
          "base_uri": "https://localhost:8080/"
        },
        "id": "369571d9",
        "outputId": "d5c5fe3b-3e59-4f9b-967f-e4970afe44ee"
      },
      "outputs": [
        {
          "output_type": "execute_result",
          "data": {
            "text/plain": [
              "in           2370\n",
              "October       442\n",
              "November      333\n",
              "September     300\n",
              "August        243\n",
              "January       229\n",
              "December      219\n",
              "July          198\n",
              "February      188\n",
              "June          175\n",
              "May           149\n",
              "March          88\n",
              "April          66\n",
              "Name: Month, dtype: int64"
            ]
          },
          "metadata": {},
          "execution_count": 30
        }
      ],
      "source": [
        "df.Month.value_counts()"
      ]
    },
    {
      "cell_type": "markdown",
      "id": "3378daf1",
      "metadata": {
        "id": "3378daf1"
      },
      "source": [
        "### Change 'month' from words to numbers for easier analysis"
      ]
    },
    {
      "cell_type": "code",
      "execution_count": null,
      "id": "6689bf04",
      "metadata": {
        "colab": {
          "base_uri": "https://localhost:8080/",
          "height": 423
        },
        "id": "6689bf04",
        "outputId": "36b50123-6915-4763-ad2e-5b410f019abb"
      },
      "outputs": [
        {
          "output_type": "execute_result",
          "data": {
            "text/plain": [
              "          Month\n",
              "0            in\n",
              "1            in\n",
              "2            in\n",
              "3            in\n",
              "4            in\n",
              "...         ...\n",
              "4995          5\n",
              "4996  September\n",
              "4997          5\n",
              "4998          6\n",
              "4999       July\n",
              "\n",
              "[5000 rows x 1 columns]"
            ],
            "text/html": [
              "\n",
              "  <div id=\"df-ad495ff4-db86-4690-bed9-5756ce9451b1\">\n",
              "    <div class=\"colab-df-container\">\n",
              "      <div>\n",
              "<style scoped>\n",
              "    .dataframe tbody tr th:only-of-type {\n",
              "        vertical-align: middle;\n",
              "    }\n",
              "\n",
              "    .dataframe tbody tr th {\n",
              "        vertical-align: top;\n",
              "    }\n",
              "\n",
              "    .dataframe thead th {\n",
              "        text-align: right;\n",
              "    }\n",
              "</style>\n",
              "<table border=\"1\" class=\"dataframe\">\n",
              "  <thead>\n",
              "    <tr style=\"text-align: right;\">\n",
              "      <th></th>\n",
              "      <th>Month</th>\n",
              "    </tr>\n",
              "  </thead>\n",
              "  <tbody>\n",
              "    <tr>\n",
              "      <th>0</th>\n",
              "      <td>in</td>\n",
              "    </tr>\n",
              "    <tr>\n",
              "      <th>1</th>\n",
              "      <td>in</td>\n",
              "    </tr>\n",
              "    <tr>\n",
              "      <th>2</th>\n",
              "      <td>in</td>\n",
              "    </tr>\n",
              "    <tr>\n",
              "      <th>3</th>\n",
              "      <td>in</td>\n",
              "    </tr>\n",
              "    <tr>\n",
              "      <th>4</th>\n",
              "      <td>in</td>\n",
              "    </tr>\n",
              "    <tr>\n",
              "      <th>...</th>\n",
              "      <td>...</td>\n",
              "    </tr>\n",
              "    <tr>\n",
              "      <th>4995</th>\n",
              "      <td>5</td>\n",
              "    </tr>\n",
              "    <tr>\n",
              "      <th>4996</th>\n",
              "      <td>September</td>\n",
              "    </tr>\n",
              "    <tr>\n",
              "      <th>4997</th>\n",
              "      <td>5</td>\n",
              "    </tr>\n",
              "    <tr>\n",
              "      <th>4998</th>\n",
              "      <td>6</td>\n",
              "    </tr>\n",
              "    <tr>\n",
              "      <th>4999</th>\n",
              "      <td>July</td>\n",
              "    </tr>\n",
              "  </tbody>\n",
              "</table>\n",
              "<p>5000 rows × 1 columns</p>\n",
              "</div>\n",
              "      <button class=\"colab-df-convert\" onclick=\"convertToInteractive('df-ad495ff4-db86-4690-bed9-5756ce9451b1')\"\n",
              "              title=\"Convert this dataframe to an interactive table.\"\n",
              "              style=\"display:none;\">\n",
              "        \n",
              "  <svg xmlns=\"http://www.w3.org/2000/svg\" height=\"24px\"viewBox=\"0 0 24 24\"\n",
              "       width=\"24px\">\n",
              "    <path d=\"M0 0h24v24H0V0z\" fill=\"none\"/>\n",
              "    <path d=\"M18.56 5.44l.94 2.06.94-2.06 2.06-.94-2.06-.94-.94-2.06-.94 2.06-2.06.94zm-11 1L8.5 8.5l.94-2.06 2.06-.94-2.06-.94L8.5 2.5l-.94 2.06-2.06.94zm10 10l.94 2.06.94-2.06 2.06-.94-2.06-.94-.94-2.06-.94 2.06-2.06.94z\"/><path d=\"M17.41 7.96l-1.37-1.37c-.4-.4-.92-.59-1.43-.59-.52 0-1.04.2-1.43.59L10.3 9.45l-7.72 7.72c-.78.78-.78 2.05 0 2.83L4 21.41c.39.39.9.59 1.41.59.51 0 1.02-.2 1.41-.59l7.78-7.78 2.81-2.81c.8-.78.8-2.07 0-2.86zM5.41 20L4 18.59l7.72-7.72 1.47 1.35L5.41 20z\"/>\n",
              "  </svg>\n",
              "      </button>\n",
              "      \n",
              "  <style>\n",
              "    .colab-df-container {\n",
              "      display:flex;\n",
              "      flex-wrap:wrap;\n",
              "      gap: 12px;\n",
              "    }\n",
              "\n",
              "    .colab-df-convert {\n",
              "      background-color: #E8F0FE;\n",
              "      border: none;\n",
              "      border-radius: 50%;\n",
              "      cursor: pointer;\n",
              "      display: none;\n",
              "      fill: #1967D2;\n",
              "      height: 32px;\n",
              "      padding: 0 0 0 0;\n",
              "      width: 32px;\n",
              "    }\n",
              "\n",
              "    .colab-df-convert:hover {\n",
              "      background-color: #E2EBFA;\n",
              "      box-shadow: 0px 1px 2px rgba(60, 64, 67, 0.3), 0px 1px 3px 1px rgba(60, 64, 67, 0.15);\n",
              "      fill: #174EA6;\n",
              "    }\n",
              "\n",
              "    [theme=dark] .colab-df-convert {\n",
              "      background-color: #3B4455;\n",
              "      fill: #D2E3FC;\n",
              "    }\n",
              "\n",
              "    [theme=dark] .colab-df-convert:hover {\n",
              "      background-color: #434B5C;\n",
              "      box-shadow: 0px 1px 3px 1px rgba(0, 0, 0, 0.15);\n",
              "      filter: drop-shadow(0px 1px 2px rgba(0, 0, 0, 0.3));\n",
              "      fill: #FFFFFF;\n",
              "    }\n",
              "  </style>\n",
              "\n",
              "      <script>\n",
              "        const buttonEl =\n",
              "          document.querySelector('#df-ad495ff4-db86-4690-bed9-5756ce9451b1 button.colab-df-convert');\n",
              "        buttonEl.style.display =\n",
              "          google.colab.kernel.accessAllowed ? 'block' : 'none';\n",
              "\n",
              "        async function convertToInteractive(key) {\n",
              "          const element = document.querySelector('#df-ad495ff4-db86-4690-bed9-5756ce9451b1');\n",
              "          const dataTable =\n",
              "            await google.colab.kernel.invokeFunction('convertToInteractive',\n",
              "                                                     [key], {});\n",
              "          if (!dataTable) return;\n",
              "\n",
              "          const docLinkHtml = 'Like what you see? Visit the ' +\n",
              "            '<a target=\"_blank\" href=https://colab.research.google.com/notebooks/data_table.ipynb>data table notebook</a>'\n",
              "            + ' to learn more about interactive tables.';\n",
              "          element.innerHTML = '';\n",
              "          dataTable['output_type'] = 'display_data';\n",
              "          await google.colab.output.renderOutput(dataTable, element);\n",
              "          const docLink = document.createElement('div');\n",
              "          docLink.innerHTML = docLinkHtml;\n",
              "          element.appendChild(docLink);\n",
              "        }\n",
              "      </script>\n",
              "    </div>\n",
              "  </div>\n",
              "  "
            ]
          },
          "metadata": {},
          "execution_count": 31
        }
      ],
      "source": [
        "order={'Month':{'February':2,'March':3,'April':4,'May':5,'June':6}}\n",
        "df1= df.copy()\n",
        "df1=df1.replace(order)\n",
        "df1[['Month']]"
      ]
    },
    {
      "cell_type": "code",
      "execution_count": null,
      "id": "037af67a",
      "metadata": {
        "colab": {
          "base_uri": "https://localhost:8080/"
        },
        "id": "037af67a",
        "outputId": "ec7f01e3-29a6-4de0-ba7c-7de0b16d18ae"
      },
      "outputs": [
        {
          "output_type": "stream",
          "name": "stdout",
          "text": [
            "<class 'pandas.core.frame.DataFrame'>\n",
            "RangeIndex: 5000 entries, 0 to 4999\n",
            "Data columns (total 7 columns):\n",
            " #   Column       Non-Null Count  Dtype  \n",
            "---  ------       --------------  -----  \n",
            " 0   Rating       5000 non-null   float64\n",
            " 1   Title        4999 non-null   object \n",
            " 2   Review       4768 non-null   object \n",
            " 3   Review_Date  5000 non-null   object \n",
            " 4   Date         5000 non-null   object \n",
            " 5   Month        5000 non-null   object \n",
            " 6   Year         5000 non-null   object \n",
            "dtypes: float64(1), object(6)\n",
            "memory usage: 273.6+ KB\n"
          ]
        }
      ],
      "source": [
        "df1.info()"
      ]
    },
    {
      "cell_type": "code",
      "source": [
        "df1['Date'] = pd.to_numeric(df1['Date'], errors='coerce').astype('Int64')\n",
        "df1['Year'] = pd.to_numeric(df1['Year'], errors='coerce').astype('Int64')\n",
        "df1.info()\n"
      ],
      "metadata": {
        "colab": {
          "base_uri": "https://localhost:8080/"
        },
        "id": "1uIsFvGw7NQ7",
        "outputId": "1a9daf6e-6d05-4a5f-9546-1f7abd447eca"
      },
      "id": "1uIsFvGw7NQ7",
      "execution_count": null,
      "outputs": [
        {
          "output_type": "stream",
          "name": "stdout",
          "text": [
            "<class 'pandas.core.frame.DataFrame'>\n",
            "RangeIndex: 5000 entries, 0 to 4999\n",
            "Data columns (total 6 columns):\n",
            " #   Column  Non-Null Count  Dtype  \n",
            "---  ------  --------------  -----  \n",
            " 0   Rating  5000 non-null   float64\n",
            " 1   Title   4999 non-null   object \n",
            " 2   Review  4768 non-null   object \n",
            " 3   Date    2630 non-null   Int64  \n",
            " 4   Month   5000 non-null   object \n",
            " 5   Year    2630 non-null   Int64  \n",
            "dtypes: Int64(2), float64(1), object(3)\n",
            "memory usage: 244.3+ KB\n"
          ]
        }
      ]
    },
    {
      "cell_type": "code",
      "execution_count": null,
      "id": "a2abdb3e",
      "metadata": {
        "id": "a2abdb3e"
      },
      "outputs": [],
      "source": [
        "#\n",
        "df1[['Date','Year']]=df1[['Date','Year']].astype('int64')\n",
        "df1.info()"
      ]
    },
    {
      "cell_type": "code",
      "source": [
        "df.head(3)"
      ],
      "metadata": {
        "colab": {
          "base_uri": "https://localhost:8080/",
          "height": 309
        },
        "id": "kUqnSvrwFkhg",
        "outputId": "718a82e4-d616-4eec-8579-c879c74cb904"
      },
      "id": "kUqnSvrwFkhg",
      "execution_count": null,
      "outputs": [
        {
          "output_type": "execute_result",
          "data": {
            "text/plain": [
              "   Rating                                Title  \\\n",
              "0     4.0  Good phone-could have been better !   \n",
              "1     4.0     This is a branded budget phone 📱   \n",
              "2     4.0           Okay for the budget phone.   \n",
              "\n",
              "                                              Review  \\\n",
              "0  I've purchased the 6GB version of this phone w...   \n",
              "1  This is definitely a budget branded phone 📱 af...   \n",
              "2  Operating system and multitasking is good for ...   \n",
              "\n",
              "                                Review_Date      Date Month   Year  \n",
              "0  Reviewed in India 🇮🇳 on 19 December 2022  Reviewed    in  India  \n",
              "1    Reviewed in India 🇮🇳 on 5 January 2023  Reviewed    in  India  \n",
              "2      Reviewed in India 🇮🇳 on 3 March 2023  Reviewed    in  India  "
            ],
            "text/html": [
              "\n",
              "  <div id=\"df-bd2da4f6-d3a2-45fc-a26c-e3356adfade6\">\n",
              "    <div class=\"colab-df-container\">\n",
              "      <div>\n",
              "<style scoped>\n",
              "    .dataframe tbody tr th:only-of-type {\n",
              "        vertical-align: middle;\n",
              "    }\n",
              "\n",
              "    .dataframe tbody tr th {\n",
              "        vertical-align: top;\n",
              "    }\n",
              "\n",
              "    .dataframe thead th {\n",
              "        text-align: right;\n",
              "    }\n",
              "</style>\n",
              "<table border=\"1\" class=\"dataframe\">\n",
              "  <thead>\n",
              "    <tr style=\"text-align: right;\">\n",
              "      <th></th>\n",
              "      <th>Rating</th>\n",
              "      <th>Title</th>\n",
              "      <th>Review</th>\n",
              "      <th>Review_Date</th>\n",
              "      <th>Date</th>\n",
              "      <th>Month</th>\n",
              "      <th>Year</th>\n",
              "    </tr>\n",
              "  </thead>\n",
              "  <tbody>\n",
              "    <tr>\n",
              "      <th>0</th>\n",
              "      <td>4.0</td>\n",
              "      <td>Good phone-could have been better !</td>\n",
              "      <td>I've purchased the 6GB version of this phone w...</td>\n",
              "      <td>Reviewed in India 🇮🇳 on 19 December 2022</td>\n",
              "      <td>Reviewed</td>\n",
              "      <td>in</td>\n",
              "      <td>India</td>\n",
              "    </tr>\n",
              "    <tr>\n",
              "      <th>1</th>\n",
              "      <td>4.0</td>\n",
              "      <td>This is a branded budget phone 📱</td>\n",
              "      <td>This is definitely a budget branded phone 📱 af...</td>\n",
              "      <td>Reviewed in India 🇮🇳 on 5 January 2023</td>\n",
              "      <td>Reviewed</td>\n",
              "      <td>in</td>\n",
              "      <td>India</td>\n",
              "    </tr>\n",
              "    <tr>\n",
              "      <th>2</th>\n",
              "      <td>4.0</td>\n",
              "      <td>Okay for the budget phone.</td>\n",
              "      <td>Operating system and multitasking is good for ...</td>\n",
              "      <td>Reviewed in India 🇮🇳 on 3 March 2023</td>\n",
              "      <td>Reviewed</td>\n",
              "      <td>in</td>\n",
              "      <td>India</td>\n",
              "    </tr>\n",
              "  </tbody>\n",
              "</table>\n",
              "</div>\n",
              "      <button class=\"colab-df-convert\" onclick=\"convertToInteractive('df-bd2da4f6-d3a2-45fc-a26c-e3356adfade6')\"\n",
              "              title=\"Convert this dataframe to an interactive table.\"\n",
              "              style=\"display:none;\">\n",
              "        \n",
              "  <svg xmlns=\"http://www.w3.org/2000/svg\" height=\"24px\"viewBox=\"0 0 24 24\"\n",
              "       width=\"24px\">\n",
              "    <path d=\"M0 0h24v24H0V0z\" fill=\"none\"/>\n",
              "    <path d=\"M18.56 5.44l.94 2.06.94-2.06 2.06-.94-2.06-.94-.94-2.06-.94 2.06-2.06.94zm-11 1L8.5 8.5l.94-2.06 2.06-.94-2.06-.94L8.5 2.5l-.94 2.06-2.06.94zm10 10l.94 2.06.94-2.06 2.06-.94-2.06-.94-.94-2.06-.94 2.06-2.06.94z\"/><path d=\"M17.41 7.96l-1.37-1.37c-.4-.4-.92-.59-1.43-.59-.52 0-1.04.2-1.43.59L10.3 9.45l-7.72 7.72c-.78.78-.78 2.05 0 2.83L4 21.41c.39.39.9.59 1.41.59.51 0 1.02-.2 1.41-.59l7.78-7.78 2.81-2.81c.8-.78.8-2.07 0-2.86zM5.41 20L4 18.59l7.72-7.72 1.47 1.35L5.41 20z\"/>\n",
              "  </svg>\n",
              "      </button>\n",
              "      \n",
              "  <style>\n",
              "    .colab-df-container {\n",
              "      display:flex;\n",
              "      flex-wrap:wrap;\n",
              "      gap: 12px;\n",
              "    }\n",
              "\n",
              "    .colab-df-convert {\n",
              "      background-color: #E8F0FE;\n",
              "      border: none;\n",
              "      border-radius: 50%;\n",
              "      cursor: pointer;\n",
              "      display: none;\n",
              "      fill: #1967D2;\n",
              "      height: 32px;\n",
              "      padding: 0 0 0 0;\n",
              "      width: 32px;\n",
              "    }\n",
              "\n",
              "    .colab-df-convert:hover {\n",
              "      background-color: #E2EBFA;\n",
              "      box-shadow: 0px 1px 2px rgba(60, 64, 67, 0.3), 0px 1px 3px 1px rgba(60, 64, 67, 0.15);\n",
              "      fill: #174EA6;\n",
              "    }\n",
              "\n",
              "    [theme=dark] .colab-df-convert {\n",
              "      background-color: #3B4455;\n",
              "      fill: #D2E3FC;\n",
              "    }\n",
              "\n",
              "    [theme=dark] .colab-df-convert:hover {\n",
              "      background-color: #434B5C;\n",
              "      box-shadow: 0px 1px 3px 1px rgba(0, 0, 0, 0.15);\n",
              "      filter: drop-shadow(0px 1px 2px rgba(0, 0, 0, 0.3));\n",
              "      fill: #FFFFFF;\n",
              "    }\n",
              "  </style>\n",
              "\n",
              "      <script>\n",
              "        const buttonEl =\n",
              "          document.querySelector('#df-bd2da4f6-d3a2-45fc-a26c-e3356adfade6 button.colab-df-convert');\n",
              "        buttonEl.style.display =\n",
              "          google.colab.kernel.accessAllowed ? 'block' : 'none';\n",
              "\n",
              "        async function convertToInteractive(key) {\n",
              "          const element = document.querySelector('#df-bd2da4f6-d3a2-45fc-a26c-e3356adfade6');\n",
              "          const dataTable =\n",
              "            await google.colab.kernel.invokeFunction('convertToInteractive',\n",
              "                                                     [key], {});\n",
              "          if (!dataTable) return;\n",
              "\n",
              "          const docLinkHtml = 'Like what you see? Visit the ' +\n",
              "            '<a target=\"_blank\" href=https://colab.research.google.com/notebooks/data_table.ipynb>data table notebook</a>'\n",
              "            + ' to learn more about interactive tables.';\n",
              "          element.innerHTML = '';\n",
              "          dataTable['output_type'] = 'display_data';\n",
              "          await google.colab.output.renderOutput(dataTable, element);\n",
              "          const docLink = document.createElement('div');\n",
              "          docLink.innerHTML = docLinkHtml;\n",
              "          element.appendChild(docLink);\n",
              "        }\n",
              "      </script>\n",
              "    </div>\n",
              "  </div>\n",
              "  "
            ]
          },
          "metadata": {},
          "execution_count": 54
        }
      ]
    },
    {
      "cell_type": "markdown",
      "id": "5f1cfdaf",
      "metadata": {
        "id": "5f1cfdaf"
      },
      "source": [
        "### Dropping the Original Columns after splitting the data"
      ]
    },
    {
      "cell_type": "code",
      "execution_count": null,
      "id": "9adbbde6",
      "metadata": {
        "colab": {
          "base_uri": "https://localhost:8080/",
          "height": 337
        },
        "id": "9adbbde6",
        "outputId": "8327b0df-bd9a-4f25-ccb6-0411fd8dd913"
      },
      "outputs": [
        {
          "output_type": "execute_result",
          "data": {
            "text/plain": [
              "   Rating                                Title  \\\n",
              "0     4.0  Good phone-could have been better !   \n",
              "1     4.0     This is a branded budget phone 📱   \n",
              "2     4.0           Okay for the budget phone.   \n",
              "3     4.0               A mildly perfect phone   \n",
              "4     4.0       Budget friendly reliable phone   \n",
              "\n",
              "                                              Review      Date Month   Year  \n",
              "0  I've purchased the 6GB version of this phone w...  Reviewed    in  India  \n",
              "1  This is definitely a budget branded phone 📱 af...  Reviewed    in  India  \n",
              "2  Operating system and multitasking is good for ...  Reviewed    in  India  \n",
              "3  I will try to keep this review short. This rev...  Reviewed    in  India  \n",
              "4  I bought the phone in Jan 2023 @ 18250. Below ...  Reviewed    in  India  "
            ],
            "text/html": [
              "\n",
              "  <div id=\"df-90118684-4239-4a48-96f5-ad7c9a9eb826\">\n",
              "    <div class=\"colab-df-container\">\n",
              "      <div>\n",
              "<style scoped>\n",
              "    .dataframe tbody tr th:only-of-type {\n",
              "        vertical-align: middle;\n",
              "    }\n",
              "\n",
              "    .dataframe tbody tr th {\n",
              "        vertical-align: top;\n",
              "    }\n",
              "\n",
              "    .dataframe thead th {\n",
              "        text-align: right;\n",
              "    }\n",
              "</style>\n",
              "<table border=\"1\" class=\"dataframe\">\n",
              "  <thead>\n",
              "    <tr style=\"text-align: right;\">\n",
              "      <th></th>\n",
              "      <th>Rating</th>\n",
              "      <th>Title</th>\n",
              "      <th>Review</th>\n",
              "      <th>Date</th>\n",
              "      <th>Month</th>\n",
              "      <th>Year</th>\n",
              "    </tr>\n",
              "  </thead>\n",
              "  <tbody>\n",
              "    <tr>\n",
              "      <th>0</th>\n",
              "      <td>4.0</td>\n",
              "      <td>Good phone-could have been better !</td>\n",
              "      <td>I've purchased the 6GB version of this phone w...</td>\n",
              "      <td>Reviewed</td>\n",
              "      <td>in</td>\n",
              "      <td>India</td>\n",
              "    </tr>\n",
              "    <tr>\n",
              "      <th>1</th>\n",
              "      <td>4.0</td>\n",
              "      <td>This is a branded budget phone 📱</td>\n",
              "      <td>This is definitely a budget branded phone 📱 af...</td>\n",
              "      <td>Reviewed</td>\n",
              "      <td>in</td>\n",
              "      <td>India</td>\n",
              "    </tr>\n",
              "    <tr>\n",
              "      <th>2</th>\n",
              "      <td>4.0</td>\n",
              "      <td>Okay for the budget phone.</td>\n",
              "      <td>Operating system and multitasking is good for ...</td>\n",
              "      <td>Reviewed</td>\n",
              "      <td>in</td>\n",
              "      <td>India</td>\n",
              "    </tr>\n",
              "    <tr>\n",
              "      <th>3</th>\n",
              "      <td>4.0</td>\n",
              "      <td>A mildly perfect phone</td>\n",
              "      <td>I will try to keep this review short. This rev...</td>\n",
              "      <td>Reviewed</td>\n",
              "      <td>in</td>\n",
              "      <td>India</td>\n",
              "    </tr>\n",
              "    <tr>\n",
              "      <th>4</th>\n",
              "      <td>4.0</td>\n",
              "      <td>Budget friendly reliable phone</td>\n",
              "      <td>I bought the phone in Jan 2023 @ 18250. Below ...</td>\n",
              "      <td>Reviewed</td>\n",
              "      <td>in</td>\n",
              "      <td>India</td>\n",
              "    </tr>\n",
              "  </tbody>\n",
              "</table>\n",
              "</div>\n",
              "      <button class=\"colab-df-convert\" onclick=\"convertToInteractive('df-90118684-4239-4a48-96f5-ad7c9a9eb826')\"\n",
              "              title=\"Convert this dataframe to an interactive table.\"\n",
              "              style=\"display:none;\">\n",
              "        \n",
              "  <svg xmlns=\"http://www.w3.org/2000/svg\" height=\"24px\"viewBox=\"0 0 24 24\"\n",
              "       width=\"24px\">\n",
              "    <path d=\"M0 0h24v24H0V0z\" fill=\"none\"/>\n",
              "    <path d=\"M18.56 5.44l.94 2.06.94-2.06 2.06-.94-2.06-.94-.94-2.06-.94 2.06-2.06.94zm-11 1L8.5 8.5l.94-2.06 2.06-.94-2.06-.94L8.5 2.5l-.94 2.06-2.06.94zm10 10l.94 2.06.94-2.06 2.06-.94-2.06-.94-.94-2.06-.94 2.06-2.06.94z\"/><path d=\"M17.41 7.96l-1.37-1.37c-.4-.4-.92-.59-1.43-.59-.52 0-1.04.2-1.43.59L10.3 9.45l-7.72 7.72c-.78.78-.78 2.05 0 2.83L4 21.41c.39.39.9.59 1.41.59.51 0 1.02-.2 1.41-.59l7.78-7.78 2.81-2.81c.8-.78.8-2.07 0-2.86zM5.41 20L4 18.59l7.72-7.72 1.47 1.35L5.41 20z\"/>\n",
              "  </svg>\n",
              "      </button>\n",
              "      \n",
              "  <style>\n",
              "    .colab-df-container {\n",
              "      display:flex;\n",
              "      flex-wrap:wrap;\n",
              "      gap: 12px;\n",
              "    }\n",
              "\n",
              "    .colab-df-convert {\n",
              "      background-color: #E8F0FE;\n",
              "      border: none;\n",
              "      border-radius: 50%;\n",
              "      cursor: pointer;\n",
              "      display: none;\n",
              "      fill: #1967D2;\n",
              "      height: 32px;\n",
              "      padding: 0 0 0 0;\n",
              "      width: 32px;\n",
              "    }\n",
              "\n",
              "    .colab-df-convert:hover {\n",
              "      background-color: #E2EBFA;\n",
              "      box-shadow: 0px 1px 2px rgba(60, 64, 67, 0.3), 0px 1px 3px 1px rgba(60, 64, 67, 0.15);\n",
              "      fill: #174EA6;\n",
              "    }\n",
              "\n",
              "    [theme=dark] .colab-df-convert {\n",
              "      background-color: #3B4455;\n",
              "      fill: #D2E3FC;\n",
              "    }\n",
              "\n",
              "    [theme=dark] .colab-df-convert:hover {\n",
              "      background-color: #434B5C;\n",
              "      box-shadow: 0px 1px 3px 1px rgba(0, 0, 0, 0.15);\n",
              "      filter: drop-shadow(0px 1px 2px rgba(0, 0, 0, 0.3));\n",
              "      fill: #FFFFFF;\n",
              "    }\n",
              "  </style>\n",
              "\n",
              "      <script>\n",
              "        const buttonEl =\n",
              "          document.querySelector('#df-90118684-4239-4a48-96f5-ad7c9a9eb826 button.colab-df-convert');\n",
              "        buttonEl.style.display =\n",
              "          google.colab.kernel.accessAllowed ? 'block' : 'none';\n",
              "\n",
              "        async function convertToInteractive(key) {\n",
              "          const element = document.querySelector('#df-90118684-4239-4a48-96f5-ad7c9a9eb826');\n",
              "          const dataTable =\n",
              "            await google.colab.kernel.invokeFunction('convertToInteractive',\n",
              "                                                     [key], {});\n",
              "          if (!dataTable) return;\n",
              "\n",
              "          const docLinkHtml = 'Like what you see? Visit the ' +\n",
              "            '<a target=\"_blank\" href=https://colab.research.google.com/notebooks/data_table.ipynb>data table notebook</a>'\n",
              "            + ' to learn more about interactive tables.';\n",
              "          element.innerHTML = '';\n",
              "          dataTable['output_type'] = 'display_data';\n",
              "          await google.colab.output.renderOutput(dataTable, element);\n",
              "          const docLink = document.createElement('div');\n",
              "          docLink.innerHTML = docLinkHtml;\n",
              "          element.appendChild(docLink);\n",
              "        }\n",
              "      </script>\n",
              "    </div>\n",
              "  </div>\n",
              "  "
            ]
          },
          "metadata": {},
          "execution_count": 57
        }
      ],
      "source": [
        "df.drop('Review_Date',axis=1, inplace=True)\n",
        "df.head()"
      ]
    },
    {
      "cell_type": "code",
      "execution_count": null,
      "id": "8cbcb7e2",
      "metadata": {
        "colab": {
          "base_uri": "https://localhost:8080/",
          "height": 641
        },
        "id": "8cbcb7e2",
        "outputId": "fdcb44b2-5abd-4960-8d91-e46ceeeec11e"
      },
      "outputs": [
        {
          "output_type": "execute_result",
          "data": {
            "text/plain": [
              "      Rating                                           Title  \\\n",
              "0        4.0             Good phone-could have been better !   \n",
              "1        4.0                This is a branded budget phone 📱   \n",
              "2        4.0                      Okay for the budget phone.   \n",
              "3        4.0                          A mildly perfect phone   \n",
              "4        4.0                  Budget friendly reliable phone   \n",
              "...      ...                                             ...   \n",
              "4995     3.0                              Not up to the mark   \n",
              "4996     5.0                                        Awesome.   \n",
              "4997     4.0                                              Ok   \n",
              "4998     5.0              Product is very good performance .   \n",
              "4999     3.0  At a time 2-3 Cab apps using hanging the phone   \n",
              "\n",
              "                                                 Review      Date      Month  \\\n",
              "0     I've purchased the 6GB version of this phone w...  Reviewed         in   \n",
              "1     This is definitely a budget branded phone 📱 af...  Reviewed         in   \n",
              "2     Operating system and multitasking is good for ...  Reviewed         in   \n",
              "3     I will try to keep this review short. This rev...  Reviewed         in   \n",
              "4     I bought the phone in Jan 2023 @ 18250. Below ...  Reviewed         in   \n",
              "...                                                 ...       ...        ...   \n",
              "4995  I am using this phone from 3days.Sound quality...        30        May   \n",
              "4996                                        Good phone.        22  September   \n",
              "4997                                                 Ok        15        May   \n",
              "4998  Product is very good performance and Amazon se...        30       June   \n",
              "4999  Battery life not good, camara good, fingerprin...        14       July   \n",
              "\n",
              "       Year  \n",
              "0     India  \n",
              "1     India  \n",
              "2     India  \n",
              "3     India  \n",
              "4     India  \n",
              "...     ...  \n",
              "4995   2022  \n",
              "4996   2022  \n",
              "4997   2022  \n",
              "4998   2022  \n",
              "4999   2022  \n",
              "\n",
              "[5000 rows x 6 columns]"
            ],
            "text/html": [
              "\n",
              "  <div id=\"df-ae998054-f960-4a62-9805-70f7b033bb45\">\n",
              "    <div class=\"colab-df-container\">\n",
              "      <div>\n",
              "<style scoped>\n",
              "    .dataframe tbody tr th:only-of-type {\n",
              "        vertical-align: middle;\n",
              "    }\n",
              "\n",
              "    .dataframe tbody tr th {\n",
              "        vertical-align: top;\n",
              "    }\n",
              "\n",
              "    .dataframe thead th {\n",
              "        text-align: right;\n",
              "    }\n",
              "</style>\n",
              "<table border=\"1\" class=\"dataframe\">\n",
              "  <thead>\n",
              "    <tr style=\"text-align: right;\">\n",
              "      <th></th>\n",
              "      <th>Rating</th>\n",
              "      <th>Title</th>\n",
              "      <th>Review</th>\n",
              "      <th>Date</th>\n",
              "      <th>Month</th>\n",
              "      <th>Year</th>\n",
              "    </tr>\n",
              "  </thead>\n",
              "  <tbody>\n",
              "    <tr>\n",
              "      <th>0</th>\n",
              "      <td>4.0</td>\n",
              "      <td>Good phone-could have been better !</td>\n",
              "      <td>I've purchased the 6GB version of this phone w...</td>\n",
              "      <td>Reviewed</td>\n",
              "      <td>in</td>\n",
              "      <td>India</td>\n",
              "    </tr>\n",
              "    <tr>\n",
              "      <th>1</th>\n",
              "      <td>4.0</td>\n",
              "      <td>This is a branded budget phone 📱</td>\n",
              "      <td>This is definitely a budget branded phone 📱 af...</td>\n",
              "      <td>Reviewed</td>\n",
              "      <td>in</td>\n",
              "      <td>India</td>\n",
              "    </tr>\n",
              "    <tr>\n",
              "      <th>2</th>\n",
              "      <td>4.0</td>\n",
              "      <td>Okay for the budget phone.</td>\n",
              "      <td>Operating system and multitasking is good for ...</td>\n",
              "      <td>Reviewed</td>\n",
              "      <td>in</td>\n",
              "      <td>India</td>\n",
              "    </tr>\n",
              "    <tr>\n",
              "      <th>3</th>\n",
              "      <td>4.0</td>\n",
              "      <td>A mildly perfect phone</td>\n",
              "      <td>I will try to keep this review short. This rev...</td>\n",
              "      <td>Reviewed</td>\n",
              "      <td>in</td>\n",
              "      <td>India</td>\n",
              "    </tr>\n",
              "    <tr>\n",
              "      <th>4</th>\n",
              "      <td>4.0</td>\n",
              "      <td>Budget friendly reliable phone</td>\n",
              "      <td>I bought the phone in Jan 2023 @ 18250. Below ...</td>\n",
              "      <td>Reviewed</td>\n",
              "      <td>in</td>\n",
              "      <td>India</td>\n",
              "    </tr>\n",
              "    <tr>\n",
              "      <th>...</th>\n",
              "      <td>...</td>\n",
              "      <td>...</td>\n",
              "      <td>...</td>\n",
              "      <td>...</td>\n",
              "      <td>...</td>\n",
              "      <td>...</td>\n",
              "    </tr>\n",
              "    <tr>\n",
              "      <th>4995</th>\n",
              "      <td>3.0</td>\n",
              "      <td>Not up to the mark</td>\n",
              "      <td>I am using this phone from 3days.Sound quality...</td>\n",
              "      <td>30</td>\n",
              "      <td>May</td>\n",
              "      <td>2022</td>\n",
              "    </tr>\n",
              "    <tr>\n",
              "      <th>4996</th>\n",
              "      <td>5.0</td>\n",
              "      <td>Awesome.</td>\n",
              "      <td>Good phone.</td>\n",
              "      <td>22</td>\n",
              "      <td>September</td>\n",
              "      <td>2022</td>\n",
              "    </tr>\n",
              "    <tr>\n",
              "      <th>4997</th>\n",
              "      <td>4.0</td>\n",
              "      <td>Ok</td>\n",
              "      <td>Ok</td>\n",
              "      <td>15</td>\n",
              "      <td>May</td>\n",
              "      <td>2022</td>\n",
              "    </tr>\n",
              "    <tr>\n",
              "      <th>4998</th>\n",
              "      <td>5.0</td>\n",
              "      <td>Product is very good performance .</td>\n",
              "      <td>Product is very good performance and Amazon se...</td>\n",
              "      <td>30</td>\n",
              "      <td>June</td>\n",
              "      <td>2022</td>\n",
              "    </tr>\n",
              "    <tr>\n",
              "      <th>4999</th>\n",
              "      <td>3.0</td>\n",
              "      <td>At a time 2-3 Cab apps using hanging the phone</td>\n",
              "      <td>Battery life not good, camara good, fingerprin...</td>\n",
              "      <td>14</td>\n",
              "      <td>July</td>\n",
              "      <td>2022</td>\n",
              "    </tr>\n",
              "  </tbody>\n",
              "</table>\n",
              "<p>5000 rows × 6 columns</p>\n",
              "</div>\n",
              "      <button class=\"colab-df-convert\" onclick=\"convertToInteractive('df-ae998054-f960-4a62-9805-70f7b033bb45')\"\n",
              "              title=\"Convert this dataframe to an interactive table.\"\n",
              "              style=\"display:none;\">\n",
              "        \n",
              "  <svg xmlns=\"http://www.w3.org/2000/svg\" height=\"24px\"viewBox=\"0 0 24 24\"\n",
              "       width=\"24px\">\n",
              "    <path d=\"M0 0h24v24H0V0z\" fill=\"none\"/>\n",
              "    <path d=\"M18.56 5.44l.94 2.06.94-2.06 2.06-.94-2.06-.94-.94-2.06-.94 2.06-2.06.94zm-11 1L8.5 8.5l.94-2.06 2.06-.94-2.06-.94L8.5 2.5l-.94 2.06-2.06.94zm10 10l.94 2.06.94-2.06 2.06-.94-2.06-.94-.94-2.06-.94 2.06-2.06.94z\"/><path d=\"M17.41 7.96l-1.37-1.37c-.4-.4-.92-.59-1.43-.59-.52 0-1.04.2-1.43.59L10.3 9.45l-7.72 7.72c-.78.78-.78 2.05 0 2.83L4 21.41c.39.39.9.59 1.41.59.51 0 1.02-.2 1.41-.59l7.78-7.78 2.81-2.81c.8-.78.8-2.07 0-2.86zM5.41 20L4 18.59l7.72-7.72 1.47 1.35L5.41 20z\"/>\n",
              "  </svg>\n",
              "      </button>\n",
              "      \n",
              "  <style>\n",
              "    .colab-df-container {\n",
              "      display:flex;\n",
              "      flex-wrap:wrap;\n",
              "      gap: 12px;\n",
              "    }\n",
              "\n",
              "    .colab-df-convert {\n",
              "      background-color: #E8F0FE;\n",
              "      border: none;\n",
              "      border-radius: 50%;\n",
              "      cursor: pointer;\n",
              "      display: none;\n",
              "      fill: #1967D2;\n",
              "      height: 32px;\n",
              "      padding: 0 0 0 0;\n",
              "      width: 32px;\n",
              "    }\n",
              "\n",
              "    .colab-df-convert:hover {\n",
              "      background-color: #E2EBFA;\n",
              "      box-shadow: 0px 1px 2px rgba(60, 64, 67, 0.3), 0px 1px 3px 1px rgba(60, 64, 67, 0.15);\n",
              "      fill: #174EA6;\n",
              "    }\n",
              "\n",
              "    [theme=dark] .colab-df-convert {\n",
              "      background-color: #3B4455;\n",
              "      fill: #D2E3FC;\n",
              "    }\n",
              "\n",
              "    [theme=dark] .colab-df-convert:hover {\n",
              "      background-color: #434B5C;\n",
              "      box-shadow: 0px 1px 3px 1px rgba(0, 0, 0, 0.15);\n",
              "      filter: drop-shadow(0px 1px 2px rgba(0, 0, 0, 0.3));\n",
              "      fill: #FFFFFF;\n",
              "    }\n",
              "  </style>\n",
              "\n",
              "      <script>\n",
              "        const buttonEl =\n",
              "          document.querySelector('#df-ae998054-f960-4a62-9805-70f7b033bb45 button.colab-df-convert');\n",
              "        buttonEl.style.display =\n",
              "          google.colab.kernel.accessAllowed ? 'block' : 'none';\n",
              "\n",
              "        async function convertToInteractive(key) {\n",
              "          const element = document.querySelector('#df-ae998054-f960-4a62-9805-70f7b033bb45');\n",
              "          const dataTable =\n",
              "            await google.colab.kernel.invokeFunction('convertToInteractive',\n",
              "                                                     [key], {});\n",
              "          if (!dataTable) return;\n",
              "\n",
              "          const docLinkHtml = 'Like what you see? Visit the ' +\n",
              "            '<a target=\"_blank\" href=https://colab.research.google.com/notebooks/data_table.ipynb>data table notebook</a>'\n",
              "            + ' to learn more about interactive tables.';\n",
              "          element.innerHTML = '';\n",
              "          dataTable['output_type'] = 'display_data';\n",
              "          await google.colab.output.renderOutput(dataTable, element);\n",
              "          const docLink = document.createElement('div');\n",
              "          docLink.innerHTML = docLinkHtml;\n",
              "          element.appendChild(docLink);\n",
              "        }\n",
              "      </script>\n",
              "    </div>\n",
              "  </div>\n",
              "  "
            ]
          },
          "metadata": {},
          "execution_count": 58
        }
      ],
      "source": [
        "df"
      ]
    },
    {
      "cell_type": "markdown",
      "id": "5bb71f9a",
      "metadata": {
        "id": "5bb71f9a"
      },
      "source": [
        "0.1. __<a href='#0.1' target='_self'>Table of Contents:</a>__"
      ]
    },
    {
      "cell_type": "markdown",
      "id": "d20d2602",
      "metadata": {
        "id": "d20d2602"
      },
      "source": [
        "## <a id='5'>5. Data Visualization</a>"
      ]
    },
    {
      "cell_type": "markdown",
      "id": "2e021ffb",
      "metadata": {
        "id": "2e021ffb"
      },
      "source": [
        "#### date versus review count"
      ]
    },
    {
      "cell_type": "code",
      "source": [
        "#Creating a dataframe\n",
        "dayreview = pd.DataFrame(df.groupby('Date')['Review'].count()).reset_index()\n",
        "df['Date'] = pd.to_datetime(df['Date'], format='%d %B %Y')\n",
        "\n",
        "\n",
        "\n",
        "df['Year'] = df['Date'].dt.year\n",
        "dayreview.sort_values(by = ['Date'])\n",
        "\n",
        "#Plotting the graph`\n",
        "plt.figure(figsize=(16,8))\n",
        "sns.barplot(x = \"Date\", y = \"Review\", data = dayreview)\n",
        "plt.title('Date vs Reviews count')\n",
        "plt.xlabel('Date')\n",
        "plt.ylabel('Reviews count')\n",
        "plt.show()"
      ],
      "metadata": {
        "id": "m8iNNhr8Asv_"
      },
      "id": "m8iNNhr8Asv_",
      "execution_count": null,
      "outputs": []
    },
    {
      "cell_type": "code",
      "source": [
        "#\n",
        "import re\n",
        "\n",
        "dayreview['FormattedDate'] = dayreview['Date'].apply(lambda x: re.findall(r'\\d+\\s\\w+\\s\\d{4}', x)[0])\n",
        "dayreview['FormattedDate'] = pd.to_datetime(dayreview['FormattedDate'], format='%d %B %Y')\n"
      ],
      "metadata": {
        "id": "guyebg4_Cp0m"
      },
      "id": "guyebg4_Cp0m",
      "execution_count": null,
      "outputs": []
    },
    {
      "cell_type": "code",
      "source": [
        "df.head(12)"
      ],
      "metadata": {
        "colab": {
          "base_uri": "https://localhost:8080/",
          "height": 678
        },
        "id": "0gvPSkjdH7vc",
        "outputId": "6cba447d-6ca3-4ea7-bc08-25247953b03b"
      },
      "id": "0gvPSkjdH7vc",
      "execution_count": null,
      "outputs": [
        {
          "output_type": "execute_result",
          "data": {
            "text/plain": [
              "    Rating                                  Title  \\\n",
              "0      4.0    Good phone-could have been better !   \n",
              "1      4.0       This is a branded budget phone 📱   \n",
              "2      4.0             Okay for the budget phone.   \n",
              "3      4.0                 A mildly perfect phone   \n",
              "4      4.0         Budget friendly reliable phone   \n",
              "5      4.0        Good phone if you buy under 18K   \n",
              "6      4.0          Setting phone icon as default   \n",
              "7      4.0                                   Good   \n",
              "8      4.0                           Never Settle   \n",
              "9      4.0     The Smartphone is overall too good   \n",
              "10     4.0             Decent phone at this price   \n",
              "11     4.0  Very nice mobile, camera is awesome 👍   \n",
              "\n",
              "                                               Review      Date  Month   Year  \n",
              "0   I've purchased the 6GB version of this phone w...  Reviewed     in  India  \n",
              "1   This is definitely a budget branded phone 📱 af...  Reviewed     in  India  \n",
              "2   Operating system and multitasking is good for ...  Reviewed     in  India  \n",
              "3   I will try to keep this review short. This rev...  Reviewed     in  India  \n",
              "4   I bought the phone in Jan 2023 @ 18250. Below ...  Reviewed     in  India  \n",
              "5   Performance up to the mark👍, If you do more ga...  Reviewed     in  India  \n",
              "6   If I set phone as default, I am unable to atte...  Reviewed     in  India  \n",
              "7   The media could not be loaded.\\n              ...  Reviewed     in  India  \n",
              "8   Absolutely the best smartphone with value for ...  Reviewed     in  India  \n",
              "9   I like all the features as it is a budget phon...  Reviewed     in  India  \n",
              "10  Decent phone at this price, so far liking it i...         2  March   2023  \n",
              "11  Camera quality is awesome, fingerprint very fa...         2  March   2023  "
            ],
            "text/html": [
              "\n",
              "  <div id=\"df-956bbd4f-c740-4122-840f-8d050379ce24\">\n",
              "    <div class=\"colab-df-container\">\n",
              "      <div>\n",
              "<style scoped>\n",
              "    .dataframe tbody tr th:only-of-type {\n",
              "        vertical-align: middle;\n",
              "    }\n",
              "\n",
              "    .dataframe tbody tr th {\n",
              "        vertical-align: top;\n",
              "    }\n",
              "\n",
              "    .dataframe thead th {\n",
              "        text-align: right;\n",
              "    }\n",
              "</style>\n",
              "<table border=\"1\" class=\"dataframe\">\n",
              "  <thead>\n",
              "    <tr style=\"text-align: right;\">\n",
              "      <th></th>\n",
              "      <th>Rating</th>\n",
              "      <th>Title</th>\n",
              "      <th>Review</th>\n",
              "      <th>Date</th>\n",
              "      <th>Month</th>\n",
              "      <th>Year</th>\n",
              "    </tr>\n",
              "  </thead>\n",
              "  <tbody>\n",
              "    <tr>\n",
              "      <th>0</th>\n",
              "      <td>4.0</td>\n",
              "      <td>Good phone-could have been better !</td>\n",
              "      <td>I've purchased the 6GB version of this phone w...</td>\n",
              "      <td>Reviewed</td>\n",
              "      <td>in</td>\n",
              "      <td>India</td>\n",
              "    </tr>\n",
              "    <tr>\n",
              "      <th>1</th>\n",
              "      <td>4.0</td>\n",
              "      <td>This is a branded budget phone 📱</td>\n",
              "      <td>This is definitely a budget branded phone 📱 af...</td>\n",
              "      <td>Reviewed</td>\n",
              "      <td>in</td>\n",
              "      <td>India</td>\n",
              "    </tr>\n",
              "    <tr>\n",
              "      <th>2</th>\n",
              "      <td>4.0</td>\n",
              "      <td>Okay for the budget phone.</td>\n",
              "      <td>Operating system and multitasking is good for ...</td>\n",
              "      <td>Reviewed</td>\n",
              "      <td>in</td>\n",
              "      <td>India</td>\n",
              "    </tr>\n",
              "    <tr>\n",
              "      <th>3</th>\n",
              "      <td>4.0</td>\n",
              "      <td>A mildly perfect phone</td>\n",
              "      <td>I will try to keep this review short. This rev...</td>\n",
              "      <td>Reviewed</td>\n",
              "      <td>in</td>\n",
              "      <td>India</td>\n",
              "    </tr>\n",
              "    <tr>\n",
              "      <th>4</th>\n",
              "      <td>4.0</td>\n",
              "      <td>Budget friendly reliable phone</td>\n",
              "      <td>I bought the phone in Jan 2023 @ 18250. Below ...</td>\n",
              "      <td>Reviewed</td>\n",
              "      <td>in</td>\n",
              "      <td>India</td>\n",
              "    </tr>\n",
              "    <tr>\n",
              "      <th>5</th>\n",
              "      <td>4.0</td>\n",
              "      <td>Good phone if you buy under 18K</td>\n",
              "      <td>Performance up to the mark👍, If you do more ga...</td>\n",
              "      <td>Reviewed</td>\n",
              "      <td>in</td>\n",
              "      <td>India</td>\n",
              "    </tr>\n",
              "    <tr>\n",
              "      <th>6</th>\n",
              "      <td>4.0</td>\n",
              "      <td>Setting phone icon as default</td>\n",
              "      <td>If I set phone as default, I am unable to atte...</td>\n",
              "      <td>Reviewed</td>\n",
              "      <td>in</td>\n",
              "      <td>India</td>\n",
              "    </tr>\n",
              "    <tr>\n",
              "      <th>7</th>\n",
              "      <td>4.0</td>\n",
              "      <td>Good</td>\n",
              "      <td>The media could not be loaded.\\n              ...</td>\n",
              "      <td>Reviewed</td>\n",
              "      <td>in</td>\n",
              "      <td>India</td>\n",
              "    </tr>\n",
              "    <tr>\n",
              "      <th>8</th>\n",
              "      <td>4.0</td>\n",
              "      <td>Never Settle</td>\n",
              "      <td>Absolutely the best smartphone with value for ...</td>\n",
              "      <td>Reviewed</td>\n",
              "      <td>in</td>\n",
              "      <td>India</td>\n",
              "    </tr>\n",
              "    <tr>\n",
              "      <th>9</th>\n",
              "      <td>4.0</td>\n",
              "      <td>The Smartphone is overall too good</td>\n",
              "      <td>I like all the features as it is a budget phon...</td>\n",
              "      <td>Reviewed</td>\n",
              "      <td>in</td>\n",
              "      <td>India</td>\n",
              "    </tr>\n",
              "    <tr>\n",
              "      <th>10</th>\n",
              "      <td>4.0</td>\n",
              "      <td>Decent phone at this price</td>\n",
              "      <td>Decent phone at this price, so far liking it i...</td>\n",
              "      <td>2</td>\n",
              "      <td>March</td>\n",
              "      <td>2023</td>\n",
              "    </tr>\n",
              "    <tr>\n",
              "      <th>11</th>\n",
              "      <td>4.0</td>\n",
              "      <td>Very nice mobile, camera is awesome 👍</td>\n",
              "      <td>Camera quality is awesome, fingerprint very fa...</td>\n",
              "      <td>2</td>\n",
              "      <td>March</td>\n",
              "      <td>2023</td>\n",
              "    </tr>\n",
              "  </tbody>\n",
              "</table>\n",
              "</div>\n",
              "      <button class=\"colab-df-convert\" onclick=\"convertToInteractive('df-956bbd4f-c740-4122-840f-8d050379ce24')\"\n",
              "              title=\"Convert this dataframe to an interactive table.\"\n",
              "              style=\"display:none;\">\n",
              "        \n",
              "  <svg xmlns=\"http://www.w3.org/2000/svg\" height=\"24px\"viewBox=\"0 0 24 24\"\n",
              "       width=\"24px\">\n",
              "    <path d=\"M0 0h24v24H0V0z\" fill=\"none\"/>\n",
              "    <path d=\"M18.56 5.44l.94 2.06.94-2.06 2.06-.94-2.06-.94-.94-2.06-.94 2.06-2.06.94zm-11 1L8.5 8.5l.94-2.06 2.06-.94-2.06-.94L8.5 2.5l-.94 2.06-2.06.94zm10 10l.94 2.06.94-2.06 2.06-.94-2.06-.94-.94-2.06-.94 2.06-2.06.94z\"/><path d=\"M17.41 7.96l-1.37-1.37c-.4-.4-.92-.59-1.43-.59-.52 0-1.04.2-1.43.59L10.3 9.45l-7.72 7.72c-.78.78-.78 2.05 0 2.83L4 21.41c.39.39.9.59 1.41.59.51 0 1.02-.2 1.41-.59l7.78-7.78 2.81-2.81c.8-.78.8-2.07 0-2.86zM5.41 20L4 18.59l7.72-7.72 1.47 1.35L5.41 20z\"/>\n",
              "  </svg>\n",
              "      </button>\n",
              "      \n",
              "  <style>\n",
              "    .colab-df-container {\n",
              "      display:flex;\n",
              "      flex-wrap:wrap;\n",
              "      gap: 12px;\n",
              "    }\n",
              "\n",
              "    .colab-df-convert {\n",
              "      background-color: #E8F0FE;\n",
              "      border: none;\n",
              "      border-radius: 50%;\n",
              "      cursor: pointer;\n",
              "      display: none;\n",
              "      fill: #1967D2;\n",
              "      height: 32px;\n",
              "      padding: 0 0 0 0;\n",
              "      width: 32px;\n",
              "    }\n",
              "\n",
              "    .colab-df-convert:hover {\n",
              "      background-color: #E2EBFA;\n",
              "      box-shadow: 0px 1px 2px rgba(60, 64, 67, 0.3), 0px 1px 3px 1px rgba(60, 64, 67, 0.15);\n",
              "      fill: #174EA6;\n",
              "    }\n",
              "\n",
              "    [theme=dark] .colab-df-convert {\n",
              "      background-color: #3B4455;\n",
              "      fill: #D2E3FC;\n",
              "    }\n",
              "\n",
              "    [theme=dark] .colab-df-convert:hover {\n",
              "      background-color: #434B5C;\n",
              "      box-shadow: 0px 1px 3px 1px rgba(0, 0, 0, 0.15);\n",
              "      filter: drop-shadow(0px 1px 2px rgba(0, 0, 0, 0.3));\n",
              "      fill: #FFFFFF;\n",
              "    }\n",
              "  </style>\n",
              "\n",
              "      <script>\n",
              "        const buttonEl =\n",
              "          document.querySelector('#df-956bbd4f-c740-4122-840f-8d050379ce24 button.colab-df-convert');\n",
              "        buttonEl.style.display =\n",
              "          google.colab.kernel.accessAllowed ? 'block' : 'none';\n",
              "\n",
              "        async function convertToInteractive(key) {\n",
              "          const element = document.querySelector('#df-956bbd4f-c740-4122-840f-8d050379ce24');\n",
              "          const dataTable =\n",
              "            await google.colab.kernel.invokeFunction('convertToInteractive',\n",
              "                                                     [key], {});\n",
              "          if (!dataTable) return;\n",
              "\n",
              "          const docLinkHtml = 'Like what you see? Visit the ' +\n",
              "            '<a target=\"_blank\" href=https://colab.research.google.com/notebooks/data_table.ipynb>data table notebook</a>'\n",
              "            + ' to learn more about interactive tables.';\n",
              "          element.innerHTML = '';\n",
              "          dataTable['output_type'] = 'display_data';\n",
              "          await google.colab.output.renderOutput(dataTable, element);\n",
              "          const docLink = document.createElement('div');\n",
              "          docLink.innerHTML = docLinkHtml;\n",
              "          element.appendChild(docLink);\n",
              "        }\n",
              "      </script>\n",
              "    </div>\n",
              "  </div>\n",
              "  "
            ]
          },
          "metadata": {},
          "execution_count": 65
        }
      ]
    },
    {
      "cell_type": "code",
      "source": [
        "df.head()"
      ],
      "metadata": {
        "colab": {
          "base_uri": "https://localhost:8080/",
          "height": 302
        },
        "id": "qDLhb90vHf3i",
        "outputId": "8c1767d0-534d-47c3-9a40-50d966ce8259"
      },
      "id": "qDLhb90vHf3i",
      "execution_count": null,
      "outputs": [
        {
          "output_type": "execute_result",
          "data": {
            "text/plain": [
              "    Rating                            Title  \\\n",
              "20     4.0                      HYBRID SLOT   \n",
              "21     4.0                     good product   \n",
              "22     4.0                             Hang   \n",
              "23     4.0  Very good product in this range   \n",
              "24     4.0            About delivery person   \n",
              "\n",
              "                                               Review      Date Month   Year  \n",
              "20  IS PHONE MIA 2 SIM OR 1 SD CARD KA OPTION HONA...  Reviewed    in  India  \n",
              "21                                      good product.  Reviewed    in  India  \n",
              "22                                      Hang hota hai  Reviewed    in  India  \n",
              "23  Perfect product for who are looking premium phone  Reviewed    in  India  \n",
              "24  Delivery person taking 250 rs on cash amountAn...  Reviewed    in  India  "
            ],
            "text/html": [
              "\n",
              "  <div id=\"df-a63decbb-f6b8-465c-9a50-c246ad7209b5\">\n",
              "    <div class=\"colab-df-container\">\n",
              "      <div>\n",
              "<style scoped>\n",
              "    .dataframe tbody tr th:only-of-type {\n",
              "        vertical-align: middle;\n",
              "    }\n",
              "\n",
              "    .dataframe tbody tr th {\n",
              "        vertical-align: top;\n",
              "    }\n",
              "\n",
              "    .dataframe thead th {\n",
              "        text-align: right;\n",
              "    }\n",
              "</style>\n",
              "<table border=\"1\" class=\"dataframe\">\n",
              "  <thead>\n",
              "    <tr style=\"text-align: right;\">\n",
              "      <th></th>\n",
              "      <th>Rating</th>\n",
              "      <th>Title</th>\n",
              "      <th>Review</th>\n",
              "      <th>Date</th>\n",
              "      <th>Month</th>\n",
              "      <th>Year</th>\n",
              "    </tr>\n",
              "  </thead>\n",
              "  <tbody>\n",
              "    <tr>\n",
              "      <th>20</th>\n",
              "      <td>4.0</td>\n",
              "      <td>HYBRID SLOT</td>\n",
              "      <td>IS PHONE MIA 2 SIM OR 1 SD CARD KA OPTION HONA...</td>\n",
              "      <td>Reviewed</td>\n",
              "      <td>in</td>\n",
              "      <td>India</td>\n",
              "    </tr>\n",
              "    <tr>\n",
              "      <th>21</th>\n",
              "      <td>4.0</td>\n",
              "      <td>good product</td>\n",
              "      <td>good product.</td>\n",
              "      <td>Reviewed</td>\n",
              "      <td>in</td>\n",
              "      <td>India</td>\n",
              "    </tr>\n",
              "    <tr>\n",
              "      <th>22</th>\n",
              "      <td>4.0</td>\n",
              "      <td>Hang</td>\n",
              "      <td>Hang hota hai</td>\n",
              "      <td>Reviewed</td>\n",
              "      <td>in</td>\n",
              "      <td>India</td>\n",
              "    </tr>\n",
              "    <tr>\n",
              "      <th>23</th>\n",
              "      <td>4.0</td>\n",
              "      <td>Very good product in this range</td>\n",
              "      <td>Perfect product for who are looking premium phone</td>\n",
              "      <td>Reviewed</td>\n",
              "      <td>in</td>\n",
              "      <td>India</td>\n",
              "    </tr>\n",
              "    <tr>\n",
              "      <th>24</th>\n",
              "      <td>4.0</td>\n",
              "      <td>About delivery person</td>\n",
              "      <td>Delivery person taking 250 rs on cash amountAn...</td>\n",
              "      <td>Reviewed</td>\n",
              "      <td>in</td>\n",
              "      <td>India</td>\n",
              "    </tr>\n",
              "  </tbody>\n",
              "</table>\n",
              "</div>\n",
              "      <button class=\"colab-df-convert\" onclick=\"convertToInteractive('df-a63decbb-f6b8-465c-9a50-c246ad7209b5')\"\n",
              "              title=\"Convert this dataframe to an interactive table.\"\n",
              "              style=\"display:none;\">\n",
              "        \n",
              "  <svg xmlns=\"http://www.w3.org/2000/svg\" height=\"24px\"viewBox=\"0 0 24 24\"\n",
              "       width=\"24px\">\n",
              "    <path d=\"M0 0h24v24H0V0z\" fill=\"none\"/>\n",
              "    <path d=\"M18.56 5.44l.94 2.06.94-2.06 2.06-.94-2.06-.94-.94-2.06-.94 2.06-2.06.94zm-11 1L8.5 8.5l.94-2.06 2.06-.94-2.06-.94L8.5 2.5l-.94 2.06-2.06.94zm10 10l.94 2.06.94-2.06 2.06-.94-2.06-.94-.94-2.06-.94 2.06-2.06.94z\"/><path d=\"M17.41 7.96l-1.37-1.37c-.4-.4-.92-.59-1.43-.59-.52 0-1.04.2-1.43.59L10.3 9.45l-7.72 7.72c-.78.78-.78 2.05 0 2.83L4 21.41c.39.39.9.59 1.41.59.51 0 1.02-.2 1.41-.59l7.78-7.78 2.81-2.81c.8-.78.8-2.07 0-2.86zM5.41 20L4 18.59l7.72-7.72 1.47 1.35L5.41 20z\"/>\n",
              "  </svg>\n",
              "      </button>\n",
              "      \n",
              "  <style>\n",
              "    .colab-df-container {\n",
              "      display:flex;\n",
              "      flex-wrap:wrap;\n",
              "      gap: 12px;\n",
              "    }\n",
              "\n",
              "    .colab-df-convert {\n",
              "      background-color: #E8F0FE;\n",
              "      border: none;\n",
              "      border-radius: 50%;\n",
              "      cursor: pointer;\n",
              "      display: none;\n",
              "      fill: #1967D2;\n",
              "      height: 32px;\n",
              "      padding: 0 0 0 0;\n",
              "      width: 32px;\n",
              "    }\n",
              "\n",
              "    .colab-df-convert:hover {\n",
              "      background-color: #E2EBFA;\n",
              "      box-shadow: 0px 1px 2px rgba(60, 64, 67, 0.3), 0px 1px 3px 1px rgba(60, 64, 67, 0.15);\n",
              "      fill: #174EA6;\n",
              "    }\n",
              "\n",
              "    [theme=dark] .colab-df-convert {\n",
              "      background-color: #3B4455;\n",
              "      fill: #D2E3FC;\n",
              "    }\n",
              "\n",
              "    [theme=dark] .colab-df-convert:hover {\n",
              "      background-color: #434B5C;\n",
              "      box-shadow: 0px 1px 3px 1px rgba(0, 0, 0, 0.15);\n",
              "      filter: drop-shadow(0px 1px 2px rgba(0, 0, 0, 0.3));\n",
              "      fill: #FFFFFF;\n",
              "    }\n",
              "  </style>\n",
              "\n",
              "      <script>\n",
              "        const buttonEl =\n",
              "          document.querySelector('#df-a63decbb-f6b8-465c-9a50-c246ad7209b5 button.colab-df-convert');\n",
              "        buttonEl.style.display =\n",
              "          google.colab.kernel.accessAllowed ? 'block' : 'none';\n",
              "\n",
              "        async function convertToInteractive(key) {\n",
              "          const element = document.querySelector('#df-a63decbb-f6b8-465c-9a50-c246ad7209b5');\n",
              "          const dataTable =\n",
              "            await google.colab.kernel.invokeFunction('convertToInteractive',\n",
              "                                                     [key], {});\n",
              "          if (!dataTable) return;\n",
              "\n",
              "          const docLinkHtml = 'Like what you see? Visit the ' +\n",
              "            '<a target=\"_blank\" href=https://colab.research.google.com/notebooks/data_table.ipynb>data table notebook</a>'\n",
              "            + ' to learn more about interactive tables.';\n",
              "          element.innerHTML = '';\n",
              "          dataTable['output_type'] = 'display_data';\n",
              "          await google.colab.output.renderOutput(dataTable, element);\n",
              "          const docLink = document.createElement('div');\n",
              "          docLink.innerHTML = docLinkHtml;\n",
              "          element.appendChild(docLink);\n",
              "        }\n",
              "      </script>\n",
              "    </div>\n",
              "  </div>\n",
              "  "
            ]
          },
          "metadata": {},
          "execution_count": 70
        }
      ]
    },
    {
      "cell_type": "code",
      "execution_count": null,
      "id": "7766f149",
      "metadata": {
        "colab": {
          "base_uri": "https://localhost:8080/",
          "height": 311
        },
        "id": "7766f149",
        "outputId": "5a2af73e-67ac-4800-a40a-c82a8b9df110"
      },
      "outputs": [
        {
          "output_type": "error",
          "ename": "ValueError",
          "evalue": "ignored",
          "traceback": [
            "\u001b[0;31m---------------------------------------------------------------------------\u001b[0m",
            "\u001b[0;31mValueError\u001b[0m                                Traceback (most recent call last)",
            "\u001b[0;32m<ipython-input-68-767d4d33a12d>\u001b[0m in \u001b[0;36m<module>\u001b[0;34m\u001b[0m\n\u001b[1;32m      1\u001b[0m \u001b[0;31m#Creating a dataframe\u001b[0m\u001b[0;34m\u001b[0m\u001b[0;34m\u001b[0m\u001b[0;34m\u001b[0m\u001b[0m\n\u001b[1;32m      2\u001b[0m \u001b[0mdayreview\u001b[0m \u001b[0;34m=\u001b[0m \u001b[0mpd\u001b[0m\u001b[0;34m.\u001b[0m\u001b[0mDataFrame\u001b[0m\u001b[0;34m(\u001b[0m\u001b[0mdf\u001b[0m\u001b[0;34m.\u001b[0m\u001b[0mgroupby\u001b[0m\u001b[0;34m(\u001b[0m\u001b[0;34m'Date'\u001b[0m\u001b[0;34m)\u001b[0m\u001b[0;34m[\u001b[0m\u001b[0;34m'Review'\u001b[0m\u001b[0;34m]\u001b[0m\u001b[0;34m.\u001b[0m\u001b[0mcount\u001b[0m\u001b[0;34m(\u001b[0m\u001b[0;34m)\u001b[0m\u001b[0;34m)\u001b[0m\u001b[0;34m.\u001b[0m\u001b[0mreset_index\u001b[0m\u001b[0;34m(\u001b[0m\u001b[0;34m)\u001b[0m\u001b[0;34m\u001b[0m\u001b[0;34m\u001b[0m\u001b[0m\n\u001b[0;32m----> 3\u001b[0;31m \u001b[0mdayreview\u001b[0m\u001b[0;34m[\u001b[0m\u001b[0;34m'Date'\u001b[0m\u001b[0;34m]\u001b[0m \u001b[0;34m=\u001b[0m \u001b[0mdayreview\u001b[0m\u001b[0;34m[\u001b[0m\u001b[0;34m'Date'\u001b[0m\u001b[0;34m]\u001b[0m\u001b[0;34m.\u001b[0m\u001b[0mastype\u001b[0m\u001b[0;34m(\u001b[0m\u001b[0;34m'int64'\u001b[0m\u001b[0;34m)\u001b[0m\u001b[0;34m\u001b[0m\u001b[0;34m\u001b[0m\u001b[0m\n\u001b[0m\u001b[1;32m      4\u001b[0m \u001b[0mdayreview\u001b[0m\u001b[0;34m.\u001b[0m\u001b[0msort_values\u001b[0m\u001b[0;34m(\u001b[0m\u001b[0mby\u001b[0m \u001b[0;34m=\u001b[0m \u001b[0;34m[\u001b[0m\u001b[0;34m'Date'\u001b[0m\u001b[0;34m]\u001b[0m\u001b[0;34m)\u001b[0m\u001b[0;34m\u001b[0m\u001b[0;34m\u001b[0m\u001b[0m\n\u001b[1;32m      5\u001b[0m \u001b[0;34m\u001b[0m\u001b[0m\n",
            "\u001b[0;32m/usr/local/lib/python3.8/dist-packages/pandas/core/generic.py\u001b[0m in \u001b[0;36mastype\u001b[0;34m(self, dtype, copy, errors)\u001b[0m\n\u001b[1;32m   5813\u001b[0m         \u001b[0;32melse\u001b[0m\u001b[0;34m:\u001b[0m\u001b[0;34m\u001b[0m\u001b[0;34m\u001b[0m\u001b[0m\n\u001b[1;32m   5814\u001b[0m             \u001b[0;31m# else, only a single dtype is given\u001b[0m\u001b[0;34m\u001b[0m\u001b[0;34m\u001b[0m\u001b[0;34m\u001b[0m\u001b[0m\n\u001b[0;32m-> 5815\u001b[0;31m             \u001b[0mnew_data\u001b[0m \u001b[0;34m=\u001b[0m \u001b[0mself\u001b[0m\u001b[0;34m.\u001b[0m\u001b[0m_mgr\u001b[0m\u001b[0;34m.\u001b[0m\u001b[0mastype\u001b[0m\u001b[0;34m(\u001b[0m\u001b[0mdtype\u001b[0m\u001b[0;34m=\u001b[0m\u001b[0mdtype\u001b[0m\u001b[0;34m,\u001b[0m \u001b[0mcopy\u001b[0m\u001b[0;34m=\u001b[0m\u001b[0mcopy\u001b[0m\u001b[0;34m,\u001b[0m \u001b[0merrors\u001b[0m\u001b[0;34m=\u001b[0m\u001b[0merrors\u001b[0m\u001b[0;34m)\u001b[0m\u001b[0;34m\u001b[0m\u001b[0;34m\u001b[0m\u001b[0m\n\u001b[0m\u001b[1;32m   5816\u001b[0m             \u001b[0;32mreturn\u001b[0m \u001b[0mself\u001b[0m\u001b[0;34m.\u001b[0m\u001b[0m_constructor\u001b[0m\u001b[0;34m(\u001b[0m\u001b[0mnew_data\u001b[0m\u001b[0;34m)\u001b[0m\u001b[0;34m.\u001b[0m\u001b[0m__finalize__\u001b[0m\u001b[0;34m(\u001b[0m\u001b[0mself\u001b[0m\u001b[0;34m,\u001b[0m \u001b[0mmethod\u001b[0m\u001b[0;34m=\u001b[0m\u001b[0;34m\"astype\"\u001b[0m\u001b[0;34m)\u001b[0m\u001b[0;34m\u001b[0m\u001b[0;34m\u001b[0m\u001b[0m\n\u001b[1;32m   5817\u001b[0m \u001b[0;34m\u001b[0m\u001b[0m\n",
            "\u001b[0;32m/usr/local/lib/python3.8/dist-packages/pandas/core/internals/managers.py\u001b[0m in \u001b[0;36mastype\u001b[0;34m(self, dtype, copy, errors)\u001b[0m\n\u001b[1;32m    416\u001b[0m \u001b[0;34m\u001b[0m\u001b[0m\n\u001b[1;32m    417\u001b[0m     \u001b[0;32mdef\u001b[0m \u001b[0mastype\u001b[0m\u001b[0;34m(\u001b[0m\u001b[0mself\u001b[0m\u001b[0;34m:\u001b[0m \u001b[0mT\u001b[0m\u001b[0;34m,\u001b[0m \u001b[0mdtype\u001b[0m\u001b[0;34m,\u001b[0m \u001b[0mcopy\u001b[0m\u001b[0;34m:\u001b[0m \u001b[0mbool\u001b[0m \u001b[0;34m=\u001b[0m \u001b[0;32mFalse\u001b[0m\u001b[0;34m,\u001b[0m \u001b[0merrors\u001b[0m\u001b[0;34m:\u001b[0m \u001b[0mstr\u001b[0m \u001b[0;34m=\u001b[0m \u001b[0;34m\"raise\"\u001b[0m\u001b[0;34m)\u001b[0m \u001b[0;34m->\u001b[0m \u001b[0mT\u001b[0m\u001b[0;34m:\u001b[0m\u001b[0;34m\u001b[0m\u001b[0;34m\u001b[0m\u001b[0m\n\u001b[0;32m--> 418\u001b[0;31m         \u001b[0;32mreturn\u001b[0m \u001b[0mself\u001b[0m\u001b[0;34m.\u001b[0m\u001b[0mapply\u001b[0m\u001b[0;34m(\u001b[0m\u001b[0;34m\"astype\"\u001b[0m\u001b[0;34m,\u001b[0m \u001b[0mdtype\u001b[0m\u001b[0;34m=\u001b[0m\u001b[0mdtype\u001b[0m\u001b[0;34m,\u001b[0m \u001b[0mcopy\u001b[0m\u001b[0;34m=\u001b[0m\u001b[0mcopy\u001b[0m\u001b[0;34m,\u001b[0m \u001b[0merrors\u001b[0m\u001b[0;34m=\u001b[0m\u001b[0merrors\u001b[0m\u001b[0;34m)\u001b[0m\u001b[0;34m\u001b[0m\u001b[0;34m\u001b[0m\u001b[0m\n\u001b[0m\u001b[1;32m    419\u001b[0m \u001b[0;34m\u001b[0m\u001b[0m\n\u001b[1;32m    420\u001b[0m     def convert(\n",
            "\u001b[0;32m/usr/local/lib/python3.8/dist-packages/pandas/core/internals/managers.py\u001b[0m in \u001b[0;36mapply\u001b[0;34m(self, f, align_keys, ignore_failures, **kwargs)\u001b[0m\n\u001b[1;32m    325\u001b[0m                     \u001b[0mapplied\u001b[0m \u001b[0;34m=\u001b[0m \u001b[0mb\u001b[0m\u001b[0;34m.\u001b[0m\u001b[0mapply\u001b[0m\u001b[0;34m(\u001b[0m\u001b[0mf\u001b[0m\u001b[0;34m,\u001b[0m \u001b[0;34m**\u001b[0m\u001b[0mkwargs\u001b[0m\u001b[0;34m)\u001b[0m\u001b[0;34m\u001b[0m\u001b[0;34m\u001b[0m\u001b[0m\n\u001b[1;32m    326\u001b[0m                 \u001b[0;32melse\u001b[0m\u001b[0;34m:\u001b[0m\u001b[0;34m\u001b[0m\u001b[0;34m\u001b[0m\u001b[0m\n\u001b[0;32m--> 327\u001b[0;31m                     \u001b[0mapplied\u001b[0m \u001b[0;34m=\u001b[0m \u001b[0mgetattr\u001b[0m\u001b[0;34m(\u001b[0m\u001b[0mb\u001b[0m\u001b[0;34m,\u001b[0m \u001b[0mf\u001b[0m\u001b[0;34m)\u001b[0m\u001b[0;34m(\u001b[0m\u001b[0;34m**\u001b[0m\u001b[0mkwargs\u001b[0m\u001b[0;34m)\u001b[0m\u001b[0;34m\u001b[0m\u001b[0;34m\u001b[0m\u001b[0m\n\u001b[0m\u001b[1;32m    328\u001b[0m             \u001b[0;32mexcept\u001b[0m \u001b[0;34m(\u001b[0m\u001b[0mTypeError\u001b[0m\u001b[0;34m,\u001b[0m \u001b[0mNotImplementedError\u001b[0m\u001b[0;34m)\u001b[0m\u001b[0;34m:\u001b[0m\u001b[0;34m\u001b[0m\u001b[0;34m\u001b[0m\u001b[0m\n\u001b[1;32m    329\u001b[0m                 \u001b[0;32mif\u001b[0m \u001b[0;32mnot\u001b[0m \u001b[0mignore_failures\u001b[0m\u001b[0;34m:\u001b[0m\u001b[0;34m\u001b[0m\u001b[0;34m\u001b[0m\u001b[0m\n",
            "\u001b[0;32m/usr/local/lib/python3.8/dist-packages/pandas/core/internals/blocks.py\u001b[0m in \u001b[0;36mastype\u001b[0;34m(self, dtype, copy, errors)\u001b[0m\n\u001b[1;32m    589\u001b[0m         \u001b[0mvalues\u001b[0m \u001b[0;34m=\u001b[0m \u001b[0mself\u001b[0m\u001b[0;34m.\u001b[0m\u001b[0mvalues\u001b[0m\u001b[0;34m\u001b[0m\u001b[0;34m\u001b[0m\u001b[0m\n\u001b[1;32m    590\u001b[0m \u001b[0;34m\u001b[0m\u001b[0m\n\u001b[0;32m--> 591\u001b[0;31m         \u001b[0mnew_values\u001b[0m \u001b[0;34m=\u001b[0m \u001b[0mastype_array_safe\u001b[0m\u001b[0;34m(\u001b[0m\u001b[0mvalues\u001b[0m\u001b[0;34m,\u001b[0m \u001b[0mdtype\u001b[0m\u001b[0;34m,\u001b[0m \u001b[0mcopy\u001b[0m\u001b[0;34m=\u001b[0m\u001b[0mcopy\u001b[0m\u001b[0;34m,\u001b[0m \u001b[0merrors\u001b[0m\u001b[0;34m=\u001b[0m\u001b[0merrors\u001b[0m\u001b[0;34m)\u001b[0m\u001b[0;34m\u001b[0m\u001b[0;34m\u001b[0m\u001b[0m\n\u001b[0m\u001b[1;32m    592\u001b[0m \u001b[0;34m\u001b[0m\u001b[0m\n\u001b[1;32m    593\u001b[0m         \u001b[0mnew_values\u001b[0m \u001b[0;34m=\u001b[0m \u001b[0mmaybe_coerce_values\u001b[0m\u001b[0;34m(\u001b[0m\u001b[0mnew_values\u001b[0m\u001b[0;34m)\u001b[0m\u001b[0;34m\u001b[0m\u001b[0;34m\u001b[0m\u001b[0m\n",
            "\u001b[0;32m/usr/local/lib/python3.8/dist-packages/pandas/core/dtypes/cast.py\u001b[0m in \u001b[0;36mastype_array_safe\u001b[0;34m(values, dtype, copy, errors)\u001b[0m\n\u001b[1;32m   1307\u001b[0m \u001b[0;34m\u001b[0m\u001b[0m\n\u001b[1;32m   1308\u001b[0m     \u001b[0;32mtry\u001b[0m\u001b[0;34m:\u001b[0m\u001b[0;34m\u001b[0m\u001b[0;34m\u001b[0m\u001b[0m\n\u001b[0;32m-> 1309\u001b[0;31m         \u001b[0mnew_values\u001b[0m \u001b[0;34m=\u001b[0m \u001b[0mastype_array\u001b[0m\u001b[0;34m(\u001b[0m\u001b[0mvalues\u001b[0m\u001b[0;34m,\u001b[0m \u001b[0mdtype\u001b[0m\u001b[0;34m,\u001b[0m \u001b[0mcopy\u001b[0m\u001b[0;34m=\u001b[0m\u001b[0mcopy\u001b[0m\u001b[0;34m)\u001b[0m\u001b[0;34m\u001b[0m\u001b[0;34m\u001b[0m\u001b[0m\n\u001b[0m\u001b[1;32m   1310\u001b[0m     \u001b[0;32mexcept\u001b[0m \u001b[0;34m(\u001b[0m\u001b[0mValueError\u001b[0m\u001b[0;34m,\u001b[0m \u001b[0mTypeError\u001b[0m\u001b[0;34m)\u001b[0m\u001b[0;34m:\u001b[0m\u001b[0;34m\u001b[0m\u001b[0;34m\u001b[0m\u001b[0m\n\u001b[1;32m   1311\u001b[0m         \u001b[0;31m# e.g. astype_nansafe can fail on object-dtype of strings\u001b[0m\u001b[0;34m\u001b[0m\u001b[0;34m\u001b[0m\u001b[0;34m\u001b[0m\u001b[0m\n",
            "\u001b[0;32m/usr/local/lib/python3.8/dist-packages/pandas/core/dtypes/cast.py\u001b[0m in \u001b[0;36mastype_array\u001b[0;34m(values, dtype, copy)\u001b[0m\n\u001b[1;32m   1255\u001b[0m \u001b[0;34m\u001b[0m\u001b[0m\n\u001b[1;32m   1256\u001b[0m     \u001b[0;32melse\u001b[0m\u001b[0;34m:\u001b[0m\u001b[0;34m\u001b[0m\u001b[0;34m\u001b[0m\u001b[0m\n\u001b[0;32m-> 1257\u001b[0;31m         \u001b[0mvalues\u001b[0m \u001b[0;34m=\u001b[0m \u001b[0mastype_nansafe\u001b[0m\u001b[0;34m(\u001b[0m\u001b[0mvalues\u001b[0m\u001b[0;34m,\u001b[0m \u001b[0mdtype\u001b[0m\u001b[0;34m,\u001b[0m \u001b[0mcopy\u001b[0m\u001b[0;34m=\u001b[0m\u001b[0mcopy\u001b[0m\u001b[0;34m)\u001b[0m\u001b[0;34m\u001b[0m\u001b[0;34m\u001b[0m\u001b[0m\n\u001b[0m\u001b[1;32m   1258\u001b[0m \u001b[0;34m\u001b[0m\u001b[0m\n\u001b[1;32m   1259\u001b[0m     \u001b[0;31m# in pandas we don't store numpy str dtypes, so convert to object\u001b[0m\u001b[0;34m\u001b[0m\u001b[0;34m\u001b[0m\u001b[0;34m\u001b[0m\u001b[0m\n",
            "\u001b[0;32m/usr/local/lib/python3.8/dist-packages/pandas/core/dtypes/cast.py\u001b[0m in \u001b[0;36mastype_nansafe\u001b[0;34m(arr, dtype, copy, skipna)\u001b[0m\n\u001b[1;32m   1172\u001b[0m         \u001b[0;31m# work around NumPy brokenness, #1987\u001b[0m\u001b[0;34m\u001b[0m\u001b[0;34m\u001b[0m\u001b[0;34m\u001b[0m\u001b[0m\n\u001b[1;32m   1173\u001b[0m         \u001b[0;32mif\u001b[0m \u001b[0mnp\u001b[0m\u001b[0;34m.\u001b[0m\u001b[0missubdtype\u001b[0m\u001b[0;34m(\u001b[0m\u001b[0mdtype\u001b[0m\u001b[0;34m.\u001b[0m\u001b[0mtype\u001b[0m\u001b[0;34m,\u001b[0m \u001b[0mnp\u001b[0m\u001b[0;34m.\u001b[0m\u001b[0minteger\u001b[0m\u001b[0;34m)\u001b[0m\u001b[0;34m:\u001b[0m\u001b[0;34m\u001b[0m\u001b[0;34m\u001b[0m\u001b[0m\n\u001b[0;32m-> 1174\u001b[0;31m             \u001b[0;32mreturn\u001b[0m \u001b[0mlib\u001b[0m\u001b[0;34m.\u001b[0m\u001b[0mastype_intsafe\u001b[0m\u001b[0;34m(\u001b[0m\u001b[0marr\u001b[0m\u001b[0;34m,\u001b[0m \u001b[0mdtype\u001b[0m\u001b[0;34m)\u001b[0m\u001b[0;34m\u001b[0m\u001b[0;34m\u001b[0m\u001b[0m\n\u001b[0m\u001b[1;32m   1175\u001b[0m \u001b[0;34m\u001b[0m\u001b[0m\n\u001b[1;32m   1176\u001b[0m         \u001b[0;31m# if we have a datetime/timedelta array of objects\u001b[0m\u001b[0;34m\u001b[0m\u001b[0;34m\u001b[0m\u001b[0;34m\u001b[0m\u001b[0m\n",
            "\u001b[0;32m/usr/local/lib/python3.8/dist-packages/pandas/_libs/lib.pyx\u001b[0m in \u001b[0;36mpandas._libs.lib.astype_intsafe\u001b[0;34m()\u001b[0m\n",
            "\u001b[0;31mValueError\u001b[0m: invalid literal for int() with base 10: 'Reviewed'"
          ]
        }
      ],
      "source": [
        "#Creating a dataframe\n",
        "dayreview = pd.DataFrame(df.groupby('Date')['Review'].count()).reset_index()\n",
        "dayreview['Date'] = dayreview['Date'].astype('int64')\n",
        "dayreview.sort_values(by = ['Date'])\n",
        "\n",
        "#Plotting the graph`\n",
        "plt.figure(figsize=(16,8))\n",
        "sns.barplot(x = \"Date\", y = \"Review\", data = dayreview)\n",
        "plt.title('Date vs Reviews count')\n",
        "plt.xlabel('Date')\n",
        "plt.ylabel('Reviews count')\n",
        "plt.show()"
      ]
    },
    {
      "cell_type": "code",
      "execution_count": null,
      "id": "41b77979",
      "metadata": {
        "id": "41b77979"
      },
      "outputs": [],
      "source": [
        "plt.figure(figsize=(12,8))\n",
        "plt.title('Percentage of Ratings')\n",
        "ax = sns.countplot(y = 'Rating', data = reviews)\n",
        "total = len(reviews)\n",
        "for p in ax.patches:\n",
        "        percentage = '{:.1f}%'.format(100 * p.get_width()/total)\n",
        "        x = p.get_x() + p.get_width() + 0.02\n",
        "        y = p.get_y() + p.get_height()/2\n",
        "        ax.annotate(percentage, (x, y))"
      ]
    },
    {
      "cell_type": "code",
      "execution_count": null,
      "id": "0647753a",
      "metadata": {
        "id": "0647753a"
      },
      "outputs": [],
      "source": [
        "plt.figure(figsize = (12,8))\n",
        "plt.pie(df['Rating'].value_counts().sort_index(),\n",
        "       labels=df['Rating'].value_counts().sort_index().index,\n",
        "       explode = [0.00,0.0,0.0,0.0,0.05],\n",
        "       autopct= '%.2f%%',\n",
        "        colors = [\"#ff4545\", \"#ffa534\",'#ffe234','#b7dd29','#57e32c'],\n",
        "       shadow= True,\n",
        "       startangle= 190,\n",
        "       textprops = {'size':'small',\n",
        "                   'fontweight':'bold',\n",
        "                    'rotation':'0',\n",
        "                   'color':'black'})\n",
        "plt.legend(loc= 'upper right')\n",
        "plt.title(\"Most Ratings Distribution Pie Chart\", fontsize = 18, fontweight = 'bold')\n",
        "plt.show()"
      ]
    },
    {
      "cell_type": "code",
      "execution_count": null,
      "id": "943f95f1",
      "metadata": {
        "id": "943f95f1"
      },
      "outputs": [],
      "source": [
        "plt.figure(figsize = (12,8))\n",
        "plt.pie(df['Month'].value_counts(),\n",
        "       labels=df['Month'].value_counts().index,\n",
        "       explode = [0.1,0.0,0.0,0.0,0.0],\n",
        "       autopct= '%.2f%%',\n",
        "       shadow= True,\n",
        "       startangle= 190,\n",
        "       textprops = {'size':'large',\n",
        "                   'fontweight':'bold',\n",
        "                    'rotation':'0',\n",
        "                   'color':'black'})\n",
        "plt.legend(loc= 'upper right')\n",
        "plt.title(\"Most Purchase Month Distribution\", fontsize = 18, fontweight = 'bold')\n",
        "plt.show()"
      ]
    },
    {
      "cell_type": "markdown",
      "id": "43b78f9f",
      "metadata": {
        "id": "43b78f9f"
      },
      "source": [
        "0.1. __<a href='#0.1' target='_self'>Table of Contents:</a>__"
      ]
    },
    {
      "cell_type": "markdown",
      "id": "cfaf323e",
      "metadata": {
        "id": "cfaf323e"
      },
      "source": [
        "##  <a id='6'>6. BasicText Preprocessing</a>\n",
        "### <a id='6A'>A. For Sentiment Analysis</a> \n",
        "##### keeping the DataFrame intact and each tweets separate from each other"
      ]
    },
    {
      "cell_type": "code",
      "execution_count": null,
      "id": "ec7ecb76",
      "metadata": {
        "id": "ec7ecb76"
      },
      "outputs": [],
      "source": [
        "data = df[['Review']]\n",
        "data"
      ]
    },
    {
      "cell_type": "code",
      "execution_count": null,
      "id": "62f4f608",
      "metadata": {
        "id": "62f4f608"
      },
      "outputs": [],
      "source": [
        "from nltk.corpus import stopwords\n",
        "stop_words = stopwords.words('english')\n",
        "data['Review'] = data['Review'].apply(lambda x: \" \".join(x.lower() for x in str(x).split() \\\n",
        "                                    if x not in stop_words))"
      ]
    },
    {
      "cell_type": "code",
      "execution_count": null,
      "id": "e91ec1a5",
      "metadata": {
        "id": "e91ec1a5"
      },
      "outputs": [],
      "source": [
        "data"
      ]
    },
    {
      "cell_type": "code",
      "execution_count": null,
      "id": "3102b992",
      "metadata": {
        "id": "3102b992"
      },
      "outputs": [],
      "source": [
        "lemmatizer = WordNetLemmatizer()\n",
        "# Removing punctuation, making str to lower, applying Lemmatizer, Removing Stop words\n",
        "corpus=[]\n",
        "for i in tqdm_notebook(range(0, len(data))):\n",
        "    cleaned= re.sub('[^a-zA-Z]', \" \", data[\"Review\"][i])\n",
        "    cleaned= cleaned.lower()\n",
        "    cleaned = cleaned.split()\n",
        "    cleaned= [lemmatizer.lemmatize(word) for word in cleaned if word not in stopwords.words(\"english\")]\n",
        "    cleaned= ' '.join(cleaned)\n",
        "    corpus.append(cleaned)"
      ]
    },
    {
      "cell_type": "code",
      "execution_count": null,
      "id": "0fad5358",
      "metadata": {
        "id": "0fad5358"
      },
      "outputs": [],
      "source": [
        "#Saving cleaned data to compare with original data, to ckeck amount of information lost\n",
        "dataframe = pd.DataFrame({\"Clean_Reviews\": corpus,\"Uncleaned_Reviews\": df.Review})\n",
        "dataframe.head()"
      ]
    },
    {
      "cell_type": "markdown",
      "id": "12104ec3",
      "metadata": {
        "id": "12104ec3"
      },
      "source": [
        "0.1. __<a href='#0.1' target='_self'>Table of Contents:</a>__"
      ]
    },
    {
      "cell_type": "markdown",
      "id": "9e0ab247",
      "metadata": {
        "id": "9e0ab247"
      },
      "source": [
        "## <a id='7'>7. Text Pre-processing Techniques</a> \n",
        "### <a id='7A'>A. Pre-processing 'Key Words'</a>\n",
        "#### <a id='7Aa'>a. Removing '@names'</a>"
      ]
    },
    {
      "cell_type": "code",
      "execution_count": null,
      "id": "70dc2a3a",
      "metadata": {
        "id": "70dc2a3a"
      },
      "outputs": [],
      "source": [
        "def remove_pattern(text, pattern_regex):\n",
        "    r = re.findall(pattern_regex, text)\n",
        "    for i in r:\n",
        "        text = re.sub(i, '', text)\n",
        "    \n",
        "    return text "
      ]
    },
    {
      "cell_type": "code",
      "execution_count": null,
      "id": "c8c9119d",
      "metadata": {
        "id": "c8c9119d"
      },
      "outputs": [],
      "source": [
        "# We are keeping cleaned tweets in a new column called 'tidy_tweets'\n",
        "dataframe['Clean_Reviews'] = np.vectorize(remove_pattern)(dataframe['Clean_Reviews'], \"@[\\w]*\")\n",
        "dataframe.head(10)"
      ]
    },
    {
      "cell_type": "markdown",
      "id": "109f3ddc",
      "metadata": {
        "id": "109f3ddc"
      },
      "source": [
        "#### <a id='7Ab'>b. Removing links (http | https)</a>"
      ]
    },
    {
      "cell_type": "code",
      "execution_count": null,
      "id": "c844d2cb",
      "metadata": {
        "id": "c844d2cb"
      },
      "outputs": [],
      "source": [
        "cleaned_reviews = []\n",
        "\n",
        "for index, row in dataframe.iterrows():\n",
        "    # Here we are filtering out all the words that contains link\n",
        "    words_without_links = [word for word in row.Clean_Reviews.split() if 'http' not in word]\n",
        "    cleaned_reviews.append(' '.join(words_without_links))\n",
        "\n",
        "dataframe['Clean_Reviews'] = cleaned_reviews\n",
        "dataframe.head(10)"
      ]
    },
    {
      "cell_type": "markdown",
      "id": "89ede593",
      "metadata": {
        "id": "89ede593"
      },
      "source": [
        "#### <a id='7Ac'>c. Removing Review with empty text</a>"
      ]
    },
    {
      "cell_type": "code",
      "execution_count": null,
      "id": "91dd212a",
      "metadata": {
        "id": "91dd212a"
      },
      "outputs": [],
      "source": [
        "dataframe = dataframe[dataframe['Clean_Reviews']!='']\n",
        "dataframe.head(10)"
      ]
    },
    {
      "cell_type": "markdown",
      "id": "04982e84",
      "metadata": {
        "id": "04982e84"
      },
      "source": [
        "#### <a id='7Ad'>d. Dropping duplicate rows</a>"
      ]
    },
    {
      "cell_type": "code",
      "execution_count": null,
      "id": "ca50d387",
      "metadata": {
        "id": "ca50d387"
      },
      "outputs": [],
      "source": [
        "dataframe.drop_duplicates(subset=['Clean_Reviews'], keep=False)\n",
        "dataframe.head(10)"
      ]
    },
    {
      "cell_type": "markdown",
      "id": "97ebeaa7",
      "metadata": {
        "id": "97ebeaa7"
      },
      "source": [
        "#### <a id='7Ae'>e. Resetting index</a>\n",
        "It seems that our index needs to be reset, since after removal of some rows, some index values are missing, which may cause problem in future operations."
      ]
    },
    {
      "cell_type": "code",
      "execution_count": null,
      "id": "b04b3eee",
      "metadata": {
        "id": "b04b3eee"
      },
      "outputs": [],
      "source": [
        "dataframe = dataframe.reset_index(drop=True)\n",
        "dataframe.head(10)"
      ]
    },
    {
      "cell_type": "markdown",
      "id": "cdd42b85",
      "metadata": {
        "id": "cdd42b85"
      },
      "source": [
        "#### <a id='7Af'>f. Removing Punctuations, Numbers and Special characters</a>\n",
        "This step should not be followed if we also want to do sentiment analysis on __key phrases__ as well, because semantic meaning in a sentence needs to be present. So here we will create one additional column 'absolute_tidy_tweets' which will contain absolute tidy words which can be further used for sentiment analysis on __key words__."
      ]
    },
    {
      "cell_type": "code",
      "execution_count": null,
      "id": "a14725fc",
      "metadata": {
        "id": "a14725fc"
      },
      "outputs": [],
      "source": [
        "def clean_text(text):\n",
        "    '''Make text lowercase, remove text in square brackets,remove links,remove punctuation\n",
        "    and remove words containing numbers.'''\n",
        "    text = text.lower()\n",
        "    text = re.sub('\\[.*?\\]', '', text)\n",
        "    text = re.sub('https?://\\S+|www\\.\\S+', '', text)\n",
        "    text = re.sub('<.*?>+', '', text)\n",
        "    text = re.sub('[%s]' % re.escape(string.punctuation), '', text)\n",
        "    text = re.sub('\\n', '', text)\n",
        "    text = re.sub('\\w*\\d\\w*', '', text)\n",
        "    return text"
      ]
    },
    {
      "cell_type": "code",
      "execution_count": null,
      "id": "901d459f",
      "metadata": {
        "id": "901d459f"
      },
      "outputs": [],
      "source": [
        "dataframe['Clean_Reviews'] = dataframe['Clean_Reviews'].apply(lambda x: clean_text(x))\n",
        "dataframe.head(10)"
      ]
    },
    {
      "cell_type": "markdown",
      "id": "6d37a5fa",
      "metadata": {
        "id": "6d37a5fa"
      },
      "source": [
        "#### <a id='7Ag'>g. Function to remove emoji</a>"
      ]
    },
    {
      "cell_type": "code",
      "execution_count": null,
      "id": "a5aba0a5",
      "metadata": {
        "id": "a5aba0a5"
      },
      "outputs": [],
      "source": [
        "def remove_emoji(text):\n",
        "    emoji_pattern = re.compile(\"[\"\n",
        "                           u\"\\U0001F600-\\U0001F64F\"  # emoticons\n",
        "                           u\"\\U0001F300-\\U0001F5FF\"  # symbols & pictographs\n",
        "                           u\"\\U0001F680-\\U0001F6FF\"  # transport & map symbols\n",
        "                           u\"\\U0001F1E0-\\U0001F1FF\"  # flags (iOS)\n",
        "                           u\"\\U00002702-\\U000027B0\"\n",
        "                           u\"\\U000024C2-\\U0001F251\"\n",
        "                           \"]+\", flags=re.UNICODE)\n",
        "    return emoji_pattern.sub(r'', text)"
      ]
    },
    {
      "cell_type": "code",
      "execution_count": null,
      "id": "4e858843",
      "metadata": {
        "id": "4e858843"
      },
      "outputs": [],
      "source": [
        "dataframe['Clean_Reviews']=dataframe['Clean_Reviews'].apply(lambda x: remove_emoji(x))\n",
        "dataframe.head(10)"
      ]
    },
    {
      "cell_type": "code",
      "execution_count": null,
      "id": "dd83da13",
      "metadata": {
        "id": "dd83da13"
      },
      "outputs": [],
      "source": [
        "dataframe['tokenized_tweets'] = dataframe['Clean_Reviews'].apply(lambda x: nltk.word_tokenize(x))\n",
        "dataframe.head(10)"
      ]
    },
    {
      "cell_type": "code",
      "execution_count": null,
      "id": "71d19647",
      "metadata": {
        "id": "71d19647"
      },
      "outputs": [],
      "source": [
        "dataframe.drop(['tokenized_tweets'],axis=1,inplace=True)"
      ]
    },
    {
      "cell_type": "markdown",
      "id": "4de2601c",
      "metadata": {
        "id": "4de2601c"
      },
      "source": [
        "#### <a id='7Ah'>h. Removing Stop words</a>\n",
        "With the same reason we mentioned above, we won't perform this on 'Clean-Review' column, because it needs to be used for __key_phrases__ sentiment analysis."
      ]
    },
    {
      "cell_type": "code",
      "execution_count": null,
      "id": "d2e5fea3",
      "metadata": {
        "id": "d2e5fea3"
      },
      "outputs": [],
      "source": [
        "import codecs\n",
        "with codecs.open(\"C:/Users/Moin Dalvi/Documents/Data Science Material/\\\n",
        "Data Science Assignments/Text MIning/stop.txt\", \"r\", encoding=\"ISO-8859-1\") as s:\n",
        "    stop = s.read()\n",
        "    print(stop[:101])"
      ]
    },
    {
      "cell_type": "code",
      "execution_count": null,
      "id": "66400178",
      "metadata": {
        "id": "66400178"
      },
      "outputs": [],
      "source": [
        "stop.split(\" \")"
      ]
    },
    {
      "cell_type": "code",
      "execution_count": null,
      "id": "5f518b20",
      "metadata": {
        "id": "5f518b20"
      },
      "outputs": [],
      "source": [
        "from nltk.corpus import stopwords\n",
        "my_stop_words=stopwords.words('english')\n",
        "sw_list = [stop]\n",
        "my_stop_words.extend(sw_list)\n",
        "stopwords_set = set(my_stop_words)\n",
        "cleaned_tweets = []\n",
        "\n",
        "for index, row in dataframe.iterrows():\n",
        "    \n",
        "    # filerting out all the stopwords \n",
        "    words_without_stopwords = [word for word in row.Clean_Reviews.split() if not word in stopwords_set and '#' not in word.lower()]\n",
        "    \n",
        "    # finally creating tweets list of tuples containing stopwords(list) and sentimentType \n",
        "    cleaned_tweets.append(' '.join(words_without_stopwords))\n",
        "    \n",
        "dataframe['Clean_Reviews'] = cleaned_tweets\n",
        "dataframe.head(10)"
      ]
    },
    {
      "cell_type": "markdown",
      "id": "9163bcc0",
      "metadata": {
        "id": "9163bcc0"
      },
      "source": [
        "#### <a id='7Ai'>i. Tokenize *'Clean_Reviews'*</a>  "
      ]
    },
    {
      "cell_type": "code",
      "execution_count": null,
      "id": "1dff10f8",
      "metadata": {
        "id": "1dff10f8"
      },
      "outputs": [],
      "source": [
        "TextBlob(dataframe['Clean_Reviews'][1]).words"
      ]
    },
    {
      "cell_type": "code",
      "execution_count": null,
      "id": "a7be8787",
      "metadata": {
        "id": "a7be8787"
      },
      "outputs": [],
      "source": [
        "tokenized_review = dataframe['Clean_Reviews'].apply(lambda x: x.split())\n",
        "tokenized_review.head(10)"
      ]
    },
    {
      "cell_type": "markdown",
      "id": "b19d30e9",
      "metadata": {
        "id": "b19d30e9"
      },
      "source": [
        "#### <a id='7Ai'>j. Converting words to Stemmer</a>"
      ]
    },
    {
      "cell_type": "code",
      "execution_count": null,
      "id": "b26bab1e",
      "metadata": {
        "id": "b26bab1e"
      },
      "outputs": [],
      "source": [
        "from nltk.stem.snowball import SnowballStemmer\n",
        "\n",
        "# Use English stemmer.\n",
        "stemmer = SnowballStemmer(\"english\")"
      ]
    },
    {
      "cell_type": "code",
      "execution_count": null,
      "id": "fa00a938",
      "metadata": {
        "id": "fa00a938"
      },
      "outputs": [],
      "source": [
        "xx = pd.DataFrame()\n",
        "xx['stemmed'] = dataframe['Clean_Reviews'].apply(lambda x: \" \".join([stemmer.stem(word) for word in x.split()]))\n",
        "xx"
      ]
    },
    {
      "cell_type": "markdown",
      "id": "647f76f8",
      "metadata": {
        "id": "647f76f8"
      },
      "source": [
        "#### <a id='7Ak'>k. Converting words to Lemma</a>"
      ]
    },
    {
      "cell_type": "code",
      "execution_count": null,
      "id": "b4b6e39a",
      "metadata": {
        "id": "b4b6e39a"
      },
      "outputs": [],
      "source": [
        "word_lemmatizer = WordNetLemmatizer()\n",
        "nltk.download('omw-1.4')\n",
        "yy=pd.DataFrame()\n",
        "yy['stemmed'] = dataframe['Clean_Reviews'].apply(lambda x: \" \".join([word_lemmatizer.lemmatize(i) for i in x.split()]))\n",
        "yy"
      ]
    },
    {
      "cell_type": "markdown",
      "id": "f76b40df",
      "metadata": {
        "id": "f76b40df"
      },
      "source": [
        "0.1. __<a href='#0.1' target='_self'>Table of Contents:</a>__"
      ]
    },
    {
      "cell_type": "markdown",
      "id": "5af85391",
      "metadata": {
        "id": "5af85391"
      },
      "source": [
        "## <a id='8'>8. Basic Feature Extaction</a>\n",
        "### <a id='8Aa'>A. **Applying bag of Words without N grams**</a>"
      ]
    },
    {
      "cell_type": "code",
      "execution_count": null,
      "id": "9c7f04a1",
      "metadata": {
        "id": "9c7f04a1"
      },
      "outputs": [],
      "source": [
        "from sklearn.feature_extraction.text import CountVectorizer\n",
        "cv=CountVectorizer()\n",
        "tweetscv=cv.fit_transform(dataframe.Clean_Reviews)"
      ]
    },
    {
      "cell_type": "code",
      "execution_count": null,
      "id": "55fc6a0d",
      "metadata": {
        "id": "55fc6a0d"
      },
      "outputs": [],
      "source": [
        "#print(cv.vocabulary_)"
      ]
    },
    {
      "cell_type": "code",
      "execution_count": null,
      "id": "2950c3d1",
      "metadata": {
        "id": "2950c3d1"
      },
      "outputs": [],
      "source": [
        "print(cv.get_feature_names()[109:200])"
      ]
    },
    {
      "cell_type": "code",
      "execution_count": null,
      "id": "eeb2b0a7",
      "metadata": {
        "id": "eeb2b0a7"
      },
      "outputs": [],
      "source": [
        "print(cv.get_feature_names()[:100])"
      ]
    },
    {
      "cell_type": "code",
      "execution_count": null,
      "id": "8e605701",
      "metadata": {
        "id": "8e605701"
      },
      "outputs": [],
      "source": [
        "print(tweetscv.toarray()[100:200])"
      ]
    },
    {
      "cell_type": "markdown",
      "id": "15e83ea3",
      "metadata": {
        "id": "15e83ea3"
      },
      "source": [
        "### <a id='8Ba'>B. **CountVectorizer with N-grams (Bigrams & Trigrams)**</a>"
      ]
    },
    {
      "cell_type": "code",
      "execution_count": null,
      "id": "6a8e1937",
      "metadata": {
        "id": "6a8e1937"
      },
      "outputs": [],
      "source": [
        "from nltk.corpus import stopwords\n",
        "ps = PorterStemmer()\n",
        "corpus = []\n",
        "for i in tqdm_notebook(range(0, len(dataframe))):\n",
        "    review = re.sub('[^a-zA-Z]', ' ', dataframe['Clean_Reviews'][i])\n",
        "    review = review.lower()\n",
        "    review = review.split()\n",
        "    \n",
        "    review = [ps.stem(word) for word in review if not word in stopwords.words('english')]\n",
        "    review = ' '.join(review)\n",
        "    corpus.append(review)"
      ]
    },
    {
      "cell_type": "code",
      "execution_count": null,
      "id": "2fd5f383",
      "metadata": {
        "id": "2fd5f383"
      },
      "outputs": [],
      "source": [
        "corpus[3]"
      ]
    },
    {
      "cell_type": "code",
      "execution_count": null,
      "id": "4c546dbf",
      "metadata": {
        "id": "4c546dbf"
      },
      "outputs": [],
      "source": [
        "## Applying Countvectorizer\n",
        "# Creating the Bag of Words model\n",
        "cv = CountVectorizer(max_features=5000,ngram_range=(1,3))\n",
        "X = cv.fit_transform(corpus).toarray()"
      ]
    },
    {
      "cell_type": "code",
      "execution_count": null,
      "id": "c6ecc4dd",
      "metadata": {
        "id": "c6ecc4dd"
      },
      "outputs": [],
      "source": [
        "X.shape"
      ]
    },
    {
      "cell_type": "code",
      "execution_count": null,
      "id": "07de6543",
      "metadata": {
        "id": "07de6543"
      },
      "outputs": [],
      "source": [
        "cv.get_feature_names()[:20]"
      ]
    },
    {
      "cell_type": "code",
      "execution_count": null,
      "id": "ffa1b6c4",
      "metadata": {
        "id": "ffa1b6c4"
      },
      "outputs": [],
      "source": [
        "cv.get_params()"
      ]
    },
    {
      "cell_type": "code",
      "execution_count": null,
      "id": "3de1a00c",
      "metadata": {
        "id": "3de1a00c"
      },
      "outputs": [],
      "source": [
        "count_df = pd.DataFrame(X, columns=cv.get_feature_names())\n",
        "count_df"
      ]
    },
    {
      "cell_type": "markdown",
      "id": "8d72946b",
      "metadata": {
        "id": "8d72946b"
      },
      "source": [
        "### <a id='8Ca'>C. **TF-IDF Vectorizer**</a>"
      ]
    },
    {
      "cell_type": "code",
      "execution_count": null,
      "id": "de5b787f",
      "metadata": {
        "id": "de5b787f"
      },
      "outputs": [],
      "source": [
        "from nltk.corpus import stopwords\n",
        "ps = PorterStemmer()\n",
        "corpus = []\n",
        "for i in tqdm_notebook(range(0, len(dataframe))):\n",
        "    review = re.sub('[^a-zA-Z]', ' ', dataframe['Clean_Reviews'][i])\n",
        "    review = review.lower()\n",
        "    review = review.split()\n",
        "    \n",
        "    review = [ps.stem(word) for word in review if not word in stopwords.words('english')]\n",
        "    review = ' '.join(review)\n",
        "    corpus.append(review)"
      ]
    },
    {
      "cell_type": "code",
      "execution_count": null,
      "id": "a668d683",
      "metadata": {
        "id": "a668d683"
      },
      "outputs": [],
      "source": [
        "corpus[4]"
      ]
    },
    {
      "cell_type": "code",
      "execution_count": null,
      "id": "38bf2b77",
      "metadata": {
        "id": "38bf2b77"
      },
      "outputs": [],
      "source": [
        "## TFidf Vectorizer\n",
        "tfidf_v=TfidfVectorizer(max_features=5000,ngram_range=(1,3))\n",
        "X=tfidf_v.fit_transform(corpus).toarray()"
      ]
    },
    {
      "cell_type": "code",
      "execution_count": null,
      "id": "68288c88",
      "metadata": {
        "id": "68288c88"
      },
      "outputs": [],
      "source": [
        "X.shape"
      ]
    },
    {
      "cell_type": "code",
      "execution_count": null,
      "id": "63fe1728",
      "metadata": {
        "id": "63fe1728"
      },
      "outputs": [],
      "source": [
        "tfidf_v.get_feature_names()[:20]"
      ]
    },
    {
      "cell_type": "code",
      "execution_count": null,
      "id": "88b5d5ee",
      "metadata": {
        "id": "88b5d5ee"
      },
      "outputs": [],
      "source": [
        "tfidf_v.get_params()"
      ]
    },
    {
      "cell_type": "code",
      "execution_count": null,
      "id": "3cdce919",
      "metadata": {
        "id": "3cdce919"
      },
      "outputs": [],
      "source": [
        "count_df = pd.DataFrame(X, columns=tfidf_v.get_feature_names())\n",
        "count_df"
      ]
    },
    {
      "cell_type": "markdown",
      "id": "c88bb86a",
      "metadata": {
        "id": "c88bb86a"
      },
      "source": [
        "### <a id='8Da'>D. Named Entity Recognition (NER)</a>"
      ]
    },
    {
      "cell_type": "code",
      "execution_count": null,
      "id": "b8d6d82c",
      "metadata": {
        "id": "b8d6d82c"
      },
      "outputs": [],
      "source": [
        "reviews=[review.strip() for review in dataframe.Clean_Reviews] # remove both the leading and the trailing characters\n",
        "reviews=[comment for comment in reviews if comment] # removes empty strings, because they are considered in Python as False\n",
        "# Joining the list into one string/text\n",
        "reviews_text=' '.join(reviews)\n",
        "reviews_text[0:1000]"
      ]
    },
    {
      "cell_type": "code",
      "execution_count": null,
      "id": "9a222966",
      "metadata": {
        "id": "9a222966"
      },
      "outputs": [],
      "source": [
        "# Parts Of Speech (POS) Tagging\n",
        "nlp=spacy.load('en_core_web_sm')\n",
        "\n",
        "one_block=reviews_text[:1000]\n",
        "doc_block=nlp(one_block)\n",
        "spacy.displacy.render(doc_block,style='ent',jupyter=True)"
      ]
    },
    {
      "cell_type": "code",
      "execution_count": null,
      "id": "9f1028fa",
      "metadata": {
        "id": "9f1028fa"
      },
      "outputs": [],
      "source": [
        "for token in doc_block[:50]:\n",
        "    print(token,token.pos_)  "
      ]
    },
    {
      "cell_type": "code",
      "execution_count": null,
      "id": "fb602116",
      "metadata": {
        "id": "fb602116"
      },
      "outputs": [],
      "source": [
        "# Filtering the nouns and verbs only\n",
        "one_block=reviews_text\n",
        "doc_block=nlp(one_block)\n",
        "nouns_verbs=[token.text for token in doc_block if token.pos_ in ('NOUN','VERB')]\n",
        "print(nouns_verbs[100:200])"
      ]
    },
    {
      "cell_type": "code",
      "execution_count": null,
      "id": "6d4ec555",
      "metadata": {
        "id": "6d4ec555"
      },
      "outputs": [],
      "source": [
        "# Counting the noun & verb tokens\n",
        "from sklearn.feature_extraction.text import CountVectorizer\n",
        "cv=CountVectorizer()\n",
        "\n",
        "X=cv.fit_transform(nouns_verbs)\n",
        "sum_words=X.sum(axis=0)\n",
        "\n",
        "words_freq=[(word,sum_words[0,idx]) for word,idx in cv.vocabulary_.items()]\n",
        "words_freq=sorted(words_freq, key=lambda x: x[1], reverse=True)\n",
        "\n",
        "wd_df=pd.DataFrame(words_freq)\n",
        "wd_df.columns=['word','count']\n",
        "wd_df[0:10] # viewing top ten results"
      ]
    },
    {
      "cell_type": "code",
      "execution_count": null,
      "id": "266e459d",
      "metadata": {
        "id": "266e459d"
      },
      "outputs": [],
      "source": [
        "# Visualizing results (Barchart for top 10 nouns + verbs)\n",
        "wd_df[0:10].plot.bar(x='word',figsize=(12,8),title='Top 10 nouns and verbs')"
      ]
    },
    {
      "cell_type": "markdown",
      "id": "4f75658a",
      "metadata": {
        "id": "4f75658a"
      },
      "source": [
        "0.1. __<a href='#0.1' target='_self'>Table of Contents:</a>__"
      ]
    },
    {
      "cell_type": "markdown",
      "id": "445b757f",
      "metadata": {
        "id": "445b757f"
      },
      "source": [
        "## <a id='9'>9. Feature Extraction</a>\n",
        "\n",
        "We need to convert textual representation in the form on numeric features. We have two popular techniques to perform feature extraction:\n",
        "\n",
        "1. __Bag of words (Simple vectorization)__\n",
        "2. __TF-IDF (Term Frequency - Inverse Document Frequency)__\n",
        "\n",
        "We will use extracted features from both one by one to perform sentiment analysis and will compare the result at last.\n"
      ]
    },
    {
      "cell_type": "markdown",
      "id": "24630f7c",
      "metadata": {
        "id": "24630f7c"
      },
      "source": [
        "### <a id='9Aa'>A. Feature Extraction for 'Key Words'</a>"
      ]
    },
    {
      "cell_type": "code",
      "execution_count": null,
      "id": "dacd3f5e",
      "metadata": {
        "id": "dacd3f5e"
      },
      "outputs": [],
      "source": [
        "# BOW features\n",
        "bow_word_vectorizer = CountVectorizer(max_df=0.90, min_df=2, stop_words='english')\n",
        "# bag-of-words feature matrix\n",
        "bow_word_feature = bow_word_vectorizer.fit_transform(dataframe['Clean_Reviews'])\n",
        "\n",
        "# TF-IDF features\n",
        "tfidf_word_vectorizer = TfidfVectorizer(max_df=0.90, min_df=2, stop_words='english')\n",
        "# TF-IDF feature matrix\n",
        "tfidf_word_feature = tfidf_word_vectorizer.fit_transform(dataframe['Clean_Reviews'])"
      ]
    },
    {
      "cell_type": "markdown",
      "id": "889ebe5b",
      "metadata": {
        "id": "889ebe5b"
      },
      "source": [
        "0.1. __<a href='#0.1' target='_self'>Table of Contents:</a>__"
      ]
    },
    {
      "cell_type": "markdown",
      "id": "aa36e689",
      "metadata": {
        "id": "aa36e689"
      },
      "source": [
        "## <a id='10'>10. Fetch sentiments</a>\n",
        "To proceed further, we need to know the sentiment type of every tweet, that can be done using two ways: <br/>\n",
        "    __a. Using NLTK's SentimentIntensityAnalyzer (We'll refer as SIA)<br/>__\n",
        "    __b. Using TextBlob<br/>__"
      ]
    },
    {
      "cell_type": "code",
      "execution_count": null,
      "id": "5d66dec6",
      "metadata": {
        "id": "5d66dec6"
      },
      "outputs": [],
      "source": [
        "# 1 way\n",
        "def fetch_sentiment_using_SIA(text):\n",
        "    sid = SentimentIntensityAnalyzer()\n",
        "    polarity_scores = sid.polarity_scores(text)\n",
        "    return 'neg' if polarity_scores['neg'] > polarity_scores['pos'] else 'pos'\n",
        "\n",
        "# 2 way\n",
        "def fetch_sentiment_using_textblob(text):\n",
        "    analysis = TextBlob(text)\n",
        "    return 'pos' if analysis.sentiment.polarity >= 0 else 'neg'"
      ]
    },
    {
      "cell_type": "markdown",
      "id": "30f6539f",
      "metadata": {
        "id": "30f6539f"
      },
      "source": [
        "### <a id='10Aa'>a. Using NLTK's SentimentIntensityAnalyzer</a>"
      ]
    },
    {
      "cell_type": "code",
      "execution_count": null,
      "id": "9a0dd477",
      "metadata": {
        "id": "9a0dd477"
      },
      "outputs": [],
      "source": [
        "sentiments_using_SIA = dataframe.Clean_Reviews.apply(lambda tweet: fetch_sentiment_using_SIA(tweet))\n",
        "pd.DataFrame(sentiments_using_SIA.value_counts())"
      ]
    },
    {
      "cell_type": "code",
      "execution_count": null,
      "id": "2ade8f20",
      "metadata": {
        "id": "2ade8f20"
      },
      "outputs": [],
      "source": [
        "dataframe.Clean_Reviews[8]"
      ]
    },
    {
      "cell_type": "code",
      "execution_count": null,
      "id": "57b7a78f",
      "metadata": {
        "id": "57b7a78f"
      },
      "outputs": [],
      "source": [
        "sid = SentimentIntensityAnalyzer()\n",
        "sid.polarity_scores(dataframe.Clean_Reviews[8])"
      ]
    },
    {
      "cell_type": "code",
      "execution_count": null,
      "id": "6e779f78",
      "metadata": {
        "id": "6e779f78"
      },
      "outputs": [],
      "source": [
        "sid.polarity_scores(x.Clean_Reviews[8])"
      ]
    },
    {
      "cell_type": "code",
      "execution_count": null,
      "id": "3c2619d0",
      "metadata": {
        "id": "3c2619d0"
      },
      "outputs": [],
      "source": [
        "df=pd.DataFrame()\n",
        "df['Review'] = dataframe.Clean_Reviews\n",
        "df['scores'] = dataframe['Clean_Reviews'].apply(lambda review: sid.polarity_scores(review))\n",
        "df.head()"
      ]
    },
    {
      "cell_type": "code",
      "execution_count": null,
      "id": "03576cd8",
      "metadata": {
        "id": "03576cd8"
      },
      "outputs": [],
      "source": [
        "df['compound']  = df['scores'].apply(lambda scores: scores['compound'])\n",
        "df.head()"
      ]
    },
    {
      "cell_type": "code",
      "execution_count": null,
      "id": "d178ccc3",
      "metadata": {
        "id": "d178ccc3"
      },
      "outputs": [],
      "source": [
        "df['sentiment'] = df['compound'].apply(lambda c: 'Positive' if c >=0.05 else ('Negative' if c<=-0.05  else 'Neutral'))\n",
        "df"
      ]
    },
    {
      "cell_type": "code",
      "execution_count": null,
      "id": "aec12758",
      "metadata": {
        "id": "aec12758"
      },
      "outputs": [],
      "source": [
        "from collections import defaultdict\n",
        "from plotly import tools\n",
        "from plotly.offline import iplot\n",
        "#Filtering data\n",
        "positive_review = df[df[\"sentiment\"]=='Positive'].dropna()\n",
        "neutral_review = df[df[\"sentiment\"]=='Neutral'].dropna()\n",
        "negative_review = df[df[\"sentiment\"]=='Negative'].dropna()\n",
        "\n",
        "## custom function for ngram generation ##\n",
        "def generate_ngrams(text, n_gram = 1):\n",
        "    token = [token for token in text.lower().split(\" \") if token != \"\" if token not in STOPWORDS]\n",
        "    ngrams = zip(*[token[i:] for i in range(n_gram)])\n",
        "    return [\" \".join(ngram) for ngram in ngrams]\n",
        "\n",
        "# custom function for horizontal bar chart ##\n",
        "def horizontal_bar_chart(df, color):\n",
        "    trace = go.Bar(\n",
        "        y =df[\"word\"].values[::-1],\n",
        "        x = df[\"wordcount\"].values[::-1],\n",
        "        showlegend = False,\n",
        "        orientation = 'h',\n",
        "        marker = dict(\n",
        "            color = color,\n",
        "        ),\n",
        "    )\n",
        "    return trace\n",
        "\n",
        "## Get the bar chart from positive reviews ##\n",
        "freq_dict = defaultdict(int)\n",
        "for sent in positive_review[\"Review\"]:\n",
        "    for word in generate_ngrams(sent):\n",
        "        freq_dict[word] += 1\n",
        "fd_sorted = pd.DataFrame(sorted(freq_dict.items(), key=lambda x: x[1])[::-1])\n",
        "fd_sorted.columns = [\"word\", \"wordcount\"]\n",
        "trace0 = horizontal_bar_chart(fd_sorted.head(20), 'blue')\n",
        "\n",
        "\n",
        "## Get the bar chart from neutral reviews ##\n",
        "freq_dict = defaultdict(int)\n",
        "for sent in neutral_review[\"Review\"]:\n",
        "    for word in generate_ngrams(sent):\n",
        "        freq_dict[word] += 1\n",
        "fd_sorted = pd.DataFrame(sorted(freq_dict.items(), key=lambda x: x[1])[::-1])\n",
        "fd_sorted.columns = [\"word\", \"wordcount\"]\n",
        "trace1 = horizontal_bar_chart(fd_sorted.head(20), 'purple')\n",
        "\n",
        "## Get the bar chart from negative reviews ##\n",
        "freq_dict = defaultdict(int)\n",
        "for sent in negative_review[\"Review\"]:\n",
        "    for word in generate_ngrams(sent):\n",
        "        freq_dict[word] += 1\n",
        "fd_sorted = pd.DataFrame(sorted(freq_dict.items(), key=lambda x: x[1])[::-1])\n",
        "fd_sorted.columns = [\"word\", \"wordcount\"]\n",
        "trace2 = horizontal_bar_chart(fd_sorted.head(20), 'yellow')\n",
        "\n",
        "# Creating two subplots\n",
        "fig = tools.make_subplots(rows=3, cols=1, vertical_spacing = 0.04,\n",
        "                          subplot_titles=[\"Frequent words of positive reviews\", \"Frequent words of neutral reviews\",\n",
        "                                          \"Frequent words of negative reviews\"])\n",
        "fig.append_trace(trace0, 1, 1)\n",
        "fig.append_trace(trace1, 2, 1)\n",
        "fig.append_trace(trace2, 3, 1)\n",
        "fig['layout'].update(height=1200, width=900, paper_bgcolor='rgb(233,233,233)', title=\"Word Count Plots\")\n",
        "iplot(fig, filename='word-plots')"
      ]
    },
    {
      "cell_type": "markdown",
      "id": "d392c9fb",
      "metadata": {
        "id": "d392c9fb"
      },
      "source": [
        "![newplot%20%281%29.png](attachment:newplot%20%281%29.png)"
      ]
    },
    {
      "cell_type": "code",
      "execution_count": null,
      "id": "3e4f9bb9",
      "metadata": {
        "id": "3e4f9bb9"
      },
      "outputs": [],
      "source": [
        "temp = df.groupby('sentiment').count()['Tweets'].reset_index().sort_values(by='Tweets',ascending=False)\n",
        "temp.style.background_gradient(cmap='rainbow')"
      ]
    },
    {
      "cell_type": "code",
      "execution_count": null,
      "id": "1d6a65d2",
      "metadata": {
        "id": "1d6a65d2"
      },
      "outputs": [],
      "source": [
        "plt.figure(figsize=(12,6))\n",
        "sns.countplot(x='sentiment',data=df)"
      ]
    },
    {
      "cell_type": "code",
      "execution_count": null,
      "id": "641906e9",
      "metadata": {
        "id": "641906e9"
      },
      "outputs": [],
      "source": [
        "# Plotting the sentiment value for whole review\n",
        "import seaborn as sns\n",
        "plt.figure(figsize=(15,10))\n",
        "sns.distplot(df['compound'])"
      ]
    },
    {
      "cell_type": "code",
      "execution_count": null,
      "id": "2261bce6",
      "metadata": {
        "id": "2261bce6"
      },
      "outputs": [],
      "source": [
        "df['word_count'] = df['Tweets'].apply(lambda x: len(str(x).split(\" \")))\n",
        "df[['Tweets','word_count']].head()"
      ]
    },
    {
      "cell_type": "code",
      "execution_count": null,
      "id": "674d18c4",
      "metadata": {
        "id": "674d18c4"
      },
      "outputs": [],
      "source": [
        "# Correlation analysis\n",
        "df.plot.scatter(x='word_count',y='compound',figsize=(8,8),title='Sentence sentiment value to sentence word count')"
      ]
    },
    {
      "cell_type": "markdown",
      "id": "911400da",
      "metadata": {
        "id": "911400da"
      },
      "source": [
        "### <a id='10Ab'>b. Using TextBlob</a>"
      ]
    },
    {
      "cell_type": "code",
      "execution_count": null,
      "id": "8586b107",
      "metadata": {
        "id": "8586b107"
      },
      "outputs": [],
      "source": [
        "sentiments_using_textblob = dataframe.Clean_Reviews.apply(lambda tweet: fetch_sentiment_using_textblob(tweet))\n",
        "pd.DataFrame(sentiments_using_textblob.value_counts())"
      ]
    },
    {
      "cell_type": "code",
      "execution_count": null,
      "id": "5bd92f71",
      "metadata": {
        "id": "5bd92f71"
      },
      "outputs": [],
      "source": [
        " # let's calculate subjectivity and Polarity\n",
        "# function for subjectivity\n",
        "def calc_subj(text):\n",
        "    return TextBlob(text).sentiment.subjectivity\n",
        " \n",
        "# function for Polarity\n",
        "def calc_pola(text):\n",
        "    return TextBlob(text).sentiment.polarity\n",
        " \n",
        "dataframe['Subjectivity'] = dataframe.Clean_Reviews.apply(calc_subj)\n",
        "dataframe['Polarity'] = dataframe.Clean_Reviews.apply(calc_pola)\n",
        "dataframe.head()"
      ]
    },
    {
      "cell_type": "code",
      "execution_count": null,
      "id": "0e09c9b3",
      "metadata": {
        "id": "0e09c9b3"
      },
      "outputs": [],
      "source": [
        "f, axes = plt.subplots(figsize = (15,8))\n",
        "plt.scatter(dataframe.Polarity, dataframe.Subjectivity)\n",
        "plt.title('Sentiment Analysis')\n",
        "plt.xlabel('Polarity')\n",
        "plt.ylabel('Subjectivity')"
      ]
    },
    {
      "cell_type": "code",
      "execution_count": null,
      "id": "a30e5f48",
      "metadata": {
        "id": "a30e5f48"
      },
      "outputs": [],
      "source": [
        "import plotly.express as px\n",
        "import plotly.graph_objects as go\n",
        "from plotly.subplots import make_subplots\n",
        "import warnings\n",
        "warnings.filterwarnings(\"ignore\")\n",
        "\n",
        "\n",
        "type_ = [\"Positive\", \"Neutral\", \"Negative\"]\n",
        "fig = make_subplots(rows=1, cols=1)\n",
        "\n",
        "fig.add_trace(go.Pie(labels=type_, values=df['sentiment'].value_counts(), name=\"sentiment\"))\n",
        "\n",
        "# Use `hole` to create a donut-like pie chart\n",
        "fig.update_traces(hole=.4, hoverinfo=\"label+percent+name\", textfont_size=16)\n",
        "\n",
        "fig.update_layout(\n",
        "    title_text=\"Sentiment Analysis\",\n",
        "    # Add annotations in the center of the donut pies.\n",
        "    annotations=[dict(text='Sentiment', x=0.5, y=0.5, font_size=20, showarrow=False)])\n",
        "fig.show()"
      ]
    },
    {
      "cell_type": "markdown",
      "id": "47fa9d33",
      "metadata": {
        "id": "47fa9d33"
      },
      "source": [
        "![newplot.png](attachment:newplot.png)"
      ]
    },
    {
      "cell_type": "markdown",
      "id": "9486fbc7",
      "metadata": {
        "id": "9486fbc7"
      },
      "source": [
        "##### *NLTK* gives us more negative sentiments than TexBlob, so we will prefer NLTK, since classfication seems better."
      ]
    },
    {
      "cell_type": "code",
      "execution_count": null,
      "id": "c79654f4",
      "metadata": {
        "id": "c79654f4"
      },
      "outputs": [],
      "source": [
        "dataframe['sentiment'] = sentiments_using_SIA\n",
        "dataframe.to_csv(\"C:/Users/Moin Dalvi/Documents/Data Science Material/Data Science Assignments/Text MIning/clean_review.csv\",index=False)\n",
        "dataframe.head()"
      ]
    },
    {
      "cell_type": "markdown",
      "id": "d894e35c",
      "metadata": {
        "id": "d894e35c"
      },
      "source": [
        "0.1. __<a href='#0.1' target='_self'>Table of Contents:</a>__"
      ]
    },
    {
      "cell_type": "markdown",
      "id": "4e81c60e",
      "metadata": {
        "id": "4e81c60e"
      },
      "source": [
        "## <a id='11'>11. Story Generation and Visualization</a>"
      ]
    },
    {
      "cell_type": "code",
      "execution_count": null,
      "id": "12ae52d5",
      "metadata": {
        "id": "12ae52d5"
      },
      "outputs": [],
      "source": [
        "allWords_ = ' '.join([review for review in dataframe[:500]['Clean_Reviews']])\n",
        "f, axes = plt.subplots(figsize=(20,12))\n",
        "wordcloud= WordCloud(\n",
        "        background_color = 'black',\n",
        "        width = 1800,\n",
        "        height =1400).generate(allWords_)\n",
        "plt.imshow(wordcloud)"
      ]
    },
    {
      "cell_type": "markdown",
      "id": "bc7f4712",
      "metadata": {
        "id": "bc7f4712"
      },
      "source": [
        "### <a id='11A'>A. Most common words in positive Review</a>\n",
        "Answer can be best found using WordCloud"
      ]
    },
    {
      "cell_type": "code",
      "execution_count": null,
      "id": "ecd2b1f4",
      "metadata": {
        "id": "ecd2b1f4"
      },
      "outputs": [],
      "source": [
        "def generate_wordcloud(all_words):\n",
        "    wordcloud = WordCloud(width=800, height=500, random_state=21, max_font_size=100, relative_scaling=0.5, colormap='Dark2').generate(all_words)\n",
        "\n",
        "    plt.figure(figsize=(14, 10))\n",
        "    plt.imshow(wordcloud, interpolation=\"bilinear\")\n",
        "    plt.axis('off')\n",
        "    plt.show()"
      ]
    },
    {
      "cell_type": "code",
      "execution_count": null,
      "id": "b4eb1f47",
      "metadata": {
        "id": "b4eb1f47"
      },
      "outputs": [],
      "source": [
        "all_words = ' '.join([text for text in dataframe['Clean_Reviews'][dataframe.sentiment == 'pos']])\n",
        "generate_wordcloud(all_words)"
      ]
    },
    {
      "cell_type": "markdown",
      "id": "33c3c4f0",
      "metadata": {
        "id": "33c3c4f0"
      },
      "source": [
        "### <a id='11B'>B. Most common words in negative Review</a>"
      ]
    },
    {
      "cell_type": "code",
      "execution_count": null,
      "id": "1ce87d75",
      "metadata": {
        "id": "1ce87d75"
      },
      "outputs": [],
      "source": [
        "all_words = ' '.join([text for text in dataframe['Clean_Reviews'][dataframe.sentiment == 'neg']])\n",
        "generate_wordcloud(all_words)"
      ]
    },
    {
      "cell_type": "markdown",
      "id": "d9c9c5b5",
      "metadata": {
        "id": "d9c9c5b5"
      },
      "source": [
        "<div style=\"display:fill;\n",
        "            border-radius: false;\n",
        "            border-style: solid;\n",
        "            border-color:#000000;\n",
        "            border-style: false;\n",
        "            border-width: 2px;\n",
        "            color:#CF673A;\n",
        "            font-size:15px;\n",
        "            font-family: Georgia;\n",
        "            background-color:#E8DCCC;\n",
        "            text-align:center;\n",
        "            letter-spacing:0.1px;\n",
        "            padding: 0.1em;\">\n",
        "\n",
        "**<h2>♡ Thank you for taking the time ♡**"
      ]
    }
  ],
  "metadata": {
    "kernelspec": {
      "display_name": "Python 3 (ipykernel)",
      "language": "python",
      "name": "python3"
    },
    "language_info": {
      "codemirror_mode": {
        "name": "ipython",
        "version": 3
      },
      "file_extension": ".py",
      "mimetype": "text/x-python",
      "name": "python",
      "nbconvert_exporter": "python",
      "pygments_lexer": "ipython3",
      "version": "3.9.12"
    },
    "colab": {
      "provenance": []
    },
    "widgets": {
      "application/vnd.jupyter.widget-state+json": {
        "71219fac5fe247f6b223df27fb5db127": {
          "model_module": "@jupyter-widgets/controls",
          "model_name": "HBoxModel",
          "model_module_version": "1.5.0",
          "state": {
            "_dom_classes": [],
            "_model_module": "@jupyter-widgets/controls",
            "_model_module_version": "1.5.0",
            "_model_name": "HBoxModel",
            "_view_count": null,
            "_view_module": "@jupyter-widgets/controls",
            "_view_module_version": "1.5.0",
            "_view_name": "HBoxView",
            "box_style": "",
            "children": [
              "IPY_MODEL_b88dcc6b7e5f4fa29d706ecd902dd912",
              "IPY_MODEL_7b4614a60e6541e6acf04f16c9a9c8f4",
              "IPY_MODEL_a35270f3e2f0426f85ca4c1c822b2b1e"
            ],
            "layout": "IPY_MODEL_afeabe62092c4420ba2c8dda33a3a02b"
          }
        },
        "b88dcc6b7e5f4fa29d706ecd902dd912": {
          "model_module": "@jupyter-widgets/controls",
          "model_name": "HTMLModel",
          "model_module_version": "1.5.0",
          "state": {
            "_dom_classes": [],
            "_model_module": "@jupyter-widgets/controls",
            "_model_module_version": "1.5.0",
            "_model_name": "HTMLModel",
            "_view_count": null,
            "_view_module": "@jupyter-widgets/controls",
            "_view_module_version": "1.5.0",
            "_view_name": "HTMLView",
            "description": "",
            "description_tooltip": null,
            "layout": "IPY_MODEL_7018acefd5ec4e08a0ed3cf570b351ba",
            "placeholder": "​",
            "style": "IPY_MODEL_e0be991e8aaa4b42867a82b1cc77f824",
            "value": "100%"
          }
        },
        "7b4614a60e6541e6acf04f16c9a9c8f4": {
          "model_module": "@jupyter-widgets/controls",
          "model_name": "FloatProgressModel",
          "model_module_version": "1.5.0",
          "state": {
            "_dom_classes": [],
            "_model_module": "@jupyter-widgets/controls",
            "_model_module_version": "1.5.0",
            "_model_name": "FloatProgressModel",
            "_view_count": null,
            "_view_module": "@jupyter-widgets/controls",
            "_view_module_version": "1.5.0",
            "_view_name": "ProgressView",
            "bar_style": "success",
            "description": "",
            "description_tooltip": null,
            "layout": "IPY_MODEL_fcef8843a0204ad2a667c9d0ff9934d8",
            "max": 999,
            "min": 0,
            "orientation": "horizontal",
            "style": "IPY_MODEL_e44efda92b3246978f780dab7263ec5f",
            "value": 999
          }
        },
        "a35270f3e2f0426f85ca4c1c822b2b1e": {
          "model_module": "@jupyter-widgets/controls",
          "model_name": "HTMLModel",
          "model_module_version": "1.5.0",
          "state": {
            "_dom_classes": [],
            "_model_module": "@jupyter-widgets/controls",
            "_model_module_version": "1.5.0",
            "_model_name": "HTMLModel",
            "_view_count": null,
            "_view_module": "@jupyter-widgets/controls",
            "_view_module_version": "1.5.0",
            "_view_name": "HTMLView",
            "description": "",
            "description_tooltip": null,
            "layout": "IPY_MODEL_9e0c19e1f8f047678bb1f4348069f31d",
            "placeholder": "​",
            "style": "IPY_MODEL_5eeb3bca8925404192b21cb14e3168a9",
            "value": " 999/999 [10:51&lt;00:00,  1.47it/s]"
          }
        },
        "afeabe62092c4420ba2c8dda33a3a02b": {
          "model_module": "@jupyter-widgets/base",
          "model_name": "LayoutModel",
          "model_module_version": "1.2.0",
          "state": {
            "_model_module": "@jupyter-widgets/base",
            "_model_module_version": "1.2.0",
            "_model_name": "LayoutModel",
            "_view_count": null,
            "_view_module": "@jupyter-widgets/base",
            "_view_module_version": "1.2.0",
            "_view_name": "LayoutView",
            "align_content": null,
            "align_items": null,
            "align_self": null,
            "border": null,
            "bottom": null,
            "display": null,
            "flex": null,
            "flex_flow": null,
            "grid_area": null,
            "grid_auto_columns": null,
            "grid_auto_flow": null,
            "grid_auto_rows": null,
            "grid_column": null,
            "grid_gap": null,
            "grid_row": null,
            "grid_template_areas": null,
            "grid_template_columns": null,
            "grid_template_rows": null,
            "height": null,
            "justify_content": null,
            "justify_items": null,
            "left": null,
            "margin": null,
            "max_height": null,
            "max_width": null,
            "min_height": null,
            "min_width": null,
            "object_fit": null,
            "object_position": null,
            "order": null,
            "overflow": null,
            "overflow_x": null,
            "overflow_y": null,
            "padding": null,
            "right": null,
            "top": null,
            "visibility": null,
            "width": null
          }
        },
        "7018acefd5ec4e08a0ed3cf570b351ba": {
          "model_module": "@jupyter-widgets/base",
          "model_name": "LayoutModel",
          "model_module_version": "1.2.0",
          "state": {
            "_model_module": "@jupyter-widgets/base",
            "_model_module_version": "1.2.0",
            "_model_name": "LayoutModel",
            "_view_count": null,
            "_view_module": "@jupyter-widgets/base",
            "_view_module_version": "1.2.0",
            "_view_name": "LayoutView",
            "align_content": null,
            "align_items": null,
            "align_self": null,
            "border": null,
            "bottom": null,
            "display": null,
            "flex": null,
            "flex_flow": null,
            "grid_area": null,
            "grid_auto_columns": null,
            "grid_auto_flow": null,
            "grid_auto_rows": null,
            "grid_column": null,
            "grid_gap": null,
            "grid_row": null,
            "grid_template_areas": null,
            "grid_template_columns": null,
            "grid_template_rows": null,
            "height": null,
            "justify_content": null,
            "justify_items": null,
            "left": null,
            "margin": null,
            "max_height": null,
            "max_width": null,
            "min_height": null,
            "min_width": null,
            "object_fit": null,
            "object_position": null,
            "order": null,
            "overflow": null,
            "overflow_x": null,
            "overflow_y": null,
            "padding": null,
            "right": null,
            "top": null,
            "visibility": null,
            "width": null
          }
        },
        "e0be991e8aaa4b42867a82b1cc77f824": {
          "model_module": "@jupyter-widgets/controls",
          "model_name": "DescriptionStyleModel",
          "model_module_version": "1.5.0",
          "state": {
            "_model_module": "@jupyter-widgets/controls",
            "_model_module_version": "1.5.0",
            "_model_name": "DescriptionStyleModel",
            "_view_count": null,
            "_view_module": "@jupyter-widgets/base",
            "_view_module_version": "1.2.0",
            "_view_name": "StyleView",
            "description_width": ""
          }
        },
        "fcef8843a0204ad2a667c9d0ff9934d8": {
          "model_module": "@jupyter-widgets/base",
          "model_name": "LayoutModel",
          "model_module_version": "1.2.0",
          "state": {
            "_model_module": "@jupyter-widgets/base",
            "_model_module_version": "1.2.0",
            "_model_name": "LayoutModel",
            "_view_count": null,
            "_view_module": "@jupyter-widgets/base",
            "_view_module_version": "1.2.0",
            "_view_name": "LayoutView",
            "align_content": null,
            "align_items": null,
            "align_self": null,
            "border": null,
            "bottom": null,
            "display": null,
            "flex": null,
            "flex_flow": null,
            "grid_area": null,
            "grid_auto_columns": null,
            "grid_auto_flow": null,
            "grid_auto_rows": null,
            "grid_column": null,
            "grid_gap": null,
            "grid_row": null,
            "grid_template_areas": null,
            "grid_template_columns": null,
            "grid_template_rows": null,
            "height": null,
            "justify_content": null,
            "justify_items": null,
            "left": null,
            "margin": null,
            "max_height": null,
            "max_width": null,
            "min_height": null,
            "min_width": null,
            "object_fit": null,
            "object_position": null,
            "order": null,
            "overflow": null,
            "overflow_x": null,
            "overflow_y": null,
            "padding": null,
            "right": null,
            "top": null,
            "visibility": null,
            "width": null
          }
        },
        "e44efda92b3246978f780dab7263ec5f": {
          "model_module": "@jupyter-widgets/controls",
          "model_name": "ProgressStyleModel",
          "model_module_version": "1.5.0",
          "state": {
            "_model_module": "@jupyter-widgets/controls",
            "_model_module_version": "1.5.0",
            "_model_name": "ProgressStyleModel",
            "_view_count": null,
            "_view_module": "@jupyter-widgets/base",
            "_view_module_version": "1.2.0",
            "_view_name": "StyleView",
            "bar_color": null,
            "description_width": ""
          }
        },
        "9e0c19e1f8f047678bb1f4348069f31d": {
          "model_module": "@jupyter-widgets/base",
          "model_name": "LayoutModel",
          "model_module_version": "1.2.0",
          "state": {
            "_model_module": "@jupyter-widgets/base",
            "_model_module_version": "1.2.0",
            "_model_name": "LayoutModel",
            "_view_count": null,
            "_view_module": "@jupyter-widgets/base",
            "_view_module_version": "1.2.0",
            "_view_name": "LayoutView",
            "align_content": null,
            "align_items": null,
            "align_self": null,
            "border": null,
            "bottom": null,
            "display": null,
            "flex": null,
            "flex_flow": null,
            "grid_area": null,
            "grid_auto_columns": null,
            "grid_auto_flow": null,
            "grid_auto_rows": null,
            "grid_column": null,
            "grid_gap": null,
            "grid_row": null,
            "grid_template_areas": null,
            "grid_template_columns": null,
            "grid_template_rows": null,
            "height": null,
            "justify_content": null,
            "justify_items": null,
            "left": null,
            "margin": null,
            "max_height": null,
            "max_width": null,
            "min_height": null,
            "min_width": null,
            "object_fit": null,
            "object_position": null,
            "order": null,
            "overflow": null,
            "overflow_x": null,
            "overflow_y": null,
            "padding": null,
            "right": null,
            "top": null,
            "visibility": null,
            "width": null
          }
        },
        "5eeb3bca8925404192b21cb14e3168a9": {
          "model_module": "@jupyter-widgets/controls",
          "model_name": "DescriptionStyleModel",
          "model_module_version": "1.5.0",
          "state": {
            "_model_module": "@jupyter-widgets/controls",
            "_model_module_version": "1.5.0",
            "_model_name": "DescriptionStyleModel",
            "_view_count": null,
            "_view_module": "@jupyter-widgets/base",
            "_view_module_version": "1.2.0",
            "_view_name": "StyleView",
            "description_width": ""
          }
        }
      }
    }
  },
  "nbformat": 4,
  "nbformat_minor": 5
}